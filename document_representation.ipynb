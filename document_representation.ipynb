{
  "nbformat": 4,
  "nbformat_minor": 0,
  "metadata": {
    "colab": {
      "name": "document_representation.ipynb",
      "provenance": [],
      "collapsed_sections": [
        "oFumU0B8BpUe",
        "MfEvLTo0B4nw",
        "MAzC0GSWCFvX",
        "SoCSLAMWb2-x",
        "RVV3IGzkCiwg"
      ],
      "mount_file_id": "1yRmvpE16FKPrAR0kS9PT62h8bXQ1Ix66",
      "authorship_tag": "ABX9TyPv1NIs8bgPqQ/GZ82EWQYd",
      "include_colab_link": true
    },
    "kernelspec": {
      "name": "python3",
      "display_name": "Python 3"
    },
    "language_info": {
      "name": "python"
    }
  },
  "cells": [
    {
      "cell_type": "markdown",
      "metadata": {
        "id": "view-in-github",
        "colab_type": "text"
      },
      "source": [
        "<a href=\"https://colab.research.google.com/github/juned202/M.Tech.-Thesis-JUNED-/blob/main/document_representation.ipynb\" target=\"_parent\"><img src=\"https://colab.research.google.com/assets/colab-badge.svg\" alt=\"Open In Colab\"/></a>"
      ]
    },
    {
      "cell_type": "markdown",
      "source": [
        "# **Import libraries**"
      ],
      "metadata": {
        "id": "L8Cllc41Bd3n"
      }
    },
    {
      "cell_type": "code",
      "source": [
        "!pip install tensorflow==1.13.1\n",
        "!pip install keras==2.0.8\n",
        "!pip install h5py==2.10.0"
      ],
      "metadata": {
        "colab": {
          "base_uri": "https://localhost:8080/",
          "height": 1000
        },
        "id": "cMgNniBcJAzl",
        "outputId": "3de7be6e-ca34-4a44-be25-da0f6d795dc9"
      },
      "execution_count": null,
      "outputs": [
        {
          "output_type": "stream",
          "name": "stdout",
          "text": [
            "Looking in indexes: https://pypi.org/simple, https://us-python.pkg.dev/colab-wheels/public/simple/\n",
            "Collecting tensorflow==1.13.1\n",
            "  Downloading tensorflow-1.13.1-cp37-cp37m-manylinux1_x86_64.whl (92.6 MB)\n",
            "\u001b[K     |████████████████████████████████| 92.6 MB 81 kB/s \n",
            "\u001b[?25hRequirement already satisfied: wheel>=0.26 in /usr/local/lib/python3.7/dist-packages (from tensorflow==1.13.1) (0.37.1)\n",
            "Requirement already satisfied: grpcio>=1.8.6 in /usr/local/lib/python3.7/dist-packages (from tensorflow==1.13.1) (1.34.1)\n",
            "Collecting keras-applications>=1.0.6\n",
            "  Downloading Keras_Applications-1.0.8-py3-none-any.whl (50 kB)\n",
            "\u001b[K     |████████████████████████████████| 50 kB 7.5 MB/s \n",
            "\u001b[?25hRequirement already satisfied: astor>=0.6.0 in /usr/local/lib/python3.7/dist-packages (from tensorflow==1.13.1) (0.8.1)\n",
            "Requirement already satisfied: six>=1.10.0 in /usr/local/lib/python3.7/dist-packages (from tensorflow==1.13.1) (1.15.0)\n",
            "Requirement already satisfied: absl-py>=0.1.6 in /usr/local/lib/python3.7/dist-packages (from tensorflow==1.13.1) (0.15.0)\n",
            "Collecting tensorflow-estimator<1.14.0rc0,>=1.13.0\n",
            "  Downloading tensorflow_estimator-1.13.0-py2.py3-none-any.whl (367 kB)\n",
            "\u001b[K     |████████████████████████████████| 367 kB 53.3 MB/s \n",
            "\u001b[?25hRequirement already satisfied: termcolor>=1.1.0 in /usr/local/lib/python3.7/dist-packages (from tensorflow==1.13.1) (1.1.0)\n",
            "Requirement already satisfied: numpy>=1.13.3 in /usr/local/lib/python3.7/dist-packages (from tensorflow==1.13.1) (1.19.5)\n",
            "Collecting tensorboard<1.14.0,>=1.13.0\n",
            "  Downloading tensorboard-1.13.1-py3-none-any.whl (3.2 MB)\n",
            "\u001b[K     |████████████████████████████████| 3.2 MB 47.2 MB/s \n",
            "\u001b[?25hRequirement already satisfied: protobuf>=3.6.1 in /usr/local/lib/python3.7/dist-packages (from tensorflow==1.13.1) (3.17.3)\n",
            "Requirement already satisfied: keras-preprocessing>=1.0.5 in /usr/local/lib/python3.7/dist-packages (from tensorflow==1.13.1) (1.1.2)\n",
            "Requirement already satisfied: gast>=0.2.0 in /usr/local/lib/python3.7/dist-packages (from tensorflow==1.13.1) (0.4.0)\n",
            "Requirement already satisfied: h5py in /usr/local/lib/python3.7/dist-packages (from keras-applications>=1.0.6->tensorflow==1.13.1) (3.1.0)\n",
            "Requirement already satisfied: werkzeug>=0.11.15 in /usr/local/lib/python3.7/dist-packages (from tensorboard<1.14.0,>=1.13.0->tensorflow==1.13.1) (1.0.1)\n",
            "Requirement already satisfied: markdown>=2.6.8 in /usr/local/lib/python3.7/dist-packages (from tensorboard<1.14.0,>=1.13.0->tensorflow==1.13.1) (3.4.1)\n",
            "Requirement already satisfied: importlib-metadata>=4.4 in /usr/local/lib/python3.7/dist-packages (from markdown>=2.6.8->tensorboard<1.14.0,>=1.13.0->tensorflow==1.13.1) (4.12.0)\n",
            "Requirement already satisfied: typing-extensions>=3.6.4 in /usr/local/lib/python3.7/dist-packages (from importlib-metadata>=4.4->markdown>=2.6.8->tensorboard<1.14.0,>=1.13.0->tensorflow==1.13.1) (3.7.4.3)\n",
            "Requirement already satisfied: zipp>=0.5 in /usr/local/lib/python3.7/dist-packages (from importlib-metadata>=4.4->markdown>=2.6.8->tensorboard<1.14.0,>=1.13.0->tensorflow==1.13.1) (3.8.1)\n",
            "Collecting mock>=2.0.0\n",
            "  Downloading mock-4.0.3-py3-none-any.whl (28 kB)\n",
            "Requirement already satisfied: cached-property in /usr/local/lib/python3.7/dist-packages (from h5py->keras-applications>=1.0.6->tensorflow==1.13.1) (1.5.2)\n",
            "Installing collected packages: mock, tensorflow-estimator, tensorboard, keras-applications, tensorflow\n",
            "  Attempting uninstall: tensorflow-estimator\n",
            "    Found existing installation: tensorflow-estimator 2.5.0\n",
            "    Uninstalling tensorflow-estimator-2.5.0:\n",
            "      Successfully uninstalled tensorflow-estimator-2.5.0\n",
            "  Attempting uninstall: tensorboard\n",
            "    Found existing installation: tensorboard 2.8.0\n",
            "    Uninstalling tensorboard-2.8.0:\n",
            "      Successfully uninstalled tensorboard-2.8.0\n",
            "  Attempting uninstall: tensorflow\n",
            "    Found existing installation: tensorflow 2.5.3\n",
            "    Uninstalling tensorflow-2.5.3:\n",
            "      Successfully uninstalled tensorflow-2.5.3\n",
            "\u001b[31mERROR: pip's dependency resolver does not currently take into account all the packages that are installed. This behaviour is the source of the following dependency conflicts.\n",
            "tensorflow-text 2.5.0 requires tensorflow<2.6,>=2.5.0, but you have tensorflow 1.13.1 which is incompatible.\n",
            "kapre 0.3.7 requires tensorflow>=2.0.0, but you have tensorflow 1.13.1 which is incompatible.\u001b[0m\n",
            "Successfully installed keras-applications-1.0.8 mock-4.0.3 tensorboard-1.13.1 tensorflow-1.13.1 tensorflow-estimator-1.13.0\n"
          ]
        },
        {
          "output_type": "display_data",
          "data": {
            "application/vnd.colab-display-data+json": {
              "pip_warning": {
                "packages": [
                  "tensorboard",
                  "tensorflow"
                ]
              }
            }
          },
          "metadata": {}
        },
        {
          "output_type": "stream",
          "name": "stdout",
          "text": [
            "Looking in indexes: https://pypi.org/simple, https://us-python.pkg.dev/colab-wheels/public/simple/\n",
            "Collecting keras==2.0.8\n",
            "  Downloading Keras-2.0.8-py2.py3-none-any.whl (276 kB)\n",
            "\u001b[K     |████████████████████████████████| 276 kB 5.2 MB/s \n",
            "\u001b[?25hRequirement already satisfied: scipy>=0.14 in /usr/local/lib/python3.7/dist-packages (from keras==2.0.8) (1.7.3)\n",
            "Requirement already satisfied: pyyaml in /usr/local/lib/python3.7/dist-packages (from keras==2.0.8) (3.13)\n",
            "Requirement already satisfied: six>=1.9.0 in /usr/local/lib/python3.7/dist-packages (from keras==2.0.8) (1.15.0)\n",
            "Requirement already satisfied: numpy>=1.9.1 in /usr/local/lib/python3.7/dist-packages (from keras==2.0.8) (1.19.5)\n",
            "Installing collected packages: keras\n",
            "  Attempting uninstall: keras\n",
            "    Found existing installation: keras 2.8.0\n",
            "    Uninstalling keras-2.8.0:\n",
            "      Successfully uninstalled keras-2.8.0\n",
            "Successfully installed keras-2.0.8\n",
            "Looking in indexes: https://pypi.org/simple, https://us-python.pkg.dev/colab-wheels/public/simple/\n",
            "Collecting h5py==2.10.0\n",
            "  Downloading h5py-2.10.0-cp37-cp37m-manylinux1_x86_64.whl (2.9 MB)\n",
            "\u001b[K     |████████████████████████████████| 2.9 MB 5.2 MB/s \n",
            "\u001b[?25hRequirement already satisfied: numpy>=1.7 in /usr/local/lib/python3.7/dist-packages (from h5py==2.10.0) (1.19.5)\n",
            "Requirement already satisfied: six in /usr/local/lib/python3.7/dist-packages (from h5py==2.10.0) (1.15.0)\n",
            "Installing collected packages: h5py\n",
            "  Attempting uninstall: h5py\n",
            "    Found existing installation: h5py 3.1.0\n",
            "    Uninstalling h5py-3.1.0:\n",
            "      Successfully uninstalled h5py-3.1.0\n",
            "Successfully installed h5py-2.10.0\n"
          ]
        },
        {
          "output_type": "display_data",
          "data": {
            "application/vnd.colab-display-data+json": {
              "pip_warning": {
                "packages": [
                  "h5py"
                ]
              }
            }
          },
          "metadata": {}
        }
      ]
    },
    {
      "cell_type": "code",
      "source": [
        "!pip install --upgrade numpy\n",
        "!pip install --upgrade scipy\n",
        "!pip install --upgrade pandas"
      ],
      "metadata": {
        "colab": {
          "base_uri": "https://localhost:8080/",
          "height": 558
        },
        "id": "yjJUW9xMJbWD",
        "outputId": "71feb67a-da69-45fc-8044-c5abc2894572"
      },
      "execution_count": null,
      "outputs": [
        {
          "output_type": "stream",
          "name": "stdout",
          "text": [
            "Looking in indexes: https://pypi.org/simple, https://us-python.pkg.dev/colab-wheels/public/simple/\n",
            "Requirement already satisfied: numpy in /usr/local/lib/python3.7/dist-packages (1.19.5)\n",
            "Collecting numpy\n",
            "  Downloading numpy-1.21.6-cp37-cp37m-manylinux_2_12_x86_64.manylinux2010_x86_64.whl (15.7 MB)\n",
            "\u001b[K     |████████████████████████████████| 15.7 MB 5.2 MB/s \n",
            "\u001b[?25hInstalling collected packages: numpy\n",
            "  Attempting uninstall: numpy\n",
            "    Found existing installation: numpy 1.19.5\n",
            "    Uninstalling numpy-1.19.5:\n",
            "      Successfully uninstalled numpy-1.19.5\n",
            "\u001b[31mERROR: pip's dependency resolver does not currently take into account all the packages that are installed. This behaviour is the source of the following dependency conflicts.\n",
            "tensorflow-text 2.5.0 requires tensorflow<2.6,>=2.5.0, but you have tensorflow 1.13.1 which is incompatible.\n",
            "kapre 0.3.7 requires tensorflow>=2.0.0, but you have tensorflow 1.13.1 which is incompatible.\n",
            "datascience 0.10.6 requires folium==0.2.1, but you have folium 0.8.3 which is incompatible.\n",
            "albumentations 0.1.12 requires imgaug<0.2.7,>=0.2.5, but you have imgaug 0.2.9 which is incompatible.\u001b[0m\n",
            "Successfully installed numpy-1.21.6\n"
          ]
        },
        {
          "output_type": "display_data",
          "data": {
            "application/vnd.colab-display-data+json": {
              "pip_warning": {
                "packages": [
                  "numpy"
                ]
              }
            }
          },
          "metadata": {}
        },
        {
          "output_type": "stream",
          "name": "stdout",
          "text": [
            "Looking in indexes: https://pypi.org/simple, https://us-python.pkg.dev/colab-wheels/public/simple/\n",
            "Requirement already satisfied: scipy in /usr/local/lib/python3.7/dist-packages (1.7.3)\n",
            "Requirement already satisfied: numpy<1.23.0,>=1.16.5 in /usr/local/lib/python3.7/dist-packages (from scipy) (1.21.6)\n",
            "Looking in indexes: https://pypi.org/simple, https://us-python.pkg.dev/colab-wheels/public/simple/\n",
            "Requirement already satisfied: pandas in /usr/local/lib/python3.7/dist-packages (1.3.5)\n",
            "Requirement already satisfied: numpy>=1.17.3 in /usr/local/lib/python3.7/dist-packages (from pandas) (1.21.6)\n",
            "Requirement already satisfied: pytz>=2017.3 in /usr/local/lib/python3.7/dist-packages (from pandas) (2022.1)\n",
            "Requirement already satisfied: python-dateutil>=2.7.3 in /usr/local/lib/python3.7/dist-packages (from pandas) (2.8.2)\n",
            "Requirement already satisfied: six>=1.5 in /usr/local/lib/python3.7/dist-packages (from python-dateutil>=2.7.3->pandas) (1.15.0)\n"
          ]
        }
      ]
    },
    {
      "cell_type": "code",
      "source": [
        "!pip install nltk\n",
        "!pip install gensim"
      ],
      "metadata": {
        "colab": {
          "base_uri": "https://localhost:8080/"
        },
        "id": "CyGFULCxBaC9",
        "outputId": "bd096fb2-1b6c-4ba5-f29e-c2be5d88741e"
      },
      "execution_count": null,
      "outputs": [
        {
          "output_type": "stream",
          "name": "stdout",
          "text": [
            "Looking in indexes: https://pypi.org/simple, https://us-python.pkg.dev/colab-wheels/public/simple/\n",
            "Requirement already satisfied: nltk in /usr/local/lib/python3.7/dist-packages (3.7)\n",
            "Requirement already satisfied: regex>=2021.8.3 in /usr/local/lib/python3.7/dist-packages (from nltk) (2022.6.2)\n",
            "Requirement already satisfied: tqdm in /usr/local/lib/python3.7/dist-packages (from nltk) (4.64.0)\n",
            "Requirement already satisfied: click in /usr/local/lib/python3.7/dist-packages (from nltk) (7.1.2)\n",
            "Requirement already satisfied: joblib in /usr/local/lib/python3.7/dist-packages (from nltk) (1.1.0)\n",
            "Looking in indexes: https://pypi.org/simple, https://us-python.pkg.dev/colab-wheels/public/simple/\n",
            "Requirement already satisfied: gensim in /usr/local/lib/python3.7/dist-packages (3.6.0)\n",
            "Requirement already satisfied: smart-open>=1.2.1 in /usr/local/lib/python3.7/dist-packages (from gensim) (5.2.1)\n",
            "Requirement already satisfied: numpy>=1.11.3 in /usr/local/lib/python3.7/dist-packages (from gensim) (1.19.5)\n",
            "Requirement already satisfied: six>=1.5.0 in /usr/local/lib/python3.7/dist-packages (from gensim) (1.15.0)\n",
            "Requirement already satisfied: scipy>=0.18.1 in /usr/local/lib/python3.7/dist-packages (from gensim) (1.7.3)\n"
          ]
        }
      ]
    },
    {
      "cell_type": "code",
      "execution_count": 2,
      "metadata": {
        "id": "ERYMESM7A9Wm"
      },
      "outputs": [],
      "source": [
        "from keras.preprocessing.text import Tokenizer\n",
        "from sklearn.feature_extraction.text import TfidfVectorizer\n",
        "import os\n",
        "import pandas as pd\n",
        "import numpy as np\n",
        "from gensim.parsing.preprocessing import preprocess_string\n",
        "from gensim.utils import simple_preprocess\n",
        "from gensim.models import Word2Vec\n",
        "from sklearn.feature_extraction.text import TfidfVectorizer\n",
        "import pandas as pd\n",
        "import numpy as np\n",
        "import json\n",
        "import nltk\n",
        "from gensim.models import doc2vec\n",
        "from gensim.test.utils import common_texts\n",
        "from gensim.models.doc2vec import Doc2Vec, TaggedDocument"
      ]
    },
    {
      "cell_type": "markdown",
      "source": [
        "# BOW"
      ],
      "metadata": {
        "id": "oFumU0B8BpUe"
      }
    },
    {
      "cell_type": "code",
      "source": [
        "import pandas as pd\n",
        "from sklearn.feature_extraction.text import CountVectorizer, TfidfVectorizer"
      ],
      "metadata": {
        "id": "MpjUypQsmSNB"
      },
      "execution_count": null,
      "outputs": []
    },
    {
      "cell_type": "code",
      "source": [
        "def bow(path):\n",
        "       \n",
        "      # extract data from the path\n",
        "      data = []\n",
        "      for line in open(path, 'r'):\n",
        "          data.append(json.loads(line))\n",
        "      num=len(data)\n",
        "\n",
        "      # data preprocessing\n",
        "\n",
        "      doc_preprocess = []\n",
        "      for x in range(num):\n",
        "          text=(data[x]['_source']['title'])\n",
        "          doc_preprocess.append((text))\n",
        "      CountVec = CountVectorizer(ngram_range=(1,1), # to use bigrams ngram_range=(2,2)\n",
        "                                stop_words='english')\n",
        "      #transform\n",
        "      Count_data = CountVec.fit_transform(doc_preprocess)\n",
        "      \n",
        "      #create dataframe\n",
        "      cv_dataframe=pd.DataFrame(Count_data.toarray(),columns=CountVec.get_feature_names())\n",
        "      return cv_dataframe"
      ],
      "metadata": {
        "id": "kIi2GJ2Fk9eG"
      },
      "execution_count": null,
      "outputs": []
    },
    {
      "cell_type": "code",
      "source": [
        "data=bow('/content/drive/Shareddrives/M.Tech.Thesis(Juned)/DATASET/es_demo.json')"
      ],
      "metadata": {
        "colab": {
          "base_uri": "https://localhost:8080/"
        },
        "id": "etjThvZEmdSu",
        "outputId": "a8e708dc-0578-4c33-8e5e-bc15f90d8f71"
      },
      "execution_count": null,
      "outputs": [
        {
          "output_type": "stream",
          "name": "stderr",
          "text": [
            "/usr/local/lib/python3.7/dist-packages/sklearn/utils/deprecation.py:87: FutureWarning: Function get_feature_names is deprecated; get_feature_names is deprecated in 1.0 and will be removed in 1.2. Please use get_feature_names_out instead.\n",
            "  warnings.warn(msg, category=FutureWarning)\n"
          ]
        }
      ]
    },
    {
      "cell_type": "code",
      "source": [
        "#top 5 words of each documents\n",
        "df = data.iloc[:5,:]\n",
        "max_value = df.apply(pd.Series.nlargest, axis=1, n=5)\n",
        "max_value "
      ],
      "metadata": {
        "colab": {
          "base_uri": "https://localhost:8080/",
          "height": 299
        },
        "id": "Mi1h7h9amvS9",
        "outputId": "a2a3b44d-102d-44f6-ea4b-26ae13c3494a"
      },
      "execution_count": null,
      "outputs": [
        {
          "output_type": "execute_result",
          "data": {
            "text/plain": [
              "   asymmetric  aware  based  context  core  coupled  damage  detection  \\\n",
              "0         NaN    NaN    1.0      NaN   NaN      NaN     1.0        1.0   \n",
              "1         NaN    1.0    NaN      1.0   NaN      1.0     NaN        NaN   \n",
              "2         NaN    NaN    NaN      NaN   NaN      NaN     NaN        NaN   \n",
              "3         NaN    NaN    1.0      NaN   NaN      NaN     NaN        NaN   \n",
              "4         1.0    NaN    NaN      NaN   1.0      NaN     NaN        NaN   \n",
              "\n",
              "   determination  double  ...  field  gan  hydraulic  lidar  light  \\\n",
              "0            NaN     NaN  ...    NaN  NaN        NaN    NaN    NaN   \n",
              "1            NaN     NaN  ...    NaN  NaN        NaN    NaN    NaN   \n",
              "2            NaN     NaN  ...    1.0  1.0        NaN    NaN    1.0   \n",
              "3            1.0     NaN  ...    NaN  NaN        NaN    1.0    NaN   \n",
              "4            NaN     1.0  ...    NaN  NaN        1.0    NaN    NaN   \n",
              "\n",
              "   maneuvering  matrix  model  multiagent  pose  \n",
              "0          NaN     NaN    NaN         NaN   NaN  \n",
              "1          NaN     1.0    NaN         NaN   NaN  \n",
              "2          1.0     NaN    NaN         1.0   NaN  \n",
              "3          NaN     NaN    1.0         NaN   1.0  \n",
              "4          NaN     NaN    NaN         NaN   NaN  \n",
              "\n",
              "[5 rows x 24 columns]"
            ],
            "text/html": [
              "\n",
              "  <div id=\"df-f6b26664-b7b4-4835-a40b-256d264ce8b9\">\n",
              "    <div class=\"colab-df-container\">\n",
              "      <div>\n",
              "<style scoped>\n",
              "    .dataframe tbody tr th:only-of-type {\n",
              "        vertical-align: middle;\n",
              "    }\n",
              "\n",
              "    .dataframe tbody tr th {\n",
              "        vertical-align: top;\n",
              "    }\n",
              "\n",
              "    .dataframe thead th {\n",
              "        text-align: right;\n",
              "    }\n",
              "</style>\n",
              "<table border=\"1\" class=\"dataframe\">\n",
              "  <thead>\n",
              "    <tr style=\"text-align: right;\">\n",
              "      <th></th>\n",
              "      <th>asymmetric</th>\n",
              "      <th>aware</th>\n",
              "      <th>based</th>\n",
              "      <th>context</th>\n",
              "      <th>core</th>\n",
              "      <th>coupled</th>\n",
              "      <th>damage</th>\n",
              "      <th>detection</th>\n",
              "      <th>determination</th>\n",
              "      <th>double</th>\n",
              "      <th>...</th>\n",
              "      <th>field</th>\n",
              "      <th>gan</th>\n",
              "      <th>hydraulic</th>\n",
              "      <th>lidar</th>\n",
              "      <th>light</th>\n",
              "      <th>maneuvering</th>\n",
              "      <th>matrix</th>\n",
              "      <th>model</th>\n",
              "      <th>multiagent</th>\n",
              "      <th>pose</th>\n",
              "    </tr>\n",
              "  </thead>\n",
              "  <tbody>\n",
              "    <tr>\n",
              "      <th>0</th>\n",
              "      <td>NaN</td>\n",
              "      <td>NaN</td>\n",
              "      <td>1.0</td>\n",
              "      <td>NaN</td>\n",
              "      <td>NaN</td>\n",
              "      <td>NaN</td>\n",
              "      <td>1.0</td>\n",
              "      <td>1.0</td>\n",
              "      <td>NaN</td>\n",
              "      <td>NaN</td>\n",
              "      <td>...</td>\n",
              "      <td>NaN</td>\n",
              "      <td>NaN</td>\n",
              "      <td>NaN</td>\n",
              "      <td>NaN</td>\n",
              "      <td>NaN</td>\n",
              "      <td>NaN</td>\n",
              "      <td>NaN</td>\n",
              "      <td>NaN</td>\n",
              "      <td>NaN</td>\n",
              "      <td>NaN</td>\n",
              "    </tr>\n",
              "    <tr>\n",
              "      <th>1</th>\n",
              "      <td>NaN</td>\n",
              "      <td>1.0</td>\n",
              "      <td>NaN</td>\n",
              "      <td>1.0</td>\n",
              "      <td>NaN</td>\n",
              "      <td>1.0</td>\n",
              "      <td>NaN</td>\n",
              "      <td>NaN</td>\n",
              "      <td>NaN</td>\n",
              "      <td>NaN</td>\n",
              "      <td>...</td>\n",
              "      <td>NaN</td>\n",
              "      <td>NaN</td>\n",
              "      <td>NaN</td>\n",
              "      <td>NaN</td>\n",
              "      <td>NaN</td>\n",
              "      <td>NaN</td>\n",
              "      <td>1.0</td>\n",
              "      <td>NaN</td>\n",
              "      <td>NaN</td>\n",
              "      <td>NaN</td>\n",
              "    </tr>\n",
              "    <tr>\n",
              "      <th>2</th>\n",
              "      <td>NaN</td>\n",
              "      <td>NaN</td>\n",
              "      <td>NaN</td>\n",
              "      <td>NaN</td>\n",
              "      <td>NaN</td>\n",
              "      <td>NaN</td>\n",
              "      <td>NaN</td>\n",
              "      <td>NaN</td>\n",
              "      <td>NaN</td>\n",
              "      <td>NaN</td>\n",
              "      <td>...</td>\n",
              "      <td>1.0</td>\n",
              "      <td>1.0</td>\n",
              "      <td>NaN</td>\n",
              "      <td>NaN</td>\n",
              "      <td>1.0</td>\n",
              "      <td>1.0</td>\n",
              "      <td>NaN</td>\n",
              "      <td>NaN</td>\n",
              "      <td>1.0</td>\n",
              "      <td>NaN</td>\n",
              "    </tr>\n",
              "    <tr>\n",
              "      <th>3</th>\n",
              "      <td>NaN</td>\n",
              "      <td>NaN</td>\n",
              "      <td>1.0</td>\n",
              "      <td>NaN</td>\n",
              "      <td>NaN</td>\n",
              "      <td>NaN</td>\n",
              "      <td>NaN</td>\n",
              "      <td>NaN</td>\n",
              "      <td>1.0</td>\n",
              "      <td>NaN</td>\n",
              "      <td>...</td>\n",
              "      <td>NaN</td>\n",
              "      <td>NaN</td>\n",
              "      <td>NaN</td>\n",
              "      <td>1.0</td>\n",
              "      <td>NaN</td>\n",
              "      <td>NaN</td>\n",
              "      <td>NaN</td>\n",
              "      <td>1.0</td>\n",
              "      <td>NaN</td>\n",
              "      <td>1.0</td>\n",
              "    </tr>\n",
              "    <tr>\n",
              "      <th>4</th>\n",
              "      <td>1.0</td>\n",
              "      <td>NaN</td>\n",
              "      <td>NaN</td>\n",
              "      <td>NaN</td>\n",
              "      <td>1.0</td>\n",
              "      <td>NaN</td>\n",
              "      <td>NaN</td>\n",
              "      <td>NaN</td>\n",
              "      <td>NaN</td>\n",
              "      <td>1.0</td>\n",
              "      <td>...</td>\n",
              "      <td>NaN</td>\n",
              "      <td>NaN</td>\n",
              "      <td>1.0</td>\n",
              "      <td>NaN</td>\n",
              "      <td>NaN</td>\n",
              "      <td>NaN</td>\n",
              "      <td>NaN</td>\n",
              "      <td>NaN</td>\n",
              "      <td>NaN</td>\n",
              "      <td>NaN</td>\n",
              "    </tr>\n",
              "  </tbody>\n",
              "</table>\n",
              "<p>5 rows × 24 columns</p>\n",
              "</div>\n",
              "      <button class=\"colab-df-convert\" onclick=\"convertToInteractive('df-f6b26664-b7b4-4835-a40b-256d264ce8b9')\"\n",
              "              title=\"Convert this dataframe to an interactive table.\"\n",
              "              style=\"display:none;\">\n",
              "        \n",
              "  <svg xmlns=\"http://www.w3.org/2000/svg\" height=\"24px\"viewBox=\"0 0 24 24\"\n",
              "       width=\"24px\">\n",
              "    <path d=\"M0 0h24v24H0V0z\" fill=\"none\"/>\n",
              "    <path d=\"M18.56 5.44l.94 2.06.94-2.06 2.06-.94-2.06-.94-.94-2.06-.94 2.06-2.06.94zm-11 1L8.5 8.5l.94-2.06 2.06-.94-2.06-.94L8.5 2.5l-.94 2.06-2.06.94zm10 10l.94 2.06.94-2.06 2.06-.94-2.06-.94-.94-2.06-.94 2.06-2.06.94z\"/><path d=\"M17.41 7.96l-1.37-1.37c-.4-.4-.92-.59-1.43-.59-.52 0-1.04.2-1.43.59L10.3 9.45l-7.72 7.72c-.78.78-.78 2.05 0 2.83L4 21.41c.39.39.9.59 1.41.59.51 0 1.02-.2 1.41-.59l7.78-7.78 2.81-2.81c.8-.78.8-2.07 0-2.86zM5.41 20L4 18.59l7.72-7.72 1.47 1.35L5.41 20z\"/>\n",
              "  </svg>\n",
              "      </button>\n",
              "      \n",
              "  <style>\n",
              "    .colab-df-container {\n",
              "      display:flex;\n",
              "      flex-wrap:wrap;\n",
              "      gap: 12px;\n",
              "    }\n",
              "\n",
              "    .colab-df-convert {\n",
              "      background-color: #E8F0FE;\n",
              "      border: none;\n",
              "      border-radius: 50%;\n",
              "      cursor: pointer;\n",
              "      display: none;\n",
              "      fill: #1967D2;\n",
              "      height: 32px;\n",
              "      padding: 0 0 0 0;\n",
              "      width: 32px;\n",
              "    }\n",
              "\n",
              "    .colab-df-convert:hover {\n",
              "      background-color: #E2EBFA;\n",
              "      box-shadow: 0px 1px 2px rgba(60, 64, 67, 0.3), 0px 1px 3px 1px rgba(60, 64, 67, 0.15);\n",
              "      fill: #174EA6;\n",
              "    }\n",
              "\n",
              "    [theme=dark] .colab-df-convert {\n",
              "      background-color: #3B4455;\n",
              "      fill: #D2E3FC;\n",
              "    }\n",
              "\n",
              "    [theme=dark] .colab-df-convert:hover {\n",
              "      background-color: #434B5C;\n",
              "      box-shadow: 0px 1px 3px 1px rgba(0, 0, 0, 0.15);\n",
              "      filter: drop-shadow(0px 1px 2px rgba(0, 0, 0, 0.3));\n",
              "      fill: #FFFFFF;\n",
              "    }\n",
              "  </style>\n",
              "\n",
              "      <script>\n",
              "        const buttonEl =\n",
              "          document.querySelector('#df-f6b26664-b7b4-4835-a40b-256d264ce8b9 button.colab-df-convert');\n",
              "        buttonEl.style.display =\n",
              "          google.colab.kernel.accessAllowed ? 'block' : 'none';\n",
              "\n",
              "        async function convertToInteractive(key) {\n",
              "          const element = document.querySelector('#df-f6b26664-b7b4-4835-a40b-256d264ce8b9');\n",
              "          const dataTable =\n",
              "            await google.colab.kernel.invokeFunction('convertToInteractive',\n",
              "                                                     [key], {});\n",
              "          if (!dataTable) return;\n",
              "\n",
              "          const docLinkHtml = 'Like what you see? Visit the ' +\n",
              "            '<a target=\"_blank\" href=https://colab.research.google.com/notebooks/data_table.ipynb>data table notebook</a>'\n",
              "            + ' to learn more about interactive tables.';\n",
              "          element.innerHTML = '';\n",
              "          dataTable['output_type'] = 'display_data';\n",
              "          await google.colab.output.renderOutput(dataTable, element);\n",
              "          const docLink = document.createElement('div');\n",
              "          docLink.innerHTML = docLinkHtml;\n",
              "          element.appendChild(docLink);\n",
              "        }\n",
              "      </script>\n",
              "    </div>\n",
              "  </div>\n",
              "  "
            ]
          },
          "metadata": {},
          "execution_count": 8
        }
      ]
    },
    {
      "cell_type": "markdown",
      "source": [
        "# Tf_Idf"
      ],
      "metadata": {
        "id": "MfEvLTo0B4nw"
      }
    },
    {
      "cell_type": "code",
      "source": [
        "def tfidf(path):\n",
        "       \n",
        "      # extract data from the path\n",
        "      data = []\n",
        "      for line in open(path, 'r'):\n",
        "          data.append(json.loads(line))\n",
        "      num=len(data)\n",
        "\n",
        "      # data preprocessing\n",
        "\n",
        "      doc_preprocess = []\n",
        "      for x in range(num):\n",
        "          text=(data[x]['_source']['title'])\n",
        "          doc_preprocess.append((text))\n",
        "          \n",
        "      # calculate tfidf using sklearn\n",
        "      \n",
        "      tfvec = TfidfVectorizer()\n",
        "      tidf= tfvec.fit_transform(doc_preprocess)\n",
        "      frame = pd.DataFrame(tidf.toarray(), columns = tfvec.get_feature_names_out())\n",
        "      return frame\n"
      ],
      "metadata": {
        "id": "-kM02LPmB73m"
      },
      "execution_count": null,
      "outputs": []
    },
    {
      "cell_type": "code",
      "source": [
        "vector=tfidf('/content/drive/Shareddrives/M.Tech.Thesis(Juned)/DATASET/es_demo.json')"
      ],
      "metadata": {
        "id": "6Gkkhs8qCARN"
      },
      "execution_count": null,
      "outputs": []
    },
    {
      "cell_type": "code",
      "source": [
        "#top 5 words of each documents\n",
        "df = vector.iloc[:5,:]\n",
        "max_value = df.apply(pd.Series.nlargest, axis=1, n=5)\n",
        "max_value "
      ],
      "metadata": {
        "colab": {
          "base_uri": "https://localhost:8080/",
          "height": 299
        },
        "id": "J4ngaxUHCC5v",
        "outputId": "508bcdd2-8ab3-4bb9-fd3a-6a8a498510e2"
      },
      "execution_count": null,
      "outputs": [
        {
          "output_type": "execute_result",
          "data": {
            "text/plain": [
              "   asymmetric   context   coupled    damage  determination    double  \\\n",
              "0         NaN       NaN       NaN  0.294692            NaN       NaN   \n",
              "1         NaN  0.311072  0.340013       NaN            NaN       NaN   \n",
              "2         NaN       NaN       NaN       NaN            NaN       NaN   \n",
              "3         NaN       NaN       NaN       NaN       0.384172       NaN   \n",
              "4    0.406631       NaN       NaN       NaN            NaN  0.369221   \n",
              "\n",
              "   factorization       gan  hydraulic  insulator  ...    pillar  porcelain  \\\n",
              "0            NaN       NaN        NaN   0.343467  ...  0.405657   0.421325   \n",
              "1       0.359182       NaN        NaN        NaN  ...       NaN        NaN   \n",
              "2            NaN  0.392611        NaN        NaN  ...       NaN        NaN   \n",
              "3            NaN       NaN        NaN        NaN  ...       NaN        NaN   \n",
              "4            NaN       NaN   0.486515        NaN  ...       NaN        NaN   \n",
              "\n",
              "       pose  pressure  reconstruction   retweet   sensing  spacecraft  \\\n",
              "0       NaN       NaN             NaN       NaN       NaN         NaN   \n",
              "1       NaN       NaN             NaN  0.528736       NaN         NaN   \n",
              "2       NaN       NaN             NaN       NaN       NaN         NaN   \n",
              "3  0.457009       NaN        0.320949       NaN       NaN    0.544494   \n",
              "4       NaN  0.397277             NaN       NaN  0.326896         NaN   \n",
              "\n",
              "     target    tensor  \n",
              "0       NaN       NaN  \n",
              "1       NaN  0.354963  \n",
              "2  0.315146       NaN  \n",
              "3       NaN       NaN  \n",
              "4       NaN       NaN  \n",
              "\n",
              "[5 rows x 25 columns]"
            ],
            "text/html": [
              "\n",
              "  <div id=\"df-73d9e3c0-e040-4728-a570-608d7030a835\">\n",
              "    <div class=\"colab-df-container\">\n",
              "      <div>\n",
              "<style scoped>\n",
              "    .dataframe tbody tr th:only-of-type {\n",
              "        vertical-align: middle;\n",
              "    }\n",
              "\n",
              "    .dataframe tbody tr th {\n",
              "        vertical-align: top;\n",
              "    }\n",
              "\n",
              "    .dataframe thead th {\n",
              "        text-align: right;\n",
              "    }\n",
              "</style>\n",
              "<table border=\"1\" class=\"dataframe\">\n",
              "  <thead>\n",
              "    <tr style=\"text-align: right;\">\n",
              "      <th></th>\n",
              "      <th>asymmetric</th>\n",
              "      <th>context</th>\n",
              "      <th>coupled</th>\n",
              "      <th>damage</th>\n",
              "      <th>determination</th>\n",
              "      <th>double</th>\n",
              "      <th>factorization</th>\n",
              "      <th>gan</th>\n",
              "      <th>hydraulic</th>\n",
              "      <th>insulator</th>\n",
              "      <th>...</th>\n",
              "      <th>pillar</th>\n",
              "      <th>porcelain</th>\n",
              "      <th>pose</th>\n",
              "      <th>pressure</th>\n",
              "      <th>reconstruction</th>\n",
              "      <th>retweet</th>\n",
              "      <th>sensing</th>\n",
              "      <th>spacecraft</th>\n",
              "      <th>target</th>\n",
              "      <th>tensor</th>\n",
              "    </tr>\n",
              "  </thead>\n",
              "  <tbody>\n",
              "    <tr>\n",
              "      <th>0</th>\n",
              "      <td>NaN</td>\n",
              "      <td>NaN</td>\n",
              "      <td>NaN</td>\n",
              "      <td>0.294692</td>\n",
              "      <td>NaN</td>\n",
              "      <td>NaN</td>\n",
              "      <td>NaN</td>\n",
              "      <td>NaN</td>\n",
              "      <td>NaN</td>\n",
              "      <td>0.343467</td>\n",
              "      <td>...</td>\n",
              "      <td>0.405657</td>\n",
              "      <td>0.421325</td>\n",
              "      <td>NaN</td>\n",
              "      <td>NaN</td>\n",
              "      <td>NaN</td>\n",
              "      <td>NaN</td>\n",
              "      <td>NaN</td>\n",
              "      <td>NaN</td>\n",
              "      <td>NaN</td>\n",
              "      <td>NaN</td>\n",
              "    </tr>\n",
              "    <tr>\n",
              "      <th>1</th>\n",
              "      <td>NaN</td>\n",
              "      <td>0.311072</td>\n",
              "      <td>0.340013</td>\n",
              "      <td>NaN</td>\n",
              "      <td>NaN</td>\n",
              "      <td>NaN</td>\n",
              "      <td>0.359182</td>\n",
              "      <td>NaN</td>\n",
              "      <td>NaN</td>\n",
              "      <td>NaN</td>\n",
              "      <td>...</td>\n",
              "      <td>NaN</td>\n",
              "      <td>NaN</td>\n",
              "      <td>NaN</td>\n",
              "      <td>NaN</td>\n",
              "      <td>NaN</td>\n",
              "      <td>0.528736</td>\n",
              "      <td>NaN</td>\n",
              "      <td>NaN</td>\n",
              "      <td>NaN</td>\n",
              "      <td>0.354963</td>\n",
              "    </tr>\n",
              "    <tr>\n",
              "      <th>2</th>\n",
              "      <td>NaN</td>\n",
              "      <td>NaN</td>\n",
              "      <td>NaN</td>\n",
              "      <td>NaN</td>\n",
              "      <td>NaN</td>\n",
              "      <td>NaN</td>\n",
              "      <td>NaN</td>\n",
              "      <td>0.392611</td>\n",
              "      <td>NaN</td>\n",
              "      <td>NaN</td>\n",
              "      <td>...</td>\n",
              "      <td>NaN</td>\n",
              "      <td>NaN</td>\n",
              "      <td>NaN</td>\n",
              "      <td>NaN</td>\n",
              "      <td>NaN</td>\n",
              "      <td>NaN</td>\n",
              "      <td>NaN</td>\n",
              "      <td>NaN</td>\n",
              "      <td>0.315146</td>\n",
              "      <td>NaN</td>\n",
              "    </tr>\n",
              "    <tr>\n",
              "      <th>3</th>\n",
              "      <td>NaN</td>\n",
              "      <td>NaN</td>\n",
              "      <td>NaN</td>\n",
              "      <td>NaN</td>\n",
              "      <td>0.384172</td>\n",
              "      <td>NaN</td>\n",
              "      <td>NaN</td>\n",
              "      <td>NaN</td>\n",
              "      <td>NaN</td>\n",
              "      <td>NaN</td>\n",
              "      <td>...</td>\n",
              "      <td>NaN</td>\n",
              "      <td>NaN</td>\n",
              "      <td>0.457009</td>\n",
              "      <td>NaN</td>\n",
              "      <td>0.320949</td>\n",
              "      <td>NaN</td>\n",
              "      <td>NaN</td>\n",
              "      <td>0.544494</td>\n",
              "      <td>NaN</td>\n",
              "      <td>NaN</td>\n",
              "    </tr>\n",
              "    <tr>\n",
              "      <th>4</th>\n",
              "      <td>0.406631</td>\n",
              "      <td>NaN</td>\n",
              "      <td>NaN</td>\n",
              "      <td>NaN</td>\n",
              "      <td>NaN</td>\n",
              "      <td>0.369221</td>\n",
              "      <td>NaN</td>\n",
              "      <td>NaN</td>\n",
              "      <td>0.486515</td>\n",
              "      <td>NaN</td>\n",
              "      <td>...</td>\n",
              "      <td>NaN</td>\n",
              "      <td>NaN</td>\n",
              "      <td>NaN</td>\n",
              "      <td>0.397277</td>\n",
              "      <td>NaN</td>\n",
              "      <td>NaN</td>\n",
              "      <td>0.326896</td>\n",
              "      <td>NaN</td>\n",
              "      <td>NaN</td>\n",
              "      <td>NaN</td>\n",
              "    </tr>\n",
              "  </tbody>\n",
              "</table>\n",
              "<p>5 rows × 25 columns</p>\n",
              "</div>\n",
              "      <button class=\"colab-df-convert\" onclick=\"convertToInteractive('df-73d9e3c0-e040-4728-a570-608d7030a835')\"\n",
              "              title=\"Convert this dataframe to an interactive table.\"\n",
              "              style=\"display:none;\">\n",
              "        \n",
              "  <svg xmlns=\"http://www.w3.org/2000/svg\" height=\"24px\"viewBox=\"0 0 24 24\"\n",
              "       width=\"24px\">\n",
              "    <path d=\"M0 0h24v24H0V0z\" fill=\"none\"/>\n",
              "    <path d=\"M18.56 5.44l.94 2.06.94-2.06 2.06-.94-2.06-.94-.94-2.06-.94 2.06-2.06.94zm-11 1L8.5 8.5l.94-2.06 2.06-.94-2.06-.94L8.5 2.5l-.94 2.06-2.06.94zm10 10l.94 2.06.94-2.06 2.06-.94-2.06-.94-.94-2.06-.94 2.06-2.06.94z\"/><path d=\"M17.41 7.96l-1.37-1.37c-.4-.4-.92-.59-1.43-.59-.52 0-1.04.2-1.43.59L10.3 9.45l-7.72 7.72c-.78.78-.78 2.05 0 2.83L4 21.41c.39.39.9.59 1.41.59.51 0 1.02-.2 1.41-.59l7.78-7.78 2.81-2.81c.8-.78.8-2.07 0-2.86zM5.41 20L4 18.59l7.72-7.72 1.47 1.35L5.41 20z\"/>\n",
              "  </svg>\n",
              "      </button>\n",
              "      \n",
              "  <style>\n",
              "    .colab-df-container {\n",
              "      display:flex;\n",
              "      flex-wrap:wrap;\n",
              "      gap: 12px;\n",
              "    }\n",
              "\n",
              "    .colab-df-convert {\n",
              "      background-color: #E8F0FE;\n",
              "      border: none;\n",
              "      border-radius: 50%;\n",
              "      cursor: pointer;\n",
              "      display: none;\n",
              "      fill: #1967D2;\n",
              "      height: 32px;\n",
              "      padding: 0 0 0 0;\n",
              "      width: 32px;\n",
              "    }\n",
              "\n",
              "    .colab-df-convert:hover {\n",
              "      background-color: #E2EBFA;\n",
              "      box-shadow: 0px 1px 2px rgba(60, 64, 67, 0.3), 0px 1px 3px 1px rgba(60, 64, 67, 0.15);\n",
              "      fill: #174EA6;\n",
              "    }\n",
              "\n",
              "    [theme=dark] .colab-df-convert {\n",
              "      background-color: #3B4455;\n",
              "      fill: #D2E3FC;\n",
              "    }\n",
              "\n",
              "    [theme=dark] .colab-df-convert:hover {\n",
              "      background-color: #434B5C;\n",
              "      box-shadow: 0px 1px 3px 1px rgba(0, 0, 0, 0.15);\n",
              "      filter: drop-shadow(0px 1px 2px rgba(0, 0, 0, 0.3));\n",
              "      fill: #FFFFFF;\n",
              "    }\n",
              "  </style>\n",
              "\n",
              "      <script>\n",
              "        const buttonEl =\n",
              "          document.querySelector('#df-73d9e3c0-e040-4728-a570-608d7030a835 button.colab-df-convert');\n",
              "        buttonEl.style.display =\n",
              "          google.colab.kernel.accessAllowed ? 'block' : 'none';\n",
              "\n",
              "        async function convertToInteractive(key) {\n",
              "          const element = document.querySelector('#df-73d9e3c0-e040-4728-a570-608d7030a835');\n",
              "          const dataTable =\n",
              "            await google.colab.kernel.invokeFunction('convertToInteractive',\n",
              "                                                     [key], {});\n",
              "          if (!dataTable) return;\n",
              "\n",
              "          const docLinkHtml = 'Like what you see? Visit the ' +\n",
              "            '<a target=\"_blank\" href=https://colab.research.google.com/notebooks/data_table.ipynb>data table notebook</a>'\n",
              "            + ' to learn more about interactive tables.';\n",
              "          element.innerHTML = '';\n",
              "          dataTable['output_type'] = 'display_data';\n",
              "          await google.colab.output.renderOutput(dataTable, element);\n",
              "          const docLink = document.createElement('div');\n",
              "          docLink.innerHTML = docLinkHtml;\n",
              "          element.appendChild(docLink);\n",
              "        }\n",
              "      </script>\n",
              "    </div>\n",
              "  </div>\n",
              "  "
            ]
          },
          "metadata": {},
          "execution_count": 10
        }
      ]
    },
    {
      "cell_type": "markdown",
      "source": [
        "# Word2vec"
      ],
      "metadata": {
        "id": "MAzC0GSWCFvX"
      }
    },
    {
      "cell_type": "code",
      "source": [
        "# word2vec\n",
        "def word2vec(path):\n",
        "       \n",
        "      # extract data from the path\n",
        "      data = []\n",
        "      for line in open(path, 'r'):\n",
        "          data.append(json.loads(line))\n",
        "      num=len(data)\n",
        "\n",
        "      # data preprocessing\n",
        "\n",
        "      doc_preprocess = []\n",
        "      for x in range(num):\n",
        "          text=(data[x]['_source']['title'])\n",
        "          doc_preprocess.append(preprocess_string(text))\n",
        "\n",
        "      # train model on our data set\n",
        "\n",
        "\n",
        "      cbow = Word2Vec(sentences=doc_preprocess,size=100, window=5, min_count=5, workers=4, sg=0)\n",
        "\n",
        "      # created vector for every word in document\n",
        "\n",
        "      dvec = np.zeros((len(doc_preprocess),100))\n",
        "      for n in range(len(doc_preprocess)):\n",
        "          for token in doc_preprocess[n]:\n",
        "              try:\n",
        "                  dvec[n,:] += cbow.wv[token]\n",
        "              except:\n",
        "                  dvec[n,:] += np.zeros((100,))\n",
        "      \n",
        "      # avarging vector for every document\n",
        "\n",
        "      for n in range(len(doc_preprocess)):\n",
        "          dvec[n,:] = dvec[n,:]/len(doc_preprocess[n])\n",
        "\n",
        "      # return vector of vector \n",
        "      \n",
        "      return dvec\n",
        " \n",
        "\n"
      ],
      "metadata": {
        "id": "T5Bvmk4GCIWG"
      },
      "execution_count": null,
      "outputs": []
    },
    {
      "cell_type": "code",
      "source": [
        "# function  calling\n",
        "\n",
        "embedding=word2vec('/content/drive/Shareddrives/M.Tech.Thesis(Juned)/DATASET/es_demo.json')"
      ],
      "metadata": {
        "colab": {
          "base_uri": "https://localhost:8080/"
        },
        "id": "yrTZXlQVCOs3",
        "outputId": "b1c6810f-2575-4948-931a-8b46f57bfd5c"
      },
      "execution_count": null,
      "outputs": [
        {
          "output_type": "stream",
          "name": "stderr",
          "text": [
            "/usr/local/lib/python3.7/dist-packages/ipykernel_launcher.py:35: RuntimeWarning: invalid value encountered in true_divide\n"
          ]
        }
      ]
    },
    {
      "cell_type": "markdown",
      "source": [
        "# BERT"
      ],
      "metadata": {
        "id": "SoCSLAMWb2-x"
      }
    },
    {
      "cell_type": "code",
      "source": [
        "!pip install tensorflow_text==2.5"
      ],
      "metadata": {
        "id": "zIk1FLkte93F"
      },
      "execution_count": null,
      "outputs": []
    },
    {
      "cell_type": "code",
      "source": [
        "import tensorflow_hub as hub\n",
        "import tensorflow_text as text"
      ],
      "metadata": {
        "id": "vvsfN9bQb5Pl"
      },
      "execution_count": null,
      "outputs": []
    },
    {
      "cell_type": "code",
      "source": [
        "def bert(path):\n",
        "      preprocess_url = \"https://tfhub.dev/tensorflow/bert_en_uncased_preprocess/3\"\n",
        "      encoder_url = \"https://tfhub.dev/tensorflow/bert_en_uncased_L-12_H-768_A-12/4\"\n",
        "      bert_preprocess_model = hub.KerasLayer(preprocess_url)\n",
        "      data = []\n",
        "      for line in open(path, 'r'):\n",
        "          data.append(json.loads(line))\n",
        "      num=len(data)\n",
        "      doc_preprocess = []\n",
        "      for x in range(num):\n",
        "          text=(data[x]['_source']['title'])\n",
        "          doc_preprocess.append((text))\n",
        "      doc_preprocess=doc_preprocess[:100]\n",
        "      text_test =doc_preprocess # ['nice movie indeed','I love python programming']\n",
        "      text_preprocessed = bert_preprocess_model(text_test)\n",
        "      bert_model = hub.KerasLayer(encoder_url)\n",
        "      bert_results = bert_model(text_preprocessed)\n",
        "      return bert_results['pooled_output']"
      ],
      "metadata": {
        "id": "bxlvIw1oFmcl"
      },
      "execution_count": null,
      "outputs": []
    },
    {
      "cell_type": "code",
      "source": [
        "bert_vector=bert('/content/drive/Shareddrives/M.Tech.Thesis(Juned)/DATASET/es_demo.json')"
      ],
      "metadata": {
        "id": "lOOjhn8WGhiX"
      },
      "execution_count": null,
      "outputs": []
    },
    {
      "cell_type": "code",
      "source": [
        "bert_vector[0]"
      ],
      "metadata": {
        "colab": {
          "base_uri": "https://localhost:8080/"
        },
        "id": "_I9TBUXXII0U",
        "outputId": "ed66cd6c-e2b5-487a-daaf-06c3b5c94e5d"
      },
      "execution_count": null,
      "outputs": [
        {
          "output_type": "execute_result",
          "data": {
            "text/plain": [
              "<tf.Tensor: shape=(768,), dtype=float32, numpy=\n",
              "array([-0.93932706, -0.57368815, -0.9699553 ,  0.8401189 ,  0.8117893 ,\n",
              "       -0.29842472,  0.8555565 ,  0.4355585 , -0.90394884, -0.9999971 ,\n",
              "       -0.80483574,  0.9771829 ,  0.9727205 ,  0.7227436 ,  0.8730064 ,\n",
              "       -0.8738592 , -0.5665202 , -0.70155203,  0.2993684 , -0.3805136 ,\n",
              "        0.76470244,  0.9999997 , -0.5333916 ,  0.45938373,  0.5047493 ,\n",
              "        0.99618095, -0.8431892 ,  0.88057053,  0.9595558 ,  0.83061665,\n",
              "       -0.7615914 ,  0.6076447 , -0.98790103, -0.36875123, -0.97103935,\n",
              "       -0.99335825,  0.6958791 , -0.70426536, -0.11250459, -0.22187784,\n",
              "       -0.8148341 ,  0.57849675,  0.9999959 , -0.00104235,  0.6883848 ,\n",
              "       -0.43262613, -1.        ,  0.40175068, -0.8839215 ,  0.96832013,\n",
              "        0.9403341 ,  0.9559266 ,  0.38507536,  0.6801159 ,  0.6235609 ,\n",
              "       -0.7209404 ,  0.14614527,  0.2583544 , -0.51500136, -0.68712395,\n",
              "       -0.7046101 ,  0.60640407, -0.93445235, -0.845307  ,  0.96858007,\n",
              "        0.89055955, -0.4254265 , -0.593017  , -0.23725398,  0.11384889,\n",
              "        0.85938495,  0.36526948, -0.467142  , -0.8241287 ,  0.86975676,\n",
              "        0.40611094, -0.59670854,  1.        , -0.77298087, -0.97778493,\n",
              "        0.8982616 ,  0.91245365,  0.6324724 , -0.6755216 ,  0.78156227,\n",
              "       -1.        ,  0.6833262 , -0.27583387, -0.99068785,  0.37945434,\n",
              "        0.6731425 , -0.28345907,  0.51636785,  0.60075885, -0.7006028 ,\n",
              "       -0.77579546, -0.4219205 , -0.9455388 , -0.4845559 , -0.6463823 ,\n",
              "        0.27601323, -0.4237317 , -0.556037  , -0.58840024,  0.52126646,\n",
              "       -0.68981904, -0.4965903 ,  0.70100707,  0.22792846,  0.6695418 ,\n",
              "        0.48522025, -0.48844975,  0.5505055 , -0.9499897 ,  0.7338874 ,\n",
              "       -0.5016339 , -0.9915621 , -0.6402858 , -0.98955643,  0.6938002 ,\n",
              "       -0.47431564, -0.49887127,  0.9369136 , -0.22882998,  0.62357676,\n",
              "       -0.32958275, -0.9790414 , -1.        , -0.864169  , -0.6977275 ,\n",
              "       -0.30626032, -0.3706339 , -0.97783715, -0.96361285,  0.5888553 ,\n",
              "        0.9592552 ,  0.43826145,  0.99997544, -0.49821275,  0.9358445 ,\n",
              "       -0.40364546, -0.8750933 ,  0.7439577 , -0.45130223,  0.8613861 ,\n",
              "        0.25914955, -0.51091766,  0.38763136, -0.8473457 ,  0.5316269 ,\n",
              "       -0.88461965, -0.47929278, -0.8853499 , -0.87692875, -0.4286018 ,\n",
              "        0.9550783 , -0.7160209 , -0.97540456, -0.5090138 , -0.49776658,\n",
              "       -0.47583035,  0.8543102 ,  0.8394474 ,  0.5537755 , -0.48600578,\n",
              "        0.549743  ,  0.6121535 ,  0.6487865 , -0.84727407, -0.43686265,\n",
              "        0.525062  , -0.5809648 , -0.9283023 , -0.98079944, -0.54999983,\n",
              "        0.5720448 ,  0.9860837 ,  0.7212583 ,  0.49463117,  0.8761772 ,\n",
              "       -0.48776117,  0.8389478 , -0.9715983 ,  0.9823024 , -0.39151657,\n",
              "        0.37342823, -0.6062991 ,  0.68343705, -0.8840823 ,  0.15052313,\n",
              "        0.8875354 , -0.8190629 , -0.8808777 , -0.31849703, -0.5119677 ,\n",
              "       -0.5501622 , -0.9213733 ,  0.75486994, -0.42130518, -0.2735317 ,\n",
              "       -0.14647923,  0.870762  ,  0.9856459 ,  0.6895316 ,  0.50012445,\n",
              "        0.7411464 , -0.8598071 , -0.50311196,  0.37077445,  0.44863367,\n",
              "        0.23906179,  0.99210304, -0.7788476 , -0.30183455, -0.8669912 ,\n",
              "       -0.9822147 ,  0.1250044 , -0.8495307 , -0.36211938, -0.7540752 ,\n",
              "        0.7294973 , -0.7199692 ,  0.73473704,  0.35793996, -0.89402676,\n",
              "       -0.6481106 ,  0.40731508, -0.56579626,  0.62093246, -0.2955814 ,\n",
              "        0.6324426 ,  0.9735452 , -0.7580424 ,  0.45676878,  0.9551886 ,\n",
              "       -0.95902497, -0.893171  ,  0.5650894 , -0.5224619 ,  0.89549315,\n",
              "       -0.71592695,  0.99597424,  0.9572256 ,  0.8069044 , -0.9119571 ,\n",
              "       -0.8507936 , -0.90789795, -0.8126313 , -0.2913544 ,  0.4047933 ,\n",
              "        0.94320416,  0.6554598 ,  0.59946924, -0.0481503 , -0.7134418 ,\n",
              "        0.99561757, -0.6384064 , -0.9546766 , -0.78155196, -0.26648045,\n",
              "       -0.98558205,  0.91478956,  0.51526344,  0.70542186, -0.66190636,\n",
              "       -0.76474607, -0.9048141 ,  0.8923457 ,  0.32547843,  0.9860804 ,\n",
              "       -0.6127027 , -0.918714  , -0.7858547 , -0.9247956 ,  0.17492217,\n",
              "       -0.36923376, -0.7215286 ,  0.22804198, -0.9267099 ,  0.59464014,\n",
              "        0.61078155,  0.5466926 , -0.91349506,  0.9977568 ,  1.        ,\n",
              "        0.9662938 ,  0.8802955 ,  0.77210635, -0.9999888 , -0.77378553,\n",
              "        0.99999875, -0.9979917 , -1.        , -0.92873204, -0.79086494,\n",
              "        0.43624508, -1.        , -0.32116097, -0.24194945, -0.86359096,\n",
              "        0.87955785,  0.96875244,  0.9769285 , -1.        ,  0.89583814,\n",
              "        0.95099956, -0.6139012 ,  0.97408813, -0.6748422 ,  0.9605305 ,\n",
              "        0.35157734,  0.74670863, -0.2758801 ,  0.5068215 , -0.96909064,\n",
              "       -0.93747103, -0.70633876, -0.86251855,  0.9998441 ,  0.4046339 ,\n",
              "       -0.91834384, -0.8077127 ,  0.8182905 , -0.3781391 ,  0.13579097,\n",
              "       -0.9609222 , -0.46909007,  0.7855231 ,  0.82629263,  0.38883296,\n",
              "        0.46205243, -0.6086741 ,  0.4207402 ,  0.47971886,  0.13640982,\n",
              "        0.646295  , -0.9015155 , -0.6626665 , -0.61042756,  0.36130047,\n",
              "       -0.7292897 , -0.97765774,  0.9735209 , -0.65500623,  0.9518477 ,\n",
              "        1.        ,  0.6503434 , -0.8561894 ,  0.831059  ,  0.4566557 ,\n",
              "       -0.13281758,  1.        ,  0.9248618 , -0.97963804, -0.60156536,\n",
              "        0.8137579 , -0.7170926 , -0.6886562 ,  0.99982667, -0.47053894,\n",
              "       -0.8574958 , -0.7352749 ,  0.988511  , -0.98621464,  0.99936265,\n",
              "       -0.912904  , -0.9617173 ,  0.9620791 ,  0.8817619 , -0.77047336,\n",
              "       -0.7943318 ,  0.39234006, -0.8571999 ,  0.4842803 , -0.8647665 ,\n",
              "        0.86928916,  0.6626953 , -0.13929544,  0.8443878 , -0.87108076,\n",
              "       -0.51745844,  0.5328222 , -0.8925326 , -0.6025361 ,  0.97621423,\n",
              "        0.6112057 , -0.40307233,  0.36336148, -0.38446498, -0.31688493,\n",
              "       -0.9697369 ,  0.81058013,  1.        , -0.4377998 ,  0.8743223 ,\n",
              "       -0.5913592 , -0.22412921,  0.20516573,  0.6398176 ,  0.6459754 ,\n",
              "       -0.42869964, -0.8115614 ,  0.7339922 , -0.79763263, -0.99106365,\n",
              "        0.51481086,  0.45480824, -0.37066227,  0.99999964,  0.68919355,\n",
              "        0.33147004,  0.6129693 ,  0.9960799 ,  0.23183022,  0.5037635 ,\n",
              "        0.96574575,  0.98319817, -0.4685103 ,  0.66565275,  0.8605506 ,\n",
              "       -0.9538138 , -0.3768552 , -0.6935412 ,  0.26345074, -0.9393319 ,\n",
              "       -0.20369098, -0.9690845 ,  0.97232175,  0.989283  ,  0.600488  ,\n",
              "        0.33044335,  0.84462166,  1.        , -0.9435089 ,  0.5178693 ,\n",
              "       -0.11154001,  0.3789051 , -0.99994147, -0.7370805 , -0.5283275 ,\n",
              "       -0.3633404 , -0.94136417, -0.5447131 ,  0.34149757, -0.9797233 ,\n",
              "        0.9120443 ,  0.66851056, -0.91197014, -0.9835515 , -0.5900038 ,\n",
              "        0.86950773,  0.29456168, -0.9955146 , -0.7710835 , -0.7111834 ,\n",
              "        0.7074713 , -0.38474935, -0.92871237, -0.6499019 , -0.41951635,\n",
              "        0.6254092 , -0.48718783,  0.59524894,  0.9551234 ,  0.5267305 ,\n",
              "       -0.967596  , -0.7763315 , -0.36931682, -0.9138024 ,  0.8640556 ,\n",
              "       -0.8441873 , -0.9546598 , -0.39556384,  1.        , -0.2627781 ,\n",
              "        0.92982066,  0.7623555 ,  0.64170045, -0.39035144,  0.23088904,\n",
              "        0.9686256 ,  0.44786716, -0.86239535, -0.9603068 , -0.30488777,\n",
              "       -0.4934804 ,  0.7533627 ,  0.7978669 ,  0.8578784 ,  0.68070924,\n",
              "        0.9001824 ,  0.52634495, -0.39476788,  0.13609399,  0.99913293,\n",
              "       -0.35854018, -0.32838616, -0.64049536, -0.15430091, -0.4780328 ,\n",
              "       -0.20307094,  1.        ,  0.49569374,  0.81051993, -0.99201465,\n",
              "       -0.9415001 , -0.9328306 ,  1.        ,  0.88434   , -0.8377638 ,\n",
              "        0.7135254 ,  0.8201547 , -0.3000531 ,  0.7204314 , -0.5253058 ,\n",
              "       -0.48054197,  0.45200133,  0.251104  ,  0.94522256, -0.5708556 ,\n",
              "       -0.9781643 , -0.71302134,  0.5838959 , -0.94421864,  0.9999957 ,\n",
              "       -0.74933887, -0.3526492 , -0.5063347 , -0.7879718 , -0.33528867,\n",
              "        0.09794205, -0.97145027, -0.4994027 ,  0.41658866,  0.9633733 ,\n",
              "        0.558194  , -0.6582317 , -0.95850116,  0.95652795,  0.9225802 ,\n",
              "       -0.9715593 , -0.9164985 ,  0.9407456 , -0.972215  ,  0.7270777 ,\n",
              "        1.        ,  0.45906025,  0.8072985 ,  0.4136641 , -0.47726488,\n",
              "        0.4640312 , -0.8111137 ,  0.77926785, -0.93607914, -0.4324117 ,\n",
              "       -0.3397774 ,  0.5469094 , -0.34578913, -0.9224137 ,  0.72162545,\n",
              "        0.27446556, -0.55993986, -0.7201581 , -0.21150152,  0.59738857,\n",
              "        0.87823075, -0.37363786, -0.3481924 ,  0.39270112, -0.22217692,\n",
              "       -0.9034281 , -0.60448503, -0.60944957, -0.9999997 ,  0.7837067 ,\n",
              "       -1.        ,  0.8401517 ,  0.57855445, -0.22237287,  0.83526814,\n",
              "        0.57573795,  0.7341008 , -0.6703851 , -0.94789135,  0.21350151,\n",
              "        0.7700835 , -0.5126467 , -0.84435153, -0.61958176,  0.59884113,\n",
              "       -0.1393319 ,  0.23867235, -0.7438923 ,  0.7016011 , -0.43280795,\n",
              "        1.        ,  0.33783215, -0.81920654, -0.8857247 ,  0.5621708 ,\n",
              "       -0.41408953,  1.        , -0.8783203 , -0.954341  ,  0.40802917,\n",
              "       -0.878652  , -0.72936475,  0.5039127 ,  0.2747798 , -0.893688  ,\n",
              "       -0.98197037,  0.82442385,  0.9399515 , -0.65485907,  0.62391245,\n",
              "       -0.54481333, -0.7419032 ,  0.27391204,  0.9625682 ,  0.98565096,\n",
              "        0.5691703 ,  0.90139765, -0.53302747, -0.13545588,  0.92933846,\n",
              "        0.45602512,  0.6405536 ,  0.35314468,  1.        ,  0.6307016 ,\n",
              "       -0.9345031 , -0.23002107, -0.92988247, -0.40477854, -0.9405631 ,\n",
              "        0.5290771 ,  0.50126654,  0.9404985 , -0.30898055,  0.9456685 ,\n",
              "       -0.9380717 ,  0.2976629 , -0.8274695 , -0.8037155 ,  0.40730298,\n",
              "       -0.9586161 , -0.9828617 , -0.9831459 ,  0.7507414 , -0.51493955,\n",
              "       -0.2891562 ,  0.40329808,  0.19439359,  0.666165  ,  0.57250386,\n",
              "       -1.        ,  0.94928867,  0.56600636,  0.9647745 ,  0.95817935,\n",
              "        0.8391587 ,  0.78736657,  0.40995455, -0.98120016, -0.88009375,\n",
              "       -0.5031109 , -0.3890082 ,  0.7553745 ,  0.81442535,  0.7960039 ,\n",
              "        0.55749106, -0.47445747, -0.6415268 , -0.7365345 , -0.8179314 ,\n",
              "       -0.99074596,  0.54428715, -0.75262386, -0.9500281 ,  0.97091866,\n",
              "        0.1068112 , -0.11937483, -0.09899099, -0.9046804 ,  0.8892733 ,\n",
              "        0.892884  ,  0.35063648,  0.28746334,  0.64288133,  0.84881216,\n",
              "        0.8940813 ,  0.97989243, -0.91977274,  0.84854364, -0.87836224,\n",
              "        0.5649091 ,  0.88584006, -0.9334406 ,  0.4178645 ,  0.72429246,\n",
              "       -0.479505  ,  0.4853481 , -0.41268438, -0.83240414,  0.92575467,\n",
              "       -0.47100687,  0.7609731 , -0.4450367 , -0.05581542, -0.51224947,\n",
              "       -0.24443711, -0.6870466 , -0.78135467,  0.61362106,  0.61284214,\n",
              "        0.92875814,  0.9058636 , -0.15724257, -0.7862871 , -0.384571  ,\n",
              "       -0.8831307 , -0.89118946,  0.8243881 , -0.28199118, -0.637296  ,\n",
              "        0.91566133,  0.22662973,  0.91182834,  0.5227024 , -0.55939686,\n",
              "       -0.47640392, -0.8494316 ,  0.80054575, -0.8613741 , -0.765225  ,\n",
              "       -0.7530258 ,  0.81895477,  0.53526413,  0.99999946, -0.89934146,\n",
              "       -0.9585217 , -0.74183935, -0.5807242 ,  0.57932603, -0.71954525,\n",
              "       -1.        ,  0.53761405, -0.8378466 ,  0.8383252 , -0.7276764 ,\n",
              "        0.9157443 , -0.8668247 , -0.96747243, -0.46175158,  0.79875547,\n",
              "        0.89195335, -0.6149413 , -0.8471962 ,  0.6233377 , -0.7365831 ,\n",
              "        0.9954418 ,  0.75653183, -0.9551261 , -0.34878355,  0.6191219 ,\n",
              "       -0.95156467, -0.605447  ,  0.7936548 ], dtype=float32)>"
            ]
          },
          "metadata": {},
          "execution_count": 13
        }
      ]
    },
    {
      "cell_type": "markdown",
      "source": [
        "# Glove"
      ],
      "metadata": {
        "id": "QyUq0ay8HxMd"
      }
    },
    {
      "cell_type": "code",
      "source": [
        "import numpy as np\n",
        "from sklearn.manifold import TSNE\n",
        "import matplotlib.pyplot as plt"
      ],
      "metadata": {
        "id": "1LYQAWuaHzsm"
      },
      "execution_count": null,
      "outputs": []
    },
    {
      "cell_type": "code",
      "source": [
        "import gensim.downloader as api\n",
        "glove_model = api.load('glove-wiki-gigaword-300')"
      ],
      "metadata": {
        "colab": {
          "base_uri": "https://localhost:8080/"
        },
        "id": "uJHgsBZ3H4vn",
        "outputId": "30dc2c89-65b6-4fca-d681-7470da39a556"
      },
      "execution_count": null,
      "outputs": [
        {
          "output_type": "stream",
          "name": "stdout",
          "text": [
            "[==================================================] 100.0% 376.1/376.1MB downloaded\n"
          ]
        }
      ]
    },
    {
      "cell_type": "code",
      "source": [
        "len(glove_model[\"good\"])"
      ],
      "metadata": {
        "colab": {
          "base_uri": "https://localhost:8080/"
        },
        "id": "QsYSK3-uH6r3",
        "outputId": "d2ab62b5-5607-4972-9bdb-6db142f35e4b"
      },
      "execution_count": null,
      "outputs": [
        {
          "output_type": "execute_result",
          "data": {
            "text/plain": [
              "300"
            ]
          },
          "metadata": {},
          "execution_count": 5
        }
      ]
    },
    {
      "cell_type": "code",
      "source": [
        "glove_model.most_similar(\"king\")"
      ],
      "metadata": {
        "colab": {
          "base_uri": "https://localhost:8080/"
        },
        "id": "m3GZUamZH_wT",
        "outputId": "05b4a996-6a60-4124-98cf-05717b995801"
      },
      "execution_count": null,
      "outputs": [
        {
          "output_type": "execute_result",
          "data": {
            "text/plain": [
              "[('queen', 0.6336469054222107),\n",
              " ('prince', 0.619662344455719),\n",
              " ('monarch', 0.5899620652198792),\n",
              " ('kingdom', 0.5791267156600952),\n",
              " ('throne', 0.5606487989425659),\n",
              " ('ii', 0.5562329888343811),\n",
              " ('iii', 0.5503199100494385),\n",
              " ('crown', 0.5224862694740295),\n",
              " ('reign', 0.521735429763794),\n",
              " ('kings', 0.5066401362419128)]"
            ]
          },
          "metadata": {},
          "execution_count": 6
        }
      ]
    },
    {
      "cell_type": "code",
      "source": [
        "glove_model.most_similar(positive=['boy', 'queen'], negative=['girl'], topn=1)"
      ],
      "metadata": {
        "colab": {
          "base_uri": "https://localhost:8080/"
        },
        "id": "zWqQlmkXICSq",
        "outputId": "fcd9c8be-4476-4527-ea3c-084bfdf28162"
      },
      "execution_count": null,
      "outputs": [
        {
          "output_type": "execute_result",
          "data": {
            "text/plain": [
              "[('king', 0.6770139336585999)]"
            ]
          },
          "metadata": {},
          "execution_count": 7
        }
      ]
    },
    {
      "cell_type": "code",
      "source": [
        "data = []\n",
        "for line in open('/content/drive/Shareddrives/M.Tech.Thesis(Juned)/DATASET/es_demo.json', 'r'):\n",
        "    data.append(json.loads(line))\n",
        "    num=len(data)\n",
        "\n",
        "# data preprocessing\n",
        "\n",
        "doc_preprocess = []\n",
        "for x in range(num):\n",
        "    text=(data[x]['_source']['title'])\n",
        "    doc_preprocess.append((text))"
      ],
      "metadata": {
        "id": "yAiu04IpK7qc"
      },
      "execution_count": null,
      "outputs": []
    },
    {
      "cell_type": "code",
      "source": [
        "doc_preprocess"
      ],
      "metadata": {
        "id": "74QI7b5NLHMk"
      },
      "execution_count": null,
      "outputs": []
    },
    {
      "cell_type": "code",
      "source": [
        "nltk.download('punkt')"
      ],
      "metadata": {
        "colab": {
          "base_uri": "https://localhost:8080/"
        },
        "id": "z5qkYTI0L_rV",
        "outputId": "e5bf5ac4-020f-4e83-d018-7aa595c8436b"
      },
      "execution_count": null,
      "outputs": [
        {
          "output_type": "stream",
          "name": "stderr",
          "text": [
            "[nltk_data] Downloading package punkt to /root/nltk_data...\n",
            "[nltk_data]   Unzipping tokenizers/punkt.zip.\n"
          ]
        },
        {
          "output_type": "execute_result",
          "data": {
            "text/plain": [
              "True"
            ]
          },
          "metadata": {},
          "execution_count": 14
        }
      ]
    },
    {
      "cell_type": "code",
      "source": [
        "import nltk\n",
        "temp=[]\n",
        "num = len(doc_preprocess)\n",
        "for x in range(num): \n",
        "    file_content = doc_preprocess[x]\n",
        "    tokens = nltk.word_tokenize(file_content)\n",
        "    temp.append(tokens)"
      ],
      "metadata": {
        "id": "OqHBEaKsLpjV"
      },
      "execution_count": null,
      "outputs": []
    },
    {
      "cell_type": "code",
      "source": [
        "vocab1=[]\n",
        "for x in range(len(temp)):\n",
        "  for j in range(len(temp[x])):\n",
        "    vocab1.append(temp[x][j])"
      ],
      "metadata": {
        "id": "LbjeJ4blMDOj"
      },
      "execution_count": null,
      "outputs": []
    },
    {
      "cell_type": "code",
      "source": [
        "vocab1"
      ],
      "metadata": {
        "id": "qn7YylqLM850"
      },
      "execution_count": null,
      "outputs": []
    },
    {
      "cell_type": "code",
      "source": [
        "vocab = [\"boy\", \"girl\", \"man\", \"woman\", \"king\", \"queen\", \"banana\", \"apple\", \"mango\", \"fruit\", \"coconut\", \"orange\", \"cucumber\", \"potato\"]\n",
        "\n",
        "def tsne_plot(model):\n",
        "    labels = []\n",
        "    wordvecs = []\n",
        "\n",
        "    for word in vocab:\n",
        "        wordvecs.append(model[word])\n",
        "        labels.append(word)\n",
        "    \n",
        "    tsne_model = TSNE(perplexity=3, n_components=2, init='pca', random_state=42)\n",
        "    coordinates = tsne_model.fit_transform(wordvecs)\n",
        "\n",
        "    x = []\n",
        "    y = []\n",
        "    for value in coordinates:\n",
        "        x.append(value[0])\n",
        "        y.append(value[1])\n",
        "        \n",
        "    plt.figure(figsize=(8,8)) \n",
        "    for i in range(len(x)):\n",
        "        plt.scatter(x[i],y[i])\n",
        "        plt.annotate(labels[i],\n",
        "                     xy=(x[i], y[i]),\n",
        "                     xytext=(2, 2),\n",
        "                     textcoords='offset points',\n",
        "                     ha='right',\n",
        "                     va='bottom')\n",
        "    plt.show()\n",
        "\n",
        "tsne_plot(glove_model)"
      ],
      "metadata": {
        "colab": {
          "base_uri": "https://localhost:8080/",
          "height": 572
        },
        "id": "cZiyO-Y7IHrV",
        "outputId": "ef408610-dba8-4aea-ff62-fae25789f678"
      },
      "execution_count": null,
      "outputs": [
        {
          "output_type": "stream",
          "name": "stderr",
          "text": [
            "/usr/local/lib/python3.7/dist-packages/sklearn/manifold/_t_sne.py:793: FutureWarning: The default learning rate in TSNE will change from 200.0 to 'auto' in 1.2.\n",
            "  FutureWarning,\n",
            "/usr/local/lib/python3.7/dist-packages/sklearn/manifold/_t_sne.py:986: FutureWarning: The PCA initialization in TSNE will change to have the standard deviation of PC1 equal to 1e-4 in 1.2. This will ensure better convergence.\n",
            "  FutureWarning,\n"
          ]
        },
        {
          "output_type": "display_data",
          "data": {
            "text/plain": [
              "<Figure size 576x576 with 1 Axes>"
            ],
            "image/png": "[encoded data removed]"
          },
          "metadata": {
            "needs_background": "light"
          }
        }
      ]
    },
    {
      "cell_type": "markdown",
      "source": [
        "# Doc2vec"
      ],
      "metadata": {
        "id": "xvhRlkKy5dP9"
      }
    },
    {
      "cell_type": "code",
      "source": [
        "def doc2vec(path):\n",
        "      data = []\n",
        "      for line in open(path, 'r'):\n",
        "          data.append(json.loads(line))\n",
        "      num=len(data)\n",
        "\n",
        "      # data preprocessing\n",
        "\n",
        "      doc_preprocess = []\n",
        "      for x in range(num):\n",
        "          text=(data[x]['_source']['raw_text'])\n",
        "          doc_preprocess.append(simple_preprocess(text))\n",
        "      corpus=doc_preprocess\n",
        "\n",
        "      document=[]\n",
        "      j=0\n",
        "      for i in doc_preprocess:\n",
        "          document.append(TaggedDocument(words=i, tags=[j]))\n",
        "          j +=1\n",
        "\n",
        "\n",
        "      model = Doc2Vec(document, vector_size=5, window=2, min_count=1, workers=4)\n",
        "\n",
        "      vector=[]\n",
        "      for i in range(len(document)):\n",
        "        vector.append(model.infer_vector(doc_preprocess[i]))\n",
        "\n",
        "      return vector"
      ],
      "metadata": {
        "id": "A9ZH-iDj5cj-"
      },
      "execution_count": 16,
      "outputs": []
    },
    {
      "cell_type": "code",
      "source": [
        "doc_vec=doc2vec('/content/drive/Shareddrives/M.Tech.Thesis(Juned)/DATASET/es_demo.json')"
      ],
      "metadata": {
        "colab": {
          "base_uri": "https://localhost:8080/"
        },
        "id": "L6v1nsbI6Vu4",
        "outputId": "a653844c-abb2-4fbc-d983-dbf9a7df4dd1"
      },
      "execution_count": 17,
      "outputs": [
        {
          "output_type": "stream",
          "name": "stderr",
          "text": [
            "WARNING:gensim.models.base_any2vec:consider setting layer size to a multiple of 4 for greater performance\n"
          ]
        }
      ]
    },
    {
      "cell_type": "code",
      "source": [
        "doc_vec[0]"
      ],
      "metadata": {
        "colab": {
          "base_uri": "https://localhost:8080/"
        },
        "id": "t6BDgpvs62b_",
        "outputId": "2efb47c7-3e2e-4954-ed6a-397d8b1fbe29"
      },
      "execution_count": 18,
      "outputs": [
        {
          "output_type": "execute_result",
          "data": {
            "text/plain": [
              "array([ 0.23011231, -0.7623909 , -0.9741552 , -0.44166285,  0.0129105 ],\n",
              "      dtype=float32)"
            ]
          },
          "metadata": {},
          "execution_count": 18
        }
      ]
    },
    {
      "cell_type": "markdown",
      "source": [
        "# similarity"
      ],
      "metadata": {
        "id": "RVV3IGzkCiwg"
      }
    },
    {
      "cell_type": "code",
      "source": [
        "def similar(path,vector):\n",
        "      \n",
        "      data = []\n",
        "      for line in open(path, 'r'):\n",
        "          data.append(json.loads(line))\n",
        "      num=len(data)\n",
        "      doc_no = 0\n",
        "      cosine_doc = {}\n",
        "      for doc in vector:\n",
        "        cosine = np.dot(doc,vector[0])/(np.linalg.norm(doc)*np.linalg.norm(vector[0]))\n",
        "        cosine_doc[doc_no] = cosine\n",
        "        doc_no += 1\n",
        "      A=cosine_doc\n",
        "      d =  sorted(A, key=A.get, reverse=True)[:5]\n",
        "      p =  sorted(A, key=A.get)[:5]\n",
        "      print(\"--------------------------------------------------------------------------\")\n",
        "      print(\" \")\n",
        "      print(data[0]['_source']['title'])\n",
        "      print(\"  \")\n",
        "      print(\"LOWEST SIMILAR\")\n",
        "      print(\" |\")\n",
        "      print(\"\\_/\")\n",
        "      print(\" \")\n",
        "      for i in range(5):\n",
        "        print(data[p[i]]['_source']['title'])\n",
        "        print(\"       \")\n",
        "\n",
        "      print(\"--------------------------------------------------------------------------\")\n",
        "      print(\" \")\n",
        "      print(data[0]['_source']['title'])\n",
        "      print(\" \")\n",
        "      print(\"MAXIMMUM SIMLAR\")\n",
        "      print(\" |\")\n",
        "      print(\"\\_/\")\n",
        "      print(\"  \")\n",
        "      for i in range(5):\n",
        "        print(data[d[i]]['_source']['title'])\n",
        "        print(\"       \")"
      ],
      "metadata": {
        "id": "QvCiAtt73Fix"
      },
      "execution_count": 5,
      "outputs": []
    },
    {
      "cell_type": "code",
      "source": [
        "similar('/content/drive/Shareddrives/M.Tech.Thesis(Juned)/DATASET/es_demo.json',embedding)"
      ],
      "metadata": {
        "colab": {
          "base_uri": "https://localhost:8080/"
        },
        "id": "elp_c-xS4BjK",
        "outputId": "98055836-6f89-4bc4-eec7-d9765fd403a5"
      },
      "execution_count": null,
      "outputs": [
        {
          "output_type": "stream",
          "name": "stderr",
          "text": [
            "/usr/local/lib/python3.7/dist-packages/ipykernel_launcher.py:10: RuntimeWarning: invalid value encountered in double_scalars\n",
            "  # Remove the CWD from sys.path while we load stuff.\n"
          ]
        },
        {
          "output_type": "stream",
          "name": "stdout",
          "text": [
            "--------------------------------------------------------------------------\n",
            " \n",
            "Research on NOFRF Entropy-Based Detection Method for Early Damage of Pillar Porcelain Insulator\n",
            "  \n",
            "LOWEST SIMILAR\n",
            " |\n",
            "\\_/\n",
            " \n",
            "The SuperPascal software\n",
            "       \n",
            "Software Malleability: We're Losing it!\n",
            "       \n",
            "Sparsified SGD with Memory\n",
            "       \n",
            "On a Triptych of Software Development\n",
            "       \n",
            "Development of Oberon-0 using YAJCo\n",
            "       \n",
            "--------------------------------------------------------------------------\n",
            " \n",
            "Research on NOFRF Entropy-Based Detection Method for Early Damage of Pillar Porcelain Insulator\n",
            " \n",
            "MAXIMMUM SIMLAR\n",
            " |\n",
            "\\_/\n",
            "  \n",
            "Research on NOFRF Entropy-Based Detection Method for Early Damage of Pillar Porcelain Insulator\n",
            "       \n",
            "Retinal Microaneurysm Detection Based on Intensity Profile Analysis\n",
            "       \n",
            "Lip movement and speech synchronization detection based on multimodal shift-invariant dictionary\n",
            "       \n",
            "StirTraceV2.0: Enhanced Benchmarking and Tuning of Printed Fingerprint Detection\n",
            "       \n",
            "A survey of signature based methods for financial fraud detection\n",
            "       \n"
          ]
        }
      ]
    },
    {
      "cell_type": "code",
      "source": [
        "tf=vector.to_numpy()\n",
        "similar('/content/drive/Shareddrives/M.Tech.Thesis(Juned)/DATASET/es_demo.json',tf)"
      ],
      "metadata": {
        "colab": {
          "base_uri": "https://localhost:8080/"
        },
        "id": "RAhWwziP5EDz",
        "outputId": "47f720c9-7792-4b2d-b7df-717e0a671a95"
      },
      "execution_count": null,
      "outputs": [
        {
          "output_type": "stream",
          "name": "stdout",
          "text": [
            "--------------------------------------------------------------------------\n",
            " \n",
            "Research on NOFRF Entropy-Based Detection Method for Early Damage of Pillar Porcelain Insulator\n",
            "  \n",
            "LOWEST SIMILAR\n",
            " |\n",
            "\\_/\n",
            " \n",
            "Retweet Prediction Using Context-Aware Coupled Matrix-Tensor Factorization\n",
            "       \n",
            "Multiagent Light Field Reconstruction and Maneuvering Target Recognition via GAN\n",
            "       \n",
            "Constrained Reinforcement Learning Has Zero Duality Gap\n",
            "       \n",
            "A New Approach to Detect At-Risk Learning Communities in Social Networks\n",
            "       \n",
            "Reinforcing Diversity Company Policies: Insights from StackOverflow Developers Survey\n",
            "       \n",
            "--------------------------------------------------------------------------\n",
            " \n",
            "Research on NOFRF Entropy-Based Detection Method for Early Damage of Pillar Porcelain Insulator\n",
            " \n",
            "MAXIMMUM SIMLAR\n",
            " |\n",
            "\\_/\n",
            "  \n",
            "Research on NOFRF Entropy-Based Detection Method for Early Damage of Pillar Porcelain Insulator\n",
            "       \n",
            "Robust Locator Layout Design for B-pillar Based on Taguchi Experiment\n",
            "       \n",
            "Internet 1.0: early users, early uses\n",
            "       \n",
            "Ultrasonic Guided Wave Damage Detection Method for Stiffened Plates Based on Deep Learning\n",
            "       \n",
            "Research of Clustering Algorithm Based on Information Entropy and Frequency Sensitive Discrepancy Metric in Anomaly Detection\n",
            "       \n"
          ]
        }
      ]
    },
    {
      "cell_type": "code",
      "source": [
        "similar('/content/drive/Shareddrives/M.Tech.Thesis(Juned)/DATASET/es_demo.json',bert_vector)"
      ],
      "metadata": {
        "colab": {
          "base_uri": "https://localhost:8080/"
        },
        "id": "0Ya5rc5lIUq0",
        "outputId": "eff1aba6-d05f-4d6e-bad4-7d6dbd687307"
      },
      "execution_count": null,
      "outputs": [
        {
          "output_type": "stream",
          "name": "stdout",
          "text": [
            "--------------------------------------------------------------------------\n",
            " \n",
            "Research on NOFRF Entropy-Based Detection Method for Early Damage of Pillar Porcelain Insulator\n",
            "  \n",
            "LOWEST SIMILAR\n",
            " |\n",
            "\\_/\n",
            " \n",
            "ST ] 3 O ct 2 01 9 Privately detecting changes in unknown distributions\n",
            "       \n",
            "Broadband Supercontinuum Generation from a Tm Oscillator in a Highly Nonlinear Silica Fiber\n",
            "       \n",
            "Leaf classification with improved image feature based on the seven moment invariant\n",
            "       \n",
            "Distance variety preserving hashing for large‐scale retrieval\n",
            "       \n",
            "Unique Fog Computing Taxonomy for Evaluating Cloud Services\n",
            "       \n",
            "--------------------------------------------------------------------------\n",
            " \n",
            "Research on NOFRF Entropy-Based Detection Method for Early Damage of Pillar Porcelain Insulator\n",
            " \n",
            "MAXIMMUM SIMLAR\n",
            " |\n",
            "\\_/\n",
            "  \n",
            "Research on NOFRF Entropy-Based Detection Method for Early Damage of Pillar Porcelain Insulator\n",
            "       \n",
            "An integrated algorithm for multi-agent fault-tolerant scheduling based on MOEA\n",
            "       \n",
            "A multi-objective optimization methodology based on multi-mid-range meta-models for multimodal deterministic/robust problems\n",
            "       \n",
            "Integrated model of BP neural network and CNN algorithm for automatic wear debris classification\n",
            "       \n",
            "eXtended Finite Element Method Connected with Multi-objective Optimization Algorithm Used in 3D Electromagnetic Problems\n",
            "       \n"
          ]
        }
      ]
    },
    {
      "cell_type": "code",
      "source": [
        "similar('/content/drive/Shareddrives/M.Tech.Thesis(Juned)/DATASET/es_demo.json',doc_vec)"
      ],
      "metadata": {
        "colab": {
          "base_uri": "https://localhost:8080/"
        },
        "id": "Z7Mtsik06k6-",
        "outputId": "11b0e70a-248c-46ee-8625-dce333ae22a4"
      },
      "execution_count": 19,
      "outputs": [
        {
          "output_type": "stream",
          "name": "stdout",
          "text": [
            "--------------------------------------------------------------------------\n",
            " \n",
            "Research on NOFRF Entropy-Based Detection Method for Early Damage of Pillar Porcelain Insulator\n",
            "  \n",
            "LOWEST SIMILAR\n",
            " |\n",
            "\\_/\n",
            " \n",
            "Encoding & decoding of Chinese address and development of algorithms for intelligent address search\n",
            "       \n",
            "Design of E-Commerce Logistics Enterprise CRM System\n",
            "       \n",
            "Comparing GPU and CPU in OLAP Cubes Creation\n",
            "       \n",
            "An Execution Semantics for Mediation Patterns\n",
            "       \n",
            "Transactional Support in Native XML Databases\n",
            "       \n",
            "--------------------------------------------------------------------------\n",
            " \n",
            "Research on NOFRF Entropy-Based Detection Method for Early Damage of Pillar Porcelain Insulator\n",
            " \n",
            "MAXIMMUM SIMLAR\n",
            " |\n",
            "\\_/\n",
            "  \n",
            "Research on NOFRF Entropy-Based Detection Method for Early Damage of Pillar Porcelain Insulator\n",
            "       \n",
            "Heart Rate Measurement Using Facial Videos\n",
            "       \n",
            "Automatic measurement method for the size of large forgings based on scattering on rough surface\n",
            "       \n",
            "Nondestructive scheme for measuring the attenuation coefficient of polymer optical fiber.\n",
            "       \n",
            "Modeling interference fading the direct and reflected narrow beams of millimeter waves above terrestrial cover and diffraction in a zone shadow of obstacle\n",
            "       \n"
          ]
        }
      ]
    }
  ]
}