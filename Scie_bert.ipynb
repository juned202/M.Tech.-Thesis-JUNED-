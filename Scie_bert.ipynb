{
  "nbformat": 4,
  "nbformat_minor": 0,
  "metadata": {
    "colab": {
      "name": "Scie_bert.ipynb",
      "provenance": [],
      "mount_file_id": "1u-gB4ZE593OBNAZy1rQ9uKPc0QLwHyNz",
      "authorship_tag": "ABX9TyNP1YVFkEnusdpx7FdxvrLu",
      "include_colab_link": true
    },
    "kernelspec": {
      "name": "python3",
      "display_name": "Python 3"
    },
    "language_info": {
      "name": "python"
    }
  },
  "cells": [
    {
      "cell_type": "markdown",
      "metadata": {
        "id": "view-in-github",
        "colab_type": "text"
      },
      "source": [
        "<a href=\"https://colab.research.google.com/github/juned202/M.Tech.-Thesis-JUNED-/blob/main/Scie_bert.ipynb\" target=\"_parent\"><img src=\"https://colab.research.google.com/assets/colab-badge.svg\" alt=\"Open In Colab\"/></a>"
      ]
    },
    {
      "cell_type": "markdown",
      "source": [
        "Credit: https://www.kaggle.com/code/isaacmg/scibert-embeddings/notebook"
      ],
      "metadata": {
        "id": "ky187yyHga9b"
      }
    },
    {
      "cell_type": "markdown",
      "source": [
        "For instance, the embedding method displayed here is a simple MEAN over all the words in the text passage."
      ],
      "metadata": {
        "id": "Vx4N3_IIgw3Y"
      }
    },
    {
      "cell_type": "code",
      "source": [
        "!pip install transformers\n",
        "!wget -O scibert_uncased.tar https://s3-us-west-2.amazonaws.com/ai2-s2-research/scibert/huggingface_pytorch/scibert_scivocab_uncased.tar\n",
        "!tar -xvf scibert_uncased.tar\n",
        "import torch\n",
        "from transformers import BertTokenizer, BertModel"
      ],
      "metadata": {
        "id": "LCppBbjGdxP7",
        "colab": {
          "base_uri": "https://localhost:8080/"
        },
        "outputId": "c8308e2b-fd08-4290-d1d0-aba901b91f20"
      },
      "execution_count": 3,
      "outputs": [
        {
          "output_type": "stream",
          "name": "stdout",
          "text": [
            "Looking in indexes: https://pypi.org/simple, https://us-python.pkg.dev/colab-wheels/public/simple/\n",
            "Requirement already satisfied: transformers in /usr/local/lib/python3.7/dist-packages (4.21.0)\n",
            "Requirement already satisfied: filelock in /usr/local/lib/python3.7/dist-packages (from transformers) (3.7.1)\n",
            "Requirement already satisfied: huggingface-hub<1.0,>=0.1.0 in /usr/local/lib/python3.7/dist-packages (from transformers) (0.8.1)\n",
            "Requirement already satisfied: numpy>=1.17 in /usr/local/lib/python3.7/dist-packages (from transformers) (1.21.6)\n",
            "Requirement already satisfied: requests in /usr/local/lib/python3.7/dist-packages (from transformers) (2.23.0)\n",
            "Requirement already satisfied: importlib-metadata in /usr/local/lib/python3.7/dist-packages (from transformers) (4.12.0)\n",
            "Requirement already satisfied: regex!=2019.12.17 in /usr/local/lib/python3.7/dist-packages (from transformers) (2022.6.2)\n",
            "Requirement already satisfied: packaging>=20.0 in /usr/local/lib/python3.7/dist-packages (from transformers) (21.3)\n",
            "Requirement already satisfied: tokenizers!=0.11.3,<0.13,>=0.11.1 in /usr/local/lib/python3.7/dist-packages (from transformers) (0.12.1)\n",
            "Requirement already satisfied: pyyaml>=5.1 in /usr/local/lib/python3.7/dist-packages (from transformers) (6.0)\n",
            "Requirement already satisfied: tqdm>=4.27 in /usr/local/lib/python3.7/dist-packages (from transformers) (4.64.0)\n",
            "Requirement already satisfied: typing-extensions>=3.7.4.3 in /usr/local/lib/python3.7/dist-packages (from huggingface-hub<1.0,>=0.1.0->transformers) (4.1.1)\n",
            "Requirement already satisfied: pyparsing!=3.0.5,>=2.0.2 in /usr/local/lib/python3.7/dist-packages (from packaging>=20.0->transformers) (3.0.9)\n",
            "Requirement already satisfied: zipp>=0.5 in /usr/local/lib/python3.7/dist-packages (from importlib-metadata->transformers) (3.8.1)\n",
            "Requirement already satisfied: certifi>=2017.4.17 in /usr/local/lib/python3.7/dist-packages (from requests->transformers) (2022.6.15)\n",
            "Requirement already satisfied: chardet<4,>=3.0.2 in /usr/local/lib/python3.7/dist-packages (from requests->transformers) (3.0.4)\n",
            "Requirement already satisfied: urllib3!=1.25.0,!=1.25.1,<1.26,>=1.21.1 in /usr/local/lib/python3.7/dist-packages (from requests->transformers) (1.24.3)\n",
            "Requirement already satisfied: idna<3,>=2.5 in /usr/local/lib/python3.7/dist-packages (from requests->transformers) (2.10)\n",
            "--2022-07-31 08:54:37--  https://s3-us-west-2.amazonaws.com/ai2-s2-research/scibert/huggingface_pytorch/scibert_scivocab_uncased.tar\n",
            "Resolving s3-us-west-2.amazonaws.com (s3-us-west-2.amazonaws.com)... 52.92.148.168\n",
            "Connecting to s3-us-west-2.amazonaws.com (s3-us-west-2.amazonaws.com)|52.92.148.168|:443... connected.\n",
            "HTTP request sent, awaiting response... 200 OK\n",
            "Length: 442460160 (422M) [application/x-tar]\n",
            "Saving to: ‘scibert_uncased.tar’\n",
            "\n",
            "scibert_uncased.tar 100%[===================>] 421.96M  21.7MB/s    in 21s     \n",
            "\n",
            "2022-07-31 08:54:59 (20.1 MB/s) - ‘scibert_uncased.tar’ saved [442460160/442460160]\n",
            "\n",
            "scibert_scivocab_uncased/\n",
            "scibert_scivocab_uncased/vocab.txt\n",
            "scibert_scivocab_uncased/pytorch_model.bin\n",
            "scibert_scivocab_uncased/config.json\n"
          ]
        }
      ]
    },
    {
      "cell_type": "markdown",
      "source": [
        "We will use the SciBERT Vocab uncased model as that is what is recommended on the official GitHub Page"
      ],
      "metadata": {
        "id": "natgFW7vg1VC"
      }
    },
    {
      "cell_type": "code",
      "source": [
        "model_version = 'scibert_scivocab_uncased'\n",
        "do_lower_case = True\n",
        "model = BertModel.from_pretrained(model_version)\n",
        "tokenizer = BertTokenizer.from_pretrained(model_version, do_lower_case=do_lower_case)"
      ],
      "metadata": {
        "colab": {
          "base_uri": "https://localhost:8080/"
        },
        "id": "M7X8jAX0Watq",
        "outputId": "c9e931aa-a4f0-4580-efed-0dbb2c4788b8"
      },
      "execution_count": 4,
      "outputs": [
        {
          "output_type": "stream",
          "name": "stderr",
          "text": [
            "Some weights of the model checkpoint at scibert_scivocab_uncased were not used when initializing BertModel: ['cls.predictions.transform.LayerNorm.weight', 'cls.predictions.transform.dense.weight', 'cls.predictions.transform.dense.bias', 'cls.seq_relationship.bias', 'cls.seq_relationship.weight', 'cls.predictions.bias', 'cls.predictions.decoder.weight', 'cls.predictions.transform.LayerNorm.bias']\n",
            "- This IS expected if you are initializing BertModel from the checkpoint of a model trained on another task or with another architecture (e.g. initializing a BertForSequenceClassification model from a BertForPreTraining model).\n",
            "- This IS NOT expected if you are initializing BertModel from the checkpoint of a model that you expect to be exactly identical (initializing a BertForSequenceClassification model from a BertForSequenceClassification model).\n",
            "The tokenizer class you load from this checkpoint is not the same type as the class this function is called from. It may result in unexpected tokenization. \n",
            "The tokenizer class you load from this checkpoint is 'RobertaTokenizer'. \n",
            "The class this function is called from is 'BertTokenizer'.\n"
          ]
        }
      ]
    },
    {
      "cell_type": "code",
      "source": [
        "from sklearn.metrics.pairwise import cosine_similarity\n",
        "def embed_text(text, model):\n",
        "    input_ids = torch.tensor(tokenizer.encode(text)).unsqueeze(0)  # Batch size 1\n",
        "    outputs = model(input_ids)\n",
        "    last_hidden_states = outputs[0]  # The last hidden-state is the first element of the output tuple\n",
        "    return last_hidden_states \n",
        "\n",
        "def get_similarity(em, em2):\n",
        "    return cosine_similarity(em.detach().numpy(), em2.detach().numpy())"
      ],
      "metadata": {
        "id": "FtLSfI2bWq9A"
      },
      "execution_count": 5,
      "outputs": []
    },
    {
      "cell_type": "code",
      "source": [
        "# We will use a mean of all word embeddings. To do that we will take mean over dimension 1 which is the sequence length.\n",
        "Research_em = embed_text(\"Research\", model).mean(1)\n",
        "computer_em = embed_text(\"computer science articles\", model).mean(1)\n",
        "Rec_em = embed_text(\"Recommender System\", model).mean(1)\n",
        "medi_em = embed_text(\"biotech\", model).mean(1)\n",
        "ir_em= embed_text(\"scholarly\", model).mean(1)\n",
        "print(\"Similarity for Research and computer:\" + str(get_similarity(Research_em, computer_em)))\n",
        "print(\"Similarity for Research and Rec:\" + str(get_similarity(Research_em, Rec_em)))\n",
        "print(\"Similarity for Research and medi:\" + str(get_similarity(Research_em,medi_em)))\n",
        "print(\"Similarity for Research and ir:\" + str(get_similarity(Research_em, ir_em)))"
      ],
      "metadata": {
        "colab": {
          "base_uri": "https://localhost:8080/"
        },
        "id": "v5C7XkkjW6MZ",
        "outputId": "e5305f50-a42c-47f0-92e0-279af0b56665"
      },
      "execution_count": 6,
      "outputs": [
        {
          "output_type": "stream",
          "name": "stdout",
          "text": [
            "Similarity for Research and computer:[[0.659531]]\n",
            "Similarity for Research and Rec:[[0.67065305]]\n",
            "Similarity for Research and medi:[[0.667645]]\n",
            "Similarity for Research and ir:[[0.82327175]]\n"
          ]
        }
      ]
    },
    {
      "cell_type": "markdown",
      "source": [
        "Let's now look at visualizing some of these vectors with U-Map. I'm choosing U-Map here due to the high-dimensionality of the data (768-D"
      ],
      "metadata": {
        "id": "qQokQWZjhGNQ"
      }
    },
    {
      "cell_type": "code",
      "source": [
        "!pip install umap-learn\n",
        "import umap\n",
        "reducer = umap.UMAP()"
      ],
      "metadata": {
        "colab": {
          "base_uri": "https://localhost:8080/"
        },
        "id": "tpYcZ3eoYJ4j",
        "outputId": "c7866bc1-275e-466d-c199-0b1ba05f5ad1"
      },
      "execution_count": 7,
      "outputs": [
        {
          "output_type": "stream",
          "name": "stdout",
          "text": [
            "Looking in indexes: https://pypi.org/simple, https://us-python.pkg.dev/colab-wheels/public/simple/\n",
            "Requirement already satisfied: umap-learn in /usr/local/lib/python3.7/dist-packages (0.5.3)\n",
            "Requirement already satisfied: scipy>=1.0 in /usr/local/lib/python3.7/dist-packages (from umap-learn) (1.7.3)\n",
            "Requirement already satisfied: numpy>=1.17 in /usr/local/lib/python3.7/dist-packages (from umap-learn) (1.21.6)\n",
            "Requirement already satisfied: numba>=0.49 in /usr/local/lib/python3.7/dist-packages (from umap-learn) (0.51.2)\n",
            "Requirement already satisfied: pynndescent>=0.5 in /usr/local/lib/python3.7/dist-packages (from umap-learn) (0.5.7)\n",
            "Requirement already satisfied: tqdm in /usr/local/lib/python3.7/dist-packages (from umap-learn) (4.64.0)\n",
            "Requirement already satisfied: scikit-learn>=0.22 in /usr/local/lib/python3.7/dist-packages (from umap-learn) (1.0.2)\n",
            "Requirement already satisfied: setuptools in /usr/local/lib/python3.7/dist-packages (from numba>=0.49->umap-learn) (57.4.0)\n",
            "Requirement already satisfied: llvmlite<0.35,>=0.34.0.dev0 in /usr/local/lib/python3.7/dist-packages (from numba>=0.49->umap-learn) (0.34.0)\n",
            "Requirement already satisfied: joblib>=0.11 in /usr/local/lib/python3.7/dist-packages (from pynndescent>=0.5->umap-learn) (1.1.0)\n",
            "Requirement already satisfied: threadpoolctl>=2.0.0 in /usr/local/lib/python3.7/dist-packages (from scikit-learn>=0.22->umap-learn) (3.1.0)\n"
          ]
        }
      ]
    },
    {
      "cell_type": "code",
      "source": [
        "import os\n",
        "import json \n",
        "def make_the_embeds(number_files, start_range=0, \n",
        "                    the_path='/content/drive/Shareddrives/M.Tech.Thesis(Juned)/DATASET/es_demo.json'):\n",
        "  \n",
        "    data = []\n",
        "    for line in open(the_path, 'r'):\n",
        "        data.append(json.loads(line))\n",
        "        num=len(data)\n",
        "\n",
        "    # data preprocessing\n",
        "\n",
        "    doc_preprocess = []\n",
        "    for x in range(num):\n",
        "        text=(data[x]['_source']['title'])\n",
        "        doc_preprocess.append((text))\n",
        "\n",
        "\n",
        "\n",
        "\n",
        "\n",
        "    title_embedding_list = [] \n",
        "    title_list = []\n",
        "    for i in range(start_range, number_files):\n",
        "        # file_name = the_list[i]\n",
        "        # final_path = os.path.join(the_path, file_name)\n",
        "        \n",
        "        try:\n",
        "            tensor, title = make_data_embedding(doc_preprocess[i])\n",
        "            title_embedding_list.append(tensor)\n",
        "            title_list.append(title)\n",
        "        except:\n",
        "            print(\"Invalid title/abstract\")\n",
        "    return torch.cat(title_embedding_list, dim=0), title_list\n",
        "        \n",
        "def make_data_embedding(article_data, method=\"mean\", dim=1):\n",
        "    data = article_data\n",
        "    # for key in data_keys:\n",
        "    #     data = data[key]\n",
        "    text = embed_text(data, model)\n",
        "    if method == \"mean\":\n",
        "        return text.mean(dim), data\n",
        "    \n",
        "embed_list, title_list = make_the_embeds(200)\n",
        "red = reducer.fit_transform(embed_list.detach().numpy())"
      ],
      "metadata": {
        "colab": {
          "base_uri": "https://localhost:8080/"
        },
        "id": "FkQ0qz9HZOnK",
        "outputId": "ee51bdbe-e5b5-48c8-f7aa-6c5eb9999cd5"
      },
      "execution_count": 8,
      "outputs": [
        {
          "output_type": "stream",
          "name": "stderr",
          "text": [
            "/usr/local/lib/python3.7/dist-packages/numba/np/ufunc/parallel.py:363: NumbaWarning: The TBB threading layer requires TBB version 2019.5 or later i.e., TBB_INTERFACE_VERSION >= 11005. Found TBB_INTERFACE_VERSION = 9107. The TBB threading layer is disabled.\n",
            "  warnings.warn(problem)\n"
          ]
        }
      ]
    },
    {
      "cell_type": "markdown",
      "source": [
        "I found 200 to be a good chunk size for running quick analysis; doing a full plot can get kind of crowded and is slow to compute."
      ],
      "metadata": {
        "id": "5c712zBvhK4T"
      }
    },
    {
      "cell_type": "code",
      "source": [
        "from bokeh.plotting import figure, show, output_notebook\n",
        "from bokeh.models import HoverTool, ColumnDataSource, CategoricalColorMapper\n",
        "from bokeh.palettes import Spectral10, Category20c\n",
        "from bokeh.palettes import magma\n",
        "import pandas as pd\n",
        "output_notebook()"
      ],
      "metadata": {
        "id": "WpBoDfZAcj_h"
      },
      "execution_count": 9,
      "outputs": []
    },
    {
      "cell_type": "code",
      "source": [
        "def make_plot(red, title_list, number=200, color = True, color_mapping_cat=None, color_cats = None, bg_color=\"white\"):   \n",
        "    digits_df = pd.DataFrame(red, columns=('x', 'y'))\n",
        "    if color_mapping_cat:\n",
        "        digits_df['colors'] = color_mapping_cat\n",
        "    digits_df['digit'] = title_list\n",
        "    datasource = ColumnDataSource(digits_df)\n",
        "    plot_figure = figure(\n",
        "    title='UMAP projection of the article title embeddings',\n",
        "    plot_width=890,\n",
        "    plot_height=600,\n",
        "    tools=('pan, wheel_zoom, reset'),\n",
        "    background_fill_color = bg_color\n",
        "    )\n",
        "    plot_figure.legend.location = \"top_left\",\n",
        "    plot_figure.add_tools(HoverTool(tooltips=\"\"\"\n",
        "    <div>\n",
        "    <div>\n",
        "        <img src='@image' style='float: left; margin: 5px 5px 5px 5px'/>\n",
        "    </div>\n",
        "    <div>\n",
        "        <span style='font-size: 10px; color: #224499'></span>\n",
        "        <span style='font-size: 10px'>@digit</span>\n",
        "    </div>\n",
        "    </div>\n",
        "    \"\"\"))\n",
        "    if color:   \n",
        "        color_mapping = CategoricalColorMapper(factors=title_list, palette=magma(number))\n",
        "        plot_figure.circle(\n",
        "            'x',\n",
        "            'y',\n",
        "            source=datasource,\n",
        "            color=dict(field='digit', transform=color_mapping),\n",
        "            line_alpha=0.6,\n",
        "            fill_alpha=0.6,\n",
        "            size=7\n",
        "        )\n",
        "        show(plot_figure)\n",
        "    elif color_mapping_cat:\n",
        "        color_mapping = CategoricalColorMapper(factors=color_cats, palette=magma(len(color_cats)+2)[2:])\n",
        "        plot_figure.circle(\n",
        "            'x',\n",
        "            'y',\n",
        "            source=datasource,\n",
        "            color=dict(field='colors', transform=color_mapping),\n",
        "            line_alpha=0.6,\n",
        "            fill_alpha=0.6,\n",
        "            size=8,\n",
        "            legend_field='colors'\n",
        "        )\n",
        "        show(plot_figure)\n",
        "    else:\n",
        "        \n",
        "        plot_figure.circle(\n",
        "            'x',\n",
        "            'y',\n",
        "            source=datasource,\n",
        "            color=dict(field='digit'),\n",
        "            line_alpha=0.6,\n",
        "            fill_alpha=0.6,\n",
        "            size=7\n",
        "        )\n",
        "        show(plot_figure)\n",
        "    \n",
        "make_plot(red, title_list, number=200)"
      ],
      "metadata": {
        "colab": {
          "resources": {
            "http://localhost:8080/???": {
              "data": "CjwhRE9DVFlQRSBodG1sPgo8aHRtbCBsYW5nPWVuPgogIDxtZXRhIGNoYXJzZXQ9dXRmLTg+CiAgPG1ldGEgbmFtZT12aWV3cG9ydCBjb250ZW50PSJpbml0aWFsLXNjYWxlPTEsIG1pbmltdW0tc2NhbGU9MSwgd2lkdGg9ZGV2aWNlLXdpZHRoIj4KICA8dGl0bGU+RXJyb3IgNDA0IChOb3QgRm91bmQpISExPC90aXRsZT4KICA8c3R5bGU+CiAgICAqe21hcmdpbjowO3BhZGRpbmc6MH1odG1sLGNvZGV7Zm9udDoxNXB4LzIycHggYXJpYWwsc2Fucy1zZXJpZn1odG1se2JhY2tncm91bmQ6I2ZmZjtjb2xvcjojMjIyO3BhZGRpbmc6MTVweH1ib2R5e21hcmdpbjo3JSBhdXRvIDA7bWF4LXdpZHRoOjM5MHB4O21pbi1oZWlnaHQ6MTgwcHg7cGFkZGluZzozMHB4IDAgMTVweH0qID4gYm9keXtiYWNrZ3JvdW5kOnVybCgvL3d3dy5nb29nbGUuY29tL2ltYWdlcy9lcnJvcnMvcm9ib3QucG5nKSAxMDAlIDVweCBuby1yZXBlYXQ7cGFkZGluZy1yaWdodDoyMDVweH1we21hcmdpbjoxMXB4IDAgMjJweDtvdmVyZmxvdzpoaWRkZW59aW5ze2NvbG9yOiM3Nzc7dGV4dC1kZWNvcmF0aW9uOm5vbmV9YSBpbWd7Ym9yZGVyOjB9QG1lZGlhIHNjcmVlbiBhbmQgKG1heC13aWR0aDo3NzJweCl7Ym9keXtiYWNrZ3JvdW5kOm5vbmU7bWFyZ2luLXRvcDowO21heC13aWR0aDpub25lO3BhZGRpbmctcmlnaHQ6MH19I2xvZ297YmFja2dyb3VuZDp1cmwoLy93d3cuZ29vZ2xlLmNvbS9pbWFnZXMvbG9nb3MvZXJyb3JwYWdlL2Vycm9yX2xvZ28tMTUweDU0LnBuZykgbm8tcmVwZWF0O21hcmdpbi1sZWZ0Oi01cHh9QG1lZGlhIG9ubHkgc2NyZWVuIGFuZCAobWluLXJlc29sdXRpb246MTkyZHBpKXsjbG9nb3tiYWNrZ3JvdW5kOnVybCgvL3d3dy5nb29nbGUuY29tL2ltYWdlcy9sb2dvcy9lcnJvcnBhZ2UvZXJyb3JfbG9nby0xNTB4NTQtMngucG5nKSBuby1yZXBlYXQgMCUgMCUvMTAwJSAxMDAlOy1tb3otYm9yZGVyLWltYWdlOnVybCgvL3d3dy5nb29nbGUuY29tL2ltYWdlcy9sb2dvcy9lcnJvcnBhZ2UvZXJyb3JfbG9nby0xNTB4NTQtMngucG5nKSAwfX1AbWVkaWEgb25seSBzY3JlZW4gYW5kICgtd2Via2l0LW1pbi1kZXZpY2UtcGl4ZWwtcmF0aW86Mil7I2xvZ297YmFja2dyb3VuZDp1cmwoLy93d3cuZ29vZ2xlLmNvbS9pbWFnZXMvbG9nb3MvZXJyb3JwYWdlL2Vycm9yX2xvZ28tMTUweDU0LTJ4LnBuZykgbm8tcmVwZWF0Oy13ZWJraXQtYmFja2dyb3VuZC1zaXplOjEwMCUgMTAwJX19I2xvZ297ZGlzcGxheTppbmxpbmUtYmxvY2s7aGVpZ2h0OjU0cHg7d2lkdGg6MTUwcHh9CiAgPC9zdHlsZT4KICA8YSBocmVmPS8vd3d3Lmdvb2dsZS5jb20vPjxzcGFuIGlkPWxvZ28gYXJpYS1sYWJlbD1Hb29nbGU+PC9zcGFuPjwvYT4KICA8cD48Yj40MDQuPC9iPiA8aW5zPlRoYXTigJlzIGFuIGVycm9yLjwvaW5zPgogIDxwPiAgPGlucz5UaGF04oCZcyBhbGwgd2Uga25vdy48L2lucz4K",
              "ok": false,
              "headers": [
                [
                  "content-length",
                  "1449"
                ],
                [
                  "content-type",
                  "text/html; charset=utf-8"
                ]
              ],
              "status": 404,
              "status_text": ""
            }
          },
          "base_uri": "https://localhost:8080/",
          "height": 721
        },
        "id": "Ri08WYAscsY6",
        "outputId": "f779b0a4-cf69-4ded-b358-512f5e19fa06"
      },
      "execution_count": 10,
      "outputs": [
        {
          "output_type": "stream",
          "name": "stderr",
          "text": [
            "/usr/local/lib/python3.7/dist-packages/bokeh/models/plots.py:766: UserWarning: \n",
            "You are attempting to set `plot.legend.location` on a plot that has zero legends added, this will have no effect.\n",
            "\n",
            "Before legend properties can be set, you must add a Legend explicitly, or call a glyph method with a legend parameter set.\n",
            "\n",
            "  warnings.warn(_LEGEND_EMPTY_WARNING % attr)\n"
          ]
        },
        {
          "output_type": "display_data",
          "data": {
            "application/javascript": [
              "\n",
              "(function(root) {\n",
              "  function now() {\n",
              "    return new Date();\n",
              "  }\n",
              "\n",
              "  var force = true;\n",
              "\n",
              "  if (typeof root._bokeh_onload_callbacks === \"undefined\" || force === true) {\n",
              "    root._bokeh_onload_callbacks = [];\n",
              "    root._bokeh_is_loading = undefined;\n",
              "  }\n",
              "\n",
              "  var JS_MIME_TYPE = 'application/javascript';\n",
              "  var HTML_MIME_TYPE = 'text/html';\n",
              "  var EXEC_MIME_TYPE = 'application/vnd.bokehjs_exec.v0+json';\n",
              "  var CLASS_NAME = 'output_bokeh rendered_html';\n",
              "\n",
              "  /**\n",
              "   * Render data to the DOM node\n",
              "   */\n",
              "  function render(props, node) {\n",
              "    var script = document.createElement(\"script\");\n",
              "    node.appendChild(script);\n",
              "  }\n",
              "\n",
              "  /**\n",
              "   * Handle when an output is cleared or removed\n",
              "   */\n",
              "  function handleClearOutput(event, handle) {\n",
              "    var cell = handle.cell;\n",
              "\n",
              "    var id = cell.output_area._bokeh_element_id;\n",
              "    var server_id = cell.output_area._bokeh_server_id;\n",
              "    // Clean up Bokeh references\n",
              "    if (id != null && id in Bokeh.index) {\n",
              "      Bokeh.index[id].model.document.clear();\n",
              "      delete Bokeh.index[id];\n",
              "    }\n",
              "\n",
              "    if (server_id !== undefined) {\n",
              "      // Clean up Bokeh references\n",
              "      var cmd = \"from bokeh.io.state import curstate; print(curstate().uuid_to_server['\" + server_id + \"'].get_sessions()[0].document.roots[0]._id)\";\n",
              "      cell.notebook.kernel.execute(cmd, {\n",
              "        iopub: {\n",
              "          output: function(msg) {\n",
              "            var id = msg.content.text.trim();\n",
              "            if (id in Bokeh.index) {\n",
              "              Bokeh.index[id].model.document.clear();\n",
              "              delete Bokeh.index[id];\n",
              "            }\n",
              "          }\n",
              "        }\n",
              "      });\n",
              "      // Destroy server and session\n",
              "      var cmd = \"import bokeh.io.notebook as ion; ion.destroy_server('\" + server_id + \"')\";\n",
              "      cell.notebook.kernel.execute(cmd);\n",
              "    }\n",
              "  }\n",
              "\n",
              "  /**\n",
              "   * Handle when a new output is added\n",
              "   */\n",
              "  function handleAddOutput(event, handle) {\n",
              "    var output_area = handle.output_area;\n",
              "    var output = handle.output;\n",
              "\n",
              "    // limit handleAddOutput to display_data with EXEC_MIME_TYPE content only\n",
              "    if ((output.output_type != \"display_data\") || (!Object.prototype.hasOwnProperty.call(output.data, EXEC_MIME_TYPE))) {\n",
              "      return\n",
              "    }\n",
              "\n",
              "    var toinsert = output_area.element.find(\".\" + CLASS_NAME.split(' ')[0]);\n",
              "\n",
              "    if (output.metadata[EXEC_MIME_TYPE][\"id\"] !== undefined) {\n",
              "      toinsert[toinsert.length - 1].firstChild.textContent = output.data[JS_MIME_TYPE];\n",
              "      // store reference to embed id on output_area\n",
              "      output_area._bokeh_element_id = output.metadata[EXEC_MIME_TYPE][\"id\"];\n",
              "    }\n",
              "    if (output.metadata[EXEC_MIME_TYPE][\"server_id\"] !== undefined) {\n",
              "      var bk_div = document.createElement(\"div\");\n",
              "      bk_div.innerHTML = output.data[HTML_MIME_TYPE];\n",
              "      var script_attrs = bk_div.children[0].attributes;\n",
              "      for (var i = 0; i < script_attrs.length; i++) {\n",
              "        toinsert[toinsert.length - 1].firstChild.setAttribute(script_attrs[i].name, script_attrs[i].value);\n",
              "        toinsert[toinsert.length - 1].firstChild.textContent = bk_div.children[0].textContent\n",
              "      }\n",
              "      // store reference to server id on output_area\n",
              "      output_area._bokeh_server_id = output.metadata[EXEC_MIME_TYPE][\"server_id\"];\n",
              "    }\n",
              "  }\n",
              "\n",
              "  function register_renderer(events, OutputArea) {\n",
              "\n",
              "    function append_mime(data, metadata, element) {\n",
              "      // create a DOM node to render to\n",
              "      var toinsert = this.create_output_subarea(\n",
              "        metadata,\n",
              "        CLASS_NAME,\n",
              "        EXEC_MIME_TYPE\n",
              "      );\n",
              "      this.keyboard_manager.register_events(toinsert);\n",
              "      // Render to node\n",
              "      var props = {data: data, metadata: metadata[EXEC_MIME_TYPE]};\n",
              "      render(props, toinsert[toinsert.length - 1]);\n",
              "      element.append(toinsert);\n",
              "      return toinsert\n",
              "    }\n",
              "\n",
              "    /* Handle when an output is cleared or removed */\n",
              "    events.on('clear_output.CodeCell', handleClearOutput);\n",
              "    events.on('delete.Cell', handleClearOutput);\n",
              "\n",
              "    /* Handle when a new output is added */\n",
              "    events.on('output_added.OutputArea', handleAddOutput);\n",
              "\n",
              "    /**\n",
              "     * Register the mime type and append_mime function with output_area\n",
              "     */\n",
              "    OutputArea.prototype.register_mime_type(EXEC_MIME_TYPE, append_mime, {\n",
              "      /* Is output safe? */\n",
              "      safe: true,\n",
              "      /* Index of renderer in `output_area.display_order` */\n",
              "      index: 0\n",
              "    });\n",
              "  }\n",
              "\n",
              "  // register the mime type if in Jupyter Notebook environment and previously unregistered\n",
              "  if (root.Jupyter !== undefined) {\n",
              "    var events = require('base/js/events');\n",
              "    var OutputArea = require('notebook/js/outputarea').OutputArea;\n",
              "\n",
              "    if (OutputArea.prototype.mime_types().indexOf(EXEC_MIME_TYPE) == -1) {\n",
              "      register_renderer(events, OutputArea);\n",
              "    }\n",
              "  }\n",
              "\n",
              "  \n",
              "  if (typeof (root._bokeh_timeout) === \"undefined\" || force === true) {\n",
              "    root._bokeh_timeout = Date.now() + 5000;\n",
              "    root._bokeh_failed_load = false;\n",
              "  }\n",
              "\n",
              "  var NB_LOAD_WARNING = {'data': {'text/html':\n",
              "     \"<div style='background-color: #fdd'>\\n\"+\n",
              "     \"<p>\\n\"+\n",
              "     \"BokehJS does not appear to have successfully loaded. If loading BokehJS from CDN, this \\n\"+\n",
              "     \"may be due to a slow or bad network connection. Possible fixes:\\n\"+\n",
              "     \"</p>\\n\"+\n",
              "     \"<ul>\\n\"+\n",
              "     \"<li>re-rerun `output_notebook()` to attempt to load from CDN again, or</li>\\n\"+\n",
              "     \"<li>use INLINE resources instead, as so:</li>\\n\"+\n",
              "     \"</ul>\\n\"+\n",
              "     \"<code>\\n\"+\n",
              "     \"from bokeh.resources import INLINE\\n\"+\n",
              "     \"output_notebook(resources=INLINE)\\n\"+\n",
              "     \"</code>\\n\"+\n",
              "     \"</div>\"}};\n",
              "\n",
              "  function display_loaded() {\n",
              "    var el = document.getElementById(null);\n",
              "    if (el != null) {\n",
              "      el.textContent = \"BokehJS is loading...\";\n",
              "    }\n",
              "    if (root.Bokeh !== undefined) {\n",
              "      if (el != null) {\n",
              "        el.textContent = \"BokehJS \" + root.Bokeh.version + \" successfully loaded.\";\n",
              "      }\n",
              "    } else if (Date.now() < root._bokeh_timeout) {\n",
              "      setTimeout(display_loaded, 100)\n",
              "    }\n",
              "  }\n",
              "\n",
              "\n",
              "  function run_callbacks() {\n",
              "    try {\n",
              "      root._bokeh_onload_callbacks.forEach(function(callback) {\n",
              "        if (callback != null)\n",
              "          callback();\n",
              "      });\n",
              "    } finally {\n",
              "      delete root._bokeh_onload_callbacks\n",
              "    }\n",
              "    console.debug(\"Bokeh: all callbacks have finished\");\n",
              "  }\n",
              "\n",
              "  function load_libs(css_urls, js_urls, callback) {\n",
              "    if (css_urls == null) css_urls = [];\n",
              "    if (js_urls == null) js_urls = [];\n",
              "\n",
              "    root._bokeh_onload_callbacks.push(callback);\n",
              "    if (root._bokeh_is_loading > 0) {\n",
              "      console.debug(\"Bokeh: BokehJS is being loaded, scheduling callback at\", now());\n",
              "      return null;\n",
              "    }\n",
              "    if (js_urls == null || js_urls.length === 0) {\n",
              "      run_callbacks();\n",
              "      return null;\n",
              "    }\n",
              "    console.debug(\"Bokeh: BokehJS not loaded, scheduling load and callback at\", now());\n",
              "    root._bokeh_is_loading = css_urls.length + js_urls.length;\n",
              "\n",
              "    function on_load() {\n",
              "      root._bokeh_is_loading--;\n",
              "      if (root._bokeh_is_loading === 0) {\n",
              "        console.debug(\"Bokeh: all BokehJS libraries/stylesheets loaded\");\n",
              "        run_callbacks()\n",
              "      }\n",
              "    }\n",
              "\n",
              "    function on_error(url) {\n",
              "      console.error(\"failed to load \" + url);\n",
              "    }\n",
              "\n",
              "    for (let i = 0; i < css_urls.length; i++) {\n",
              "      const url = css_urls[i];\n",
              "      const element = document.createElement(\"link\");\n",
              "      element.onload = on_load;\n",
              "      element.onerror = on_error.bind(null, url);\n",
              "      element.rel = \"stylesheet\";\n",
              "      element.type = \"text/css\";\n",
              "      element.href = url;\n",
              "      console.debug(\"Bokeh: injecting link tag for BokehJS stylesheet: \", url);\n",
              "      document.body.appendChild(element);\n",
              "    }\n",
              "\n",
              "    const hashes = {\"https://cdn.bokeh.org/bokeh/release/bokeh-2.3.3.min.js\": \"dM3QQsP+wXdHg42wTqW85BjZQdLNNIXqlPw/BgKoExPmTG7ZLML4EGqLMfqHT6ON\", \"https://cdn.bokeh.org/bokeh/release/bokeh-tables-2.3.3.min.js\": \"8x57I4YuIfu8XyZfFo0XVr2WAT8EK4rh/uDe3wF7YuW2FNUSNEpJbsPaB1nJ2fz2\", \"https://cdn.bokeh.org/bokeh/release/bokeh-widgets-2.3.3.min.js\": \"3QTqdz9LyAm2i0sG5XTePsHec3UHWwVsrOL68SYRoAXsafvfAyqtQ+h440+qIBhS\"};\n",
              "\n",
              "    for (let i = 0; i < js_urls.length; i++) {\n",
              "      const url = js_urls[i];\n",
              "      const element = document.createElement('script');\n",
              "      element.onload = on_load;\n",
              "      element.onerror = on_error.bind(null, url);\n",
              "      element.async = false;\n",
              "      element.src = url;\n",
              "      if (url in hashes) {\n",
              "        element.crossOrigin = \"anonymous\";\n",
              "        element.integrity = \"sha384-\" + hashes[url];\n",
              "      }\n",
              "      console.debug(\"Bokeh: injecting script tag for BokehJS library: \", url);\n",
              "      document.head.appendChild(element);\n",
              "    }\n",
              "  };\n",
              "\n",
              "  function inject_raw_css(css) {\n",
              "    const element = document.createElement(\"style\");\n",
              "    element.appendChild(document.createTextNode(css));\n",
              "    document.body.appendChild(element);\n",
              "  }\n",
              "\n",
              "  \n",
              "  var js_urls = [\"https://cdn.bokeh.org/bokeh/release/bokeh-2.3.3.min.js\", \"https://cdn.bokeh.org/bokeh/release/bokeh-widgets-2.3.3.min.js\", \"https://cdn.bokeh.org/bokeh/release/bokeh-tables-2.3.3.min.js\"];\n",
              "  var css_urls = [];\n",
              "  \n",
              "\n",
              "  var inline_js = [\n",
              "    function(Bokeh) {\n",
              "      Bokeh.set_log_level(\"info\");\n",
              "    },\n",
              "    function(Bokeh) {\n",
              "    \n",
              "    \n",
              "    }\n",
              "  ];\n",
              "\n",
              "  function run_inline_js() {\n",
              "    \n",
              "    if (root.Bokeh !== undefined || force === true) {\n",
              "      \n",
              "    for (var i = 0; i < inline_js.length; i++) {\n",
              "      inline_js[i].call(root, root.Bokeh);\n",
              "    }\n",
              "    } else if (Date.now() < root._bokeh_timeout) {\n",
              "      setTimeout(run_inline_js, 100);\n",
              "    } else if (!root._bokeh_failed_load) {\n",
              "      console.log(\"Bokeh: BokehJS failed to load within specified timeout.\");\n",
              "      root._bokeh_failed_load = true;\n",
              "    } else if (force !== true) {\n",
              "      var cell = $(document.getElementById(null)).parents('.cell').data().cell;\n",
              "      cell.output_area.append_execute_result(NB_LOAD_WARNING)\n",
              "    }\n",
              "\n",
              "  }\n",
              "\n",
              "  if (root._bokeh_is_loading === 0) {\n",
              "    console.debug(\"Bokeh: BokehJS loaded, going straight to plotting\");\n",
              "    run_inline_js();\n",
              "  } else {\n",
              "    load_libs(css_urls, js_urls, function() {\n",
              "      console.debug(\"Bokeh: BokehJS plotting callback run at\", now());\n",
              "      run_inline_js();\n",
              "    });\n",
              "  }\n",
              "}(window));"
            ],
            "application/vnd.bokehjs_load.v0+json": "\n(function(root) {\n  function now() {\n    return new Date();\n  }\n\n  var force = true;\n\n  if (typeof root._bokeh_onload_callbacks === \"undefined\" || force === true) {\n    root._bokeh_onload_callbacks = [];\n    root._bokeh_is_loading = undefined;\n  }\n\n  \n\n  \n  if (typeof (root._bokeh_timeout) === \"undefined\" || force === true) {\n    root._bokeh_timeout = Date.now() + 5000;\n    root._bokeh_failed_load = false;\n  }\n\n  var NB_LOAD_WARNING = {'data': {'text/html':\n     \"<div style='background-color: #fdd'>\\n\"+\n     \"<p>\\n\"+\n     \"BokehJS does not appear to have successfully loaded. If loading BokehJS from CDN, this \\n\"+\n     \"may be due to a slow or bad network connection. Possible fixes:\\n\"+\n     \"</p>\\n\"+\n     \"<ul>\\n\"+\n     \"<li>re-rerun `output_notebook()` to attempt to load from CDN again, or</li>\\n\"+\n     \"<li>use INLINE resources instead, as so:</li>\\n\"+\n     \"</ul>\\n\"+\n     \"<code>\\n\"+\n     \"from bokeh.resources import INLINE\\n\"+\n     \"output_notebook(resources=INLINE)\\n\"+\n     \"</code>\\n\"+\n     \"</div>\"}};\n\n  function display_loaded() {\n    var el = document.getElementById(null);\n    if (el != null) {\n      el.textContent = \"BokehJS is loading...\";\n    }\n    if (root.Bokeh !== undefined) {\n      if (el != null) {\n        el.textContent = \"BokehJS \" + root.Bokeh.version + \" successfully loaded.\";\n      }\n    } else if (Date.now() < root._bokeh_timeout) {\n      setTimeout(display_loaded, 100)\n    }\n  }\n\n\n  function run_callbacks() {\n    try {\n      root._bokeh_onload_callbacks.forEach(function(callback) {\n        if (callback != null)\n          callback();\n      });\n    } finally {\n      delete root._bokeh_onload_callbacks\n    }\n    console.debug(\"Bokeh: all callbacks have finished\");\n  }\n\n  function load_libs(css_urls, js_urls, callback) {\n    if (css_urls == null) css_urls = [];\n    if (js_urls == null) js_urls = [];\n\n    root._bokeh_onload_callbacks.push(callback);\n    if (root._bokeh_is_loading > 0) {\n      console.debug(\"Bokeh: BokehJS is being loaded, scheduling callback at\", now());\n      return null;\n    }\n    if (js_urls == null || js_urls.length === 0) {\n      run_callbacks();\n      return null;\n    }\n    console.debug(\"Bokeh: BokehJS not loaded, scheduling load and callback at\", now());\n    root._bokeh_is_loading = css_urls.length + js_urls.length;\n\n    function on_load() {\n      root._bokeh_is_loading--;\n      if (root._bokeh_is_loading === 0) {\n        console.debug(\"Bokeh: all BokehJS libraries/stylesheets loaded\");\n        run_callbacks()\n      }\n    }\n\n    function on_error(url) {\n      console.error(\"failed to load \" + url);\n    }\n\n    for (let i = 0; i < css_urls.length; i++) {\n      const url = css_urls[i];\n      const element = document.createElement(\"link\");\n      element.onload = on_load;\n      element.onerror = on_error.bind(null, url);\n      element.rel = \"stylesheet\";\n      element.type = \"text/css\";\n      element.href = url;\n      console.debug(\"Bokeh: injecting link tag for BokehJS stylesheet: \", url);\n      document.body.appendChild(element);\n    }\n\n    const hashes = {\"https://cdn.bokeh.org/bokeh/release/bokeh-2.3.3.min.js\": \"dM3QQsP+wXdHg42wTqW85BjZQdLNNIXqlPw/BgKoExPmTG7ZLML4EGqLMfqHT6ON\", \"https://cdn.bokeh.org/bokeh/release/bokeh-tables-2.3.3.min.js\": \"8x57I4YuIfu8XyZfFo0XVr2WAT8EK4rh/uDe3wF7YuW2FNUSNEpJbsPaB1nJ2fz2\", \"https://cdn.bokeh.org/bokeh/release/bokeh-widgets-2.3.3.min.js\": \"3QTqdz9LyAm2i0sG5XTePsHec3UHWwVsrOL68SYRoAXsafvfAyqtQ+h440+qIBhS\"};\n\n    for (let i = 0; i < js_urls.length; i++) {\n      const url = js_urls[i];\n      const element = document.createElement('script');\n      element.onload = on_load;\n      element.onerror = on_error.bind(null, url);\n      element.async = false;\n      element.src = url;\n      if (url in hashes) {\n        element.crossOrigin = \"anonymous\";\n        element.integrity = \"sha384-\" + hashes[url];\n      }\n      console.debug(\"Bokeh: injecting script tag for BokehJS library: \", url);\n      document.head.appendChild(element);\n    }\n  };\n\n  function inject_raw_css(css) {\n    const element = document.createElement(\"style\");\n    element.appendChild(document.createTextNode(css));\n    document.body.appendChild(element);\n  }\n\n  \n  var js_urls = [\"https://cdn.bokeh.org/bokeh/release/bokeh-2.3.3.min.js\", \"https://cdn.bokeh.org/bokeh/release/bokeh-widgets-2.3.3.min.js\", \"https://cdn.bokeh.org/bokeh/release/bokeh-tables-2.3.3.min.js\"];\n  var css_urls = [];\n  \n\n  var inline_js = [\n    function(Bokeh) {\n      Bokeh.set_log_level(\"info\");\n    },\n    function(Bokeh) {\n    \n    \n    }\n  ];\n\n  function run_inline_js() {\n    \n    if (root.Bokeh !== undefined || force === true) {\n      \n    for (var i = 0; i < inline_js.length; i++) {\n      inline_js[i].call(root, root.Bokeh);\n    }\n    } else if (Date.now() < root._bokeh_timeout) {\n      setTimeout(run_inline_js, 100);\n    } else if (!root._bokeh_failed_load) {\n      console.log(\"Bokeh: BokehJS failed to load within specified timeout.\");\n      root._bokeh_failed_load = true;\n    } else if (force !== true) {\n      var cell = $(document.getElementById(null)).parents('.cell').data().cell;\n      cell.output_area.append_execute_result(NB_LOAD_WARNING)\n    }\n\n  }\n\n  if (root._bokeh_is_loading === 0) {\n    console.debug(\"Bokeh: BokehJS loaded, going straight to plotting\");\n    run_inline_js();\n  } else {\n    load_libs(css_urls, js_urls, function() {\n      console.debug(\"Bokeh: BokehJS plotting callback run at\", now());\n      run_inline_js();\n    });\n  }\n}(window));"
          },
          "metadata": {}
        },
        {
          "output_type": "display_data",
          "data": {
            "text/html": [
              "\n",
              "\n",
              "\n",
              "\n",
              "\n",
              "\n",
              "  <div class=\"bk-root\" id=\"dba6670d-6cdc-40f6-9ef5-33af88c36cb1\" data-root-id=\"1003\"></div>\n"
            ]
          },
          "metadata": {}
        },
        {
          "output_type": "display_data",
          "data": {
            "application/javascript": [
              "(function(root) {\n",
              "  function embed_document(root) {\n",
              "    \n",
              "  var docs_json = {\"98324283-b36a-497e-b996-a0289cb58a41\":{\"defs\":[],\"roots\":{\"references\":[{\"attributes\":{\"background_fill_color\":\"white\",\"below\":[{\"id\":\"1014\"}],\"center\":[{\"id\":\"1017\"},{\"id\":\"1021\"}],\"left\":[{\"id\":\"1018\"}],\"renderers\":[{\"id\":\"1035\"}],\"title\":{\"id\":\"1004\"},\"toolbar\":{\"id\":\"1025\"},\"width\":890,\"x_range\":{\"id\":\"1006\"},\"x_scale\":{\"id\":\"1010\"},\"y_range\":{\"id\":\"1008\"},\"y_scale\":{\"id\":\"1012\"}},\"id\":\"1003\",\"subtype\":\"Figure\",\"type\":\"Plot\"},{\"attributes\":{},\"id\":\"1019\",\"type\":\"BasicTicker\"},{\"attributes\":{},\"id\":\"1040\",\"type\":\"BasicTickFormatter\"},{\"attributes\":{\"fill_alpha\":{\"value\":0.6},\"fill_color\":{\"field\":\"digit\",\"transform\":{\"id\":\"1031\"}},\"line_alpha\":{\"value\":0.6},\"line_color\":{\"field\":\"digit\",\"transform\":{\"id\":\"1031\"}},\"size\":{\"value\":7},\"x\":{\"field\":\"x\"},\"y\":{\"field\":\"y\"}},\"id\":\"1033\",\"type\":\"Circle\"},{\"attributes\":{\"callback\":null,\"tooltips\":\"\\n    <div>\\n    <div>\\n        <img src='@image' style='float: left; margin: 5px 5px 5px 5px'/>\\n    </div>\\n    <div>\\n        <span style='font-size: 10px; color: #224499'></span>\\n        <span style='font-size: 10px'>@digit</span>\\n    </div>\\n    </div>\\n    \"},\"id\":\"1029\",\"type\":\"HoverTool\"},{\"attributes\":{},\"id\":\"1012\",\"type\":\"LinearScale\"},{\"attributes\":{},\"id\":\"1008\",\"type\":\"DataRange1d\"},{\"attributes\":{},\"id\":\"1045\",\"type\":\"UnionRenderers\"},{\"attributes\":{\"text\":\"UMAP projection of the article title embeddings\"},\"id\":\"1004\",\"type\":\"Title\"},{\"attributes\":{\"formatter\":{\"id\":\"1040\"},\"major_label_policy\":{\"id\":\"1038\"},\"ticker\":{\"id\":\"1015\"}},\"id\":\"1014\",\"type\":\"LinearAxis\"},{\"attributes\":{\"factors\":[\"Research on NOFRF Entropy-Based Detection Method for Early Damage of Pillar Porcelain Insulator\",\"Retweet Prediction Using Context-Aware Coupled Matrix-Tensor Factorization\",\"Multiagent Light Field Reconstruction and Maneuvering Target Recognition via GAN\",\"LIDAR-based model reconstruction for spacecraft pose determination\",\"Asymmetric double-core fiber for hydraulic pressure sensing\",\"Selective Matrix Factorization for Multi-relational Data Fusion\",\"Multi-level adaptive coupled method for industrial control networks safety based on machine learning\",\"Concurrent concept-cognitive learning model for classification\",\"Geoengineering: Sunlight reflection methods and negative emissions technologies for greenhouse gas removal\",\"Integrated model of BP neural network and CNN algorithm for automatic wear debris classification\",\"Analysis Based Requirement Evolution Prediction\",\"Reliability prediction model of NAND flash memory based on random forest algorithm\",\"Automatic Classification Algorithm of Underwater Moving Targets near Coast\",\"Convolutional Neural Network for Satellite Image Classification\",\"A multi-objective optimization methodology based on multi-mid-range meta-models for multimodal deterministic/robust problems\",\"VisMillion: A novel interactive visualization technique for real-time big data\",\"Aspect-based sentiment analysis using deep networks and stochastic optimization\",\"Constrained Reinforcement Learning Has Zero Duality Gap\",\"The Pipeline Performance Model: A Generic Executable Performance Model for GPUs\",\"Methodology and decentralised control of modularised changeable conveyor logistics system\",\"Cost aware Inference for IoT Devices\",\"Distance variety preserving hashing for large\\u2010scale retrieval\",\"Demonstrating BiographySampo in Solving Digital Humanities Research Problems in Biography and Prosopography\",\"Segmentation and 3D-Modelling of Single-Rooted Teeth from CBCT Data: An Automatic Strategy Based on Dental Pulp Segmentation and Surface Deformation\",\"Ontology-Based Knowledge Representation Approach for Packaging Cost Estimation of Mechanical and Electrical Products\",\"High-Power Ultrashort Pulse Lasers to Pump Plasma-Based Soft X-Ray Lasers\",\"A Machine Learning Framework for Feature Selection in Heart Disease Classification Using Improved Particle Swarm Optimization with Support Vector Machine Classifier\",\"Surface modification and microwave absorption properties of lightweight CNT absorbent\",\"A New Approach to Detect At-Risk Learning Communities in Social Networks\",\"Profiling Hemodynamic Application for Parallel Computing in the Cloud\",\"Reinforcing Diversity Company Policies: Insights from StackOverflow Developers Survey\",\"Improving Semantic Matching via Multi-Task Learning in E-Commerce\",\"Malayalam Error Sentence Detection using Deep Learning with RNN-LSTM\",\"Multicore bi-layer gold-coated SPR-based sensor for simultaneous measurements of CFC and HCFC\",\"A Method of Bank Card Number Recognition and End-to-End Integration Based on Deep Learning\",\"Shellfish Detection Based on Fusion Attention Mechanism in End-to-End Network\",\"Validation of a Model for Knowledge Management in the Cocoa Producing Peasant Organizations of Vinces Using Neutrosophic Iadov Technique\",\"A Fuzzy Model for Cross-Functional Team Formation Based On Personality Traits\",\"eXtended Finite Element Method Connected with Multi-objective Optimization Algorithm Used in 3D Electromagnetic Problems\",\"Growth model and visualization of a virtual jujube tree\",\"Individual Privacy Supporting Organisational Security\",\"An Over-sampling Method Based on Margin Theory\",\"E-Commerce Merchant Classification using Website Information\",\"On the Construction of Uncertain Time Series Surrogates Using Polynomial Chaos and Gaussian Processes\",\"Improvement of Page Ranking Algorithm by Negative Score of Spam Pages\",\"An integrated algorithm for multi-agent fault-tolerant scheduling based on MOEA\",\"On the distance $\\\\alpha$-spectral radius of a connected graph\",\"3D thickness measurement using pulse-driven optical coherence tomography based on wavelet transform\",\"Deep Distillation Metric Learning\",\"A Simple Algorithm for Hard Exudate Detection in Diabetic Retinopathy Using Spectral-Domain Optical Coherence Tomography\",\"Adaptable mobile cloud computing environment with code transfer based on machine learning\",\"Smart Blockchain: Second International Conference, SmartBlock 2019, Birmingham, UK, October 11\\u201313, 2019, Proceedings\",\"A local geometrical metric-based model for polyp classification\",\"The Implicit Effect of Items Rating on Recommendation System\",\"Virtual Bartender: A Dialog System Combining Data-Driven and Knowledge-Based Recommendation\",\"A Novel Algorithm for Automatic Text Summarization System Using Lexical Chain\",\"A Method to Enhance the Security Capability of Python IDE\",\"Multi-channeled MR brain image segmentation: A novel double optimization approach combined with clustering technique for tumor identification and tissue segmentation\",\"ST ] 3 O ct 2 01 9 Privately detecting changes in unknown distributions\",\"Correlation effects and configuration of a one-dimensional bipolaron\",\"Partial Order Structure Based Image Retrieval\",\"Far-field pseudothermal correlation imaging\",\"Fault-tolerant design method for tizen applications considering core- and API-level faults\",\"Automating Change-Level Self-Admitted Technical Debt Determination\",\"Space-variant deconvolution of Cerenkov light images acquired from a curved surface.\",\"Non-destructive classification of apple bruising time based on visible and near-infrared hyperspectral imaging.\",\"Direct Growth of Large-Area Graphene by Cross-Linked Parylene Graphitization Toward Photodetection\",\"Learning MILP Resolution Outcomes Before Reaching Time-Limit\",\"Visual SLAM in Human Populated Environments: Exploring the Trade-off between Accuracy and Speed of YOLO and Mask R-CNN\",\"Design of a High-Resolution Metal\\u2013Insulator\\u2013Metal Plasmonic Refractive Index Sensor Based on a Ring-Shaped Si Resonator\",\"Analysis of object-oriented system quality model using soft computing techniques\",\"Development of STEP AP224 Extractor for Interfacing Feature Based CAPP to STEP-NC (AP238)\",\"Emotion-Based Cross-Variety Irony Detection\",\"Leaf classification with improved image feature based on the seven moment invariant\",\"WE-Rec: A fairness-aware reciprocal recommendation based on Walrasian equilibrium\",\"Big Data and Machine Learning for Economic Cycle Prediction: Application of Thailand's Economy\",\"Process Parameters Optimization Using Jaya Algorithm During Edm Machining Of Niti60 Alloy\",\"Antenna-on-Chip Radiation Pattern Characterization \\u2013 Analysis of Different Approaches\",\"Uroxite and metauroxite, the first two uranyl oxalate minerals\",\"Extraction of Basic-Level Categories Using Dendrogram and Multidendrogram\",\"A model for predicting the temperature field during selective laser melting\",\"Novel Features for Character Extraction of Historical Chinese Seal Images\",\"A Novel fuzzy frame selection based watermarking scheme for MPEG-4 videos using Bi-directional extreme learning machine\",\"Unique Fog Computing Taxonomy for Evaluating Cloud Services\",\"KLASIFIKASI SPAM E-MAIL MENGGUNAKAN METODE TRANSFORMED COMPLEMENT NA\\u00cfVE BAYES (TCNB)\",\"Cooperative Path Optimization for Multi-UAVs Based on Dynamic Target Positioning and Tracking\",\"Rethinking Communication in Multiple-kernel OSes for New Shared Memory Interconnects\",\"Towards the classification of heart sounds based on convolutional deep neural network\",\"Tracking of land vehicle motion with the use of distance measurements\",\"Security Monitoring of Windows Containers\",\"Optimal successive start-up strategy of two hydraulic coupling pumped storage units based on multi-objective control\",\"Constrained dynamic multi-objective evolutionary optimization for operational indices of beneficiation process\",\"Broadband Supercontinuum Generation from a Tm Oscillator in a Highly Nonlinear Silica Fiber\",\"A Summary of Domestic E-commerce Development Research\",\"SegRPN: Scale Aware Joint Object Detection and Semantic Segmentation\",\"Implementation of a Single Sign-On System with Open Source Software\",\"Exploring Aspects of Polyglot High-Performance Virtual Machine GraalVM\",\"Decoding of BISS-C Protocol Based on FPGA\",\"Fault-Tolerant Cloud System Based on Fault Tree Analysis\",\"Amniotic Fluid Segmentation by Pixel Classification in B-Mode Ultrasound Image for Computer Assisted Diagnosis\",\"An Automatic Model Combining Descriptors of Gray-Level Co-Occurrence Matrix and HMAX Model for Adaptive Detection of Liver Disease in CT Images\",\"OPTIMIZATION OF HEURISTIC ALGORITHMS FOR IMPROVING BER OF ADAPTIVE TURBO CODES\",\"Artificial Sensory Memory.\",\"Real-time Dash Streaming Architecture for Internet of Things Using FBMRWP Model for Medical Videos.\",\"A Novel Neutrosophic Image Segmentation Based on Improved Particle Swarm Optimization Fuzzy C-Means Algorithm\",\"Use of Sentiment Analysis Techniques in Healthcare Domain\",\"Applying Core Features of the Object-Oriented Programming Paradigm by Function Blocks Based on the IEC 61131 and IEC 61499 Industrial Automation Norms\",\"Infrastructure and Energy Conservation in Big Data Computing: A Survey\",\"Fixed-point refinement of digital signal processing systems\",\"JavaScript Code Suggestion Based on Deep Learning\",\"Cloud Resource Management for Analyzing Big Real-Time Visual Data from Network Cameras\",\"A Dynamic Microtask Approach to Collecting and Organizing Citizens' Opinions\",\"Overview of Content based Image Retrieval using Map-Reduce\",\"Effect of Finite Word-Length on SQNR, Area and Power for Real-Valued Serial FFT\",\"The effect of cutting parameters on micro-hardness and the prediction of Vickers hardness based on a response surface methodology for micro-milling Inconel 718\",\"A new metaheuristic optimization method: the algorithm of the innovative gunner (AIG)\",\"Modeling of silicon surface topographies induced by single nanosecond laser pulse induced melt-flows\",\"Hierarchical scheduling of real-time tasks over Linux-based virtual machines\",\"A Detection Algorithm of Malicious Domain Based on Deep Learning and Multi-Head Attention Mechanism\",\"Research on an Improved Algorithm of Professional Information Retrieval System\",\"Two Experiments Comparing Two Four-Step EPMcreate-Based Creativity Techniques for Requirements Elicitation\",\"A new approach for the computation of halfspace depth in high dimensions\",\"Title An Interactive Data Language software package to calculateionospheric conductivity by using numerical models\",\"A Counselors-Based Intrusion Detection Architecture\",\"A Practical and Extensible Framework for Garbage Collection Tracing\",\"Research on Automation Testing Technology Based on Image Recognition\",\"3 Access Control in OpenStack Cloud IaaS\",\"Research on Traditional Structure Optimization in Cloud Computing Environment\",\"A blockchain-based adaptive middleware for large scale internet of things data storage selection\",\"A nonlinear particle packing model for multi-sized granular soils\",\"Optimizing the Performance of Timed-Constrained Business Processes in Cloud-Fog Environment\",\"Ontology-based conditional random fields for object recognition\",\"A Privacy-Aware V-Model for Software Development\",\"Mining Software Repositories for Software Metrics ( MSR-SM ) : Conceptual Framework\",\"The evolving digital factory \\u2013 new chances for a consistent information flow\",\"A Density-based Clustering Algorithm Using Adaptive Parameter K-Reverse Nearest Neighbor\",\"Scalable Service Placement in the Fog Computing Environment for the IoT-Based Smart City\",\"Multi-branch fusion network for hyperspectral image classification\",\"Efficient Feature Matching via Nonnegative Orthogonal Relaxation\",\"Fast Distributed Top-q and Top-k Query Processing\",\"Video Abnormal Event Detection Based on ELM\",\"Distributed Neuro-Dynamic Optimization for Multi-Objective Power Management Problem in Micro-Grid\",\"Collaborative representation-based discriminant neighborhood projections for face recognition\",\"Prognostic Views on Software Defined Networks Based Security for Internet of Things\",\"An Automated Testing Methodology For Digital TV Middleware Implementations\",\"CNN-based health model using knowledge mining of influencing factors\",\"TEKNIK PENYEMBUNYIAN PESAN TEKS TERENKRIPSI ALGORITMA MERKLE-HELLMAN KNAPSACK MENGGUNAKAN METODE PIXEL VALUE DIFFERENCING KE DALAM CITRA DIGITAL\",\"Traffic flow prediction using LSTM with feature enhancement\",\"A Versatile 3D Face Reconstruction from Multiple Images for Face Shape Classification\",\"Research on error model between position of measurement point and measurement accuracy in multilateral coordinate measuring system\",\"Large Q factor with very small Whispering Gallery Modes resonators\",\"Quality of Service-Based Cloud Models in Manufacturing Process Automation\",\"Combining Domain Knowledge & Machine Learning: Making Predictions using Boosting Techniques\",\"pointerchain: Tracing pointers to their roots - A case study in molecular dynamics simulations\",\"Graphical Lasso and Thresholding: Equivalence and Closed-form Solutions\",\"Quantized Kalman Filter-Based Pattern Matching for Detection and Tracking of Moving Objects\",\"Software Design of Automatic Parking Robot Based on Flat Stereo Garage\",\"Optical Diagnosis of Colorectal Polyps: Recent Developments\",\"Faster multi-defect detection system in shield tunnel using combination of FCN and faster RCNN\",\"Compact instrumentation and (analytical) performance evaluation for laser-induced breakdown spectroscopy\",\"Proposed Modifications in the Excitation Codebook Structure of ITU-T CS-ACELP Speech Codec and Its Overall Comparative Performance Analysis with CELP-Based AMR-NB Speech Codec\",\"TZVis: visual analysis of bicycle data for traffic zone division\",\"Image Fusion Algorithm Based on Multi-Focus Image Fusion Using a Guided-Filter-Based Images\",\"Navigation Flow Modeling as a Basis for the Automatic Generation of Android APPs\",\"Clustering for the automatic annotation of customer service chat messages\",\"Bridging the Gap between High-Performance, Cloud and Service-Oriented Computing\",\"Internet of things in the assessment, diagnostics and treatment of Parkinson\\u2019s disease\",\"QTest 2.1: Quantitative testing of theories of binary choice using Bayesian inference\",\"The Mobile Application Development Based on Online Music Library for Socializing in the World of Bard Songs and Scouts\\u2019 Bonfires\",\"Blowhole Detection Based on Bidirectional Enhancement and Omnidirectional Analysis for X-Ray Inspection of Castings\",\"uXOM: Efficient eXecute-Only Memory on ARM Cortex-M\",\"Pattern recognition of SEMG based on wavelet packet transform and improved SVM\",\"Land Cover Classification Using Extremely Randomized Trees: A Kernel Perspective\",\"Dynamic clustering method for imbalanced learning based on AdaBoost\",\"Based Multi-Objective Algorithms Applied to the Variability Testing of Software Product Lines\",\"Joint Video Caching and User Association With Mobile Edge Computing\",\"Schema Extraction for Deep Web Query Interfaces Using Heuristics Rules\",\"Application of Gait Recognition Technology in Badminton Action Analysis\",\"Rectangular Pulse Generation From a Mode Locked Raman Fiber Laser\",\"Cooperation in the spatial public goods game with the second-order reputation evaluation\",\"L1 And L2 Norm Depth-Regularized Estimation Of The Acoustic Attenuation And Backscatter Coefficients Using Dynamic Programming\",\"Flower snark and related graph\\u2019s reverse super edge \\u2013 Magic labelings\",\"Design and Implementation of Color Detection Technique using Fuzzy Logic\",\"Modeling R-dependence of near-threshold fatigue crack growth by combining crack closure and exponential mean stress model\",\"Multi-model and multi-level aluminum electrolytic fault diagnosis method\",\"iRobot-Factory: An intelligent robot factory based on cognitive manufacturing and edge computing\",\"Attribute-Sentiment Pair Correlation Model Based on Online User Reviews\",\"One-class Field-aware Factorization Machines for Recommender Systems with Implicit Feedbacks\",\"An End-User Pipeline for Scraping and Visualizing Semi-Structured Data over the Web\",\"Triple attention network for sentimental visual question answering\",\"Concurrent Algorithms and Data Structures for Model Checking (Invited Talk)\",\"Towards efficient and scalable implementation for coding-based on-demand data broadcast\",\"Object-Based Rate Adjustment for HEVC Transrating\",\"Assessment on various Approaches for Content Based Image Retrieval\",\"Optimistic Fair Exchange in Cloud-Assisted Cyber-Physical Systems\",\"Synthesis of Ni-Ta on Ti-6Al-4V Alloy Using Spark Plasma Sintering\",\"Modelling and Simulation of Fog and Edge Computing Environments using iFogSim Toolkit\",\"How do we talk about doctors and drugs? Sentiment analysis in forums expressing opinions for medical domain\",\"Automatic segmentation algorithm of femur and tibia based on Vnet-C network\",\"EEG Signal Processing Based on Genetic Algorithm for Extracting Mixed Features\"],\"palette\":[\"#000003\",\"#000004\",\"#000006\",\"#010007\",\"#01010B\",\"#02020D\",\"#02020F\",\"#030311\",\"#040415\",\"#050417\",\"#060519\",\"#08061D\",\"#09071F\",\"#0A0722\",\"#0B0824\",\"#0D0A28\",\"#0E0A2A\",\"#0F0B2C\",\"#110C31\",\"#120D33\",\"#140D35\",\"#150E38\",\"#170F3C\",\"#180F3F\",\"#1A1041\",\"#1C1046\",\"#1E1049\",\"#1F114B\",\"#20114D\",\"#231152\",\"#251155\",\"#261157\",\"#2A115C\",\"#2B115E\",\"#2D1060\",\"#2F1062\",\"#321067\",\"#341068\",\"#350F6A\",\"#370F6C\",\"#3B0F6F\",\"#3C0F71\",\"#3E0F72\",\"#420F74\",\"#430F75\",\"#450F76\",\"#470F77\",\"#4A1079\",\"#4B1079\",\"#4D117A\",\"#50127B\",\"#52127C\",\"#53137C\",\"#55137D\",\"#58157E\",\"#5A157E\",\"#5B167E\",\"#5E177F\",\"#60187F\",\"#61187F\",\"#63197F\",\"#661A80\",\"#681B80\",\"#691C80\",\"#6C1D80\",\"#6E1E81\",\"#6F1E81\",\"#711F81\",\"#742081\",\"#762181\",\"#772181\",\"#792281\",\"#7C2381\",\"#7E2481\",\"#7F2481\",\"#822581\",\"#842681\",\"#852681\",\"#872781\",\"#8A2881\",\"#8C2980\",\"#8D2980\",\"#912A80\",\"#922B80\",\"#942B80\",\"#952C80\",\"#992D7F\",\"#9A2D7F\",\"#9C2E7F\",\"#9F2F7E\",\"#A12F7E\",\"#A3307E\",\"#A4307D\",\"#A7317D\",\"#A9327C\",\"#AB337C\",\"#AE347B\",\"#B0347B\",\"#B1357A\",\"#B3357A\",\"#B63679\",\"#B83778\",\"#B93778\",\"#BB3877\",\"#BE3976\",\"#C03A75\",\"#C23A75\",\"#C53C74\",\"#C63C73\",\"#C83D72\",\"#CA3E72\",\"#CD3F70\",\"#CE4070\",\"#D0416F\",\"#D3426D\",\"#D4436D\",\"#D6446C\",\"#D7456B\",\"#DA4769\",\"#DC4869\",\"#DD4968\",\"#E04B66\",\"#E14C66\",\"#E24D65\",\"#E44E64\",\"#E65162\",\"#E75262\",\"#E85461\",\"#EB5660\",\"#EC585F\",\"#ED595F\",\"#EE5B5E\",\"#EF5E5D\",\"#F0605D\",\"#F1615C\",\"#F2635C\",\"#F3675B\",\"#F4685B\",\"#F56A5B\",\"#F66E5B\",\"#F6705B\",\"#F7715B\",\"#F7735C\",\"#F8775C\",\"#F9795C\",\"#F97B5D\",\"#FA7F5E\",\"#FA805E\",\"#FA825F\",\"#FB8460\",\"#FB8861\",\"#FB8A62\",\"#FC8C63\",\"#FC9064\",\"#FC9265\",\"#FC9366\",\"#FD9567\",\"#FD9969\",\"#FD9B6A\",\"#FD9D6B\",\"#FDA16E\",\"#FDA26F\",\"#FDA470\",\"#FEA671\",\"#FEAA74\",\"#FEAC75\",\"#FEAE76\",\"#FEAF78\",\"#FEB37B\",\"#FEB57C\",\"#FEB77D\",\"#FEBB80\",\"#FEBC82\",\"#FEBE83\",\"#FEC085\",\"#FEC488\",\"#FEC689\",\"#FEC78B\",\"#FECB8E\",\"#FDCD90\",\"#FDCF92\",\"#FDD193\",\"#FDD497\",\"#FDD698\",\"#FDD89A\",\"#FDDC9D\",\"#FDDD9F\",\"#FDDFA1\",\"#FDE1A3\",\"#FCE5A6\",\"#FCE6A8\",\"#FCE8AA\",\"#FCECAE\",\"#FCEEB0\",\"#FCF0B1\",\"#FCF1B3\",\"#FCF5B7\",\"#FBF7B9\",\"#FBF9BB\",\"#FBFCBF\"]},\"id\":\"1031\",\"type\":\"CategoricalColorMapper\"},{\"attributes\":{\"data\":{\"digit\":[\"Research on NOFRF Entropy-Based Detection Method for Early Damage of Pillar Porcelain Insulator\",\"Retweet Prediction Using Context-Aware Coupled Matrix-Tensor Factorization\",\"Multiagent Light Field Reconstruction and Maneuvering Target Recognition via GAN\",\"LIDAR-based model reconstruction for spacecraft pose determination\",\"Asymmetric double-core fiber for hydraulic pressure sensing\",\"Selective Matrix Factorization for Multi-relational Data Fusion\",\"Multi-level adaptive coupled method for industrial control networks safety based on machine learning\",\"Concurrent concept-cognitive learning model for classification\",\"Geoengineering: Sunlight reflection methods and negative emissions technologies for greenhouse gas removal\",\"Integrated model of BP neural network and CNN algorithm for automatic wear debris classification\",\"Analysis Based Requirement Evolution Prediction\",\"Reliability prediction model of NAND flash memory based on random forest algorithm\",\"Automatic Classification Algorithm of Underwater Moving Targets near Coast\",\"Convolutional Neural Network for Satellite Image Classification\",\"A multi-objective optimization methodology based on multi-mid-range meta-models for multimodal deterministic/robust problems\",\"VisMillion: A novel interactive visualization technique for real-time big data\",\"Aspect-based sentiment analysis using deep networks and stochastic optimization\",\"Constrained Reinforcement Learning Has Zero Duality Gap\",\"The Pipeline Performance Model: A Generic Executable Performance Model for GPUs\",\"Methodology and decentralised control of modularised changeable conveyor logistics system\",\"Cost aware Inference for IoT Devices\",\"Distance variety preserving hashing for large\\u2010scale retrieval\",\"Demonstrating BiographySampo in Solving Digital Humanities Research Problems in Biography and Prosopography\",\"Segmentation and 3D-Modelling of Single-Rooted Teeth from CBCT Data: An Automatic Strategy Based on Dental Pulp Segmentation and Surface Deformation\",\"Ontology-Based Knowledge Representation Approach for Packaging Cost Estimation of Mechanical and Electrical Products\",\"High-Power Ultrashort Pulse Lasers to Pump Plasma-Based Soft X-Ray Lasers\",\"A Machine Learning Framework for Feature Selection in Heart Disease Classification Using Improved Particle Swarm Optimization with Support Vector Machine Classifier\",\"Surface modification and microwave absorption properties of lightweight CNT absorbent\",\"A New Approach to Detect At-Risk Learning Communities in Social Networks\",\"Profiling Hemodynamic Application for Parallel Computing in the Cloud\",\"Reinforcing Diversity Company Policies: Insights from StackOverflow Developers Survey\",\"Improving Semantic Matching via Multi-Task Learning in E-Commerce\",\"Malayalam Error Sentence Detection using Deep Learning with RNN-LSTM\",\"Multicore bi-layer gold-coated SPR-based sensor for simultaneous measurements of CFC and HCFC\",\"A Method of Bank Card Number Recognition and End-to-End Integration Based on Deep Learning\",\"Shellfish Detection Based on Fusion Attention Mechanism in End-to-End Network\",\"Validation of a Model for Knowledge Management in the Cocoa Producing Peasant Organizations of Vinces Using Neutrosophic Iadov Technique\",\"A Fuzzy Model for Cross-Functional Team Formation Based On Personality Traits\",\"eXtended Finite Element Method Connected with Multi-objective Optimization Algorithm Used in 3D Electromagnetic Problems\",\"Growth model and visualization of a virtual jujube tree\",\"Individual Privacy Supporting Organisational Security\",\"An Over-sampling Method Based on Margin Theory\",\"E-Commerce Merchant Classification using Website Information\",\"On the Construction of Uncertain Time Series Surrogates Using Polynomial Chaos and Gaussian Processes\",\"Improvement of Page Ranking Algorithm by Negative Score of Spam Pages\",\"An integrated algorithm for multi-agent fault-tolerant scheduling based on MOEA\",\"On the distance $\\\\alpha$-spectral radius of a connected graph\",\"3D thickness measurement using pulse-driven optical coherence tomography based on wavelet transform\",\"Deep Distillation Metric Learning\",\"A Simple Algorithm for Hard Exudate Detection in Diabetic Retinopathy Using Spectral-Domain Optical Coherence Tomography\",\"Adaptable mobile cloud computing environment with code transfer based on machine learning\",\"Smart Blockchain: Second International Conference, SmartBlock 2019, Birmingham, UK, October 11\\u201313, 2019, Proceedings\",\"A local geometrical metric-based model for polyp classification\",\"The Implicit Effect of Items Rating on Recommendation System\",\"Virtual Bartender: A Dialog System Combining Data-Driven and Knowledge-Based Recommendation\",\"A Novel Algorithm for Automatic Text Summarization System Using Lexical Chain\",\"A Method to Enhance the Security Capability of Python IDE\",\"Multi-channeled MR brain image segmentation: A novel double optimization approach combined with clustering technique for tumor identification and tissue segmentation\",\"ST ] 3 O ct 2 01 9 Privately detecting changes in unknown distributions\",\"Correlation effects and configuration of a one-dimensional bipolaron\",\"Partial Order Structure Based Image Retrieval\",\"Far-field pseudothermal correlation imaging\",\"Fault-tolerant design method for tizen applications considering core- and API-level faults\",\"Automating Change-Level Self-Admitted Technical Debt Determination\",\"Space-variant deconvolution of Cerenkov light images acquired from a curved surface.\",\"Non-destructive classification of apple bruising time based on visible and near-infrared hyperspectral imaging.\",\"Direct Growth of Large-Area Graphene by Cross-Linked Parylene Graphitization Toward Photodetection\",\"Learning MILP Resolution Outcomes Before Reaching Time-Limit\",\"Visual SLAM in Human Populated Environments: Exploring the Trade-off between Accuracy and Speed of YOLO and Mask R-CNN\",\"Design of a High-Resolution Metal\\u2013Insulator\\u2013Metal Plasmonic Refractive Index Sensor Based on a Ring-Shaped Si Resonator\",\"Analysis of object-oriented system quality model using soft computing techniques\",\"Development of STEP AP224 Extractor for Interfacing Feature Based CAPP to STEP-NC (AP238)\",\"Emotion-Based Cross-Variety Irony Detection\",\"Leaf classification with improved image feature based on the seven moment invariant\",\"WE-Rec: A fairness-aware reciprocal recommendation based on Walrasian equilibrium\",\"Big Data and Machine Learning for Economic Cycle Prediction: Application of Thailand's Economy\",\"Process Parameters Optimization Using Jaya Algorithm During Edm Machining Of Niti60 Alloy\",\"Antenna-on-Chip Radiation Pattern Characterization \\u2013 Analysis of Different Approaches\",\"Uroxite and metauroxite, the first two uranyl oxalate minerals\",\"Extraction of Basic-Level Categories Using Dendrogram and Multidendrogram\",\"A model for predicting the temperature field during selective laser melting\",\"Novel Features for Character Extraction of Historical Chinese Seal Images\",\"A Novel fuzzy frame selection based watermarking scheme for MPEG-4 videos using Bi-directional extreme learning machine\",\"Unique Fog Computing Taxonomy for Evaluating Cloud Services\",\"KLASIFIKASI SPAM E-MAIL MENGGUNAKAN METODE TRANSFORMED COMPLEMENT NA\\u00cfVE BAYES (TCNB)\",\"Cooperative Path Optimization for Multi-UAVs Based on Dynamic Target Positioning and Tracking\",\"Rethinking Communication in Multiple-kernel OSes for New Shared Memory Interconnects\",\"Towards the classification of heart sounds based on convolutional deep neural network\",\"Tracking of land vehicle motion with the use of distance measurements\",\"Security Monitoring of Windows Containers\",\"Optimal successive start-up strategy of two hydraulic coupling pumped storage units based on multi-objective control\",\"Constrained dynamic multi-objective evolutionary optimization for operational indices of beneficiation process\",\"Broadband Supercontinuum Generation from a Tm Oscillator in a Highly Nonlinear Silica Fiber\",\"A Summary of Domestic E-commerce Development Research\",\"SegRPN: Scale Aware Joint Object Detection and Semantic Segmentation\",\"Implementation of a Single Sign-On System with Open Source Software\",\"Exploring Aspects of Polyglot High-Performance Virtual Machine GraalVM\",\"Decoding of BISS-C Protocol Based on FPGA\",\"Fault-Tolerant Cloud System Based on Fault Tree Analysis\",\"Amniotic Fluid Segmentation by Pixel Classification in B-Mode Ultrasound Image for Computer Assisted Diagnosis\",\"An Automatic Model Combining Descriptors of Gray-Level Co-Occurrence Matrix and HMAX Model for Adaptive Detection of Liver Disease in CT Images\",\"OPTIMIZATION OF HEURISTIC ALGORITHMS FOR IMPROVING BER OF ADAPTIVE TURBO CODES\",\"Artificial Sensory Memory.\",\"Real-time Dash Streaming Architecture for Internet of Things Using FBMRWP Model for Medical Videos.\",\"A Novel Neutrosophic Image Segmentation Based on Improved Particle Swarm Optimization Fuzzy C-Means Algorithm\",\"Use of Sentiment Analysis Techniques in Healthcare Domain\",\"Applying Core Features of the Object-Oriented Programming Paradigm by Function Blocks Based on the IEC 61131 and IEC 61499 Industrial Automation Norms\",\"Infrastructure and Energy Conservation in Big Data Computing: A Survey\",\"Fixed-point refinement of digital signal processing systems\",\"JavaScript Code Suggestion Based on Deep Learning\",\"Cloud Resource Management for Analyzing Big Real-Time Visual Data from Network Cameras\",\"A Dynamic Microtask Approach to Collecting and Organizing Citizens' Opinions\",\"Overview of Content based Image Retrieval using Map-Reduce\",\"Effect of Finite Word-Length on SQNR, Area and Power for Real-Valued Serial FFT\",\"The effect of cutting parameters on micro-hardness and the prediction of Vickers hardness based on a response surface methodology for micro-milling Inconel 718\",\"A new metaheuristic optimization method: the algorithm of the innovative gunner (AIG)\",\"Modeling of silicon surface topographies induced by single nanosecond laser pulse induced melt-flows\",\"Hierarchical scheduling of real-time tasks over Linux-based virtual machines\",\"A Detection Algorithm of Malicious Domain Based on Deep Learning and Multi-Head Attention Mechanism\",\"Research on an Improved Algorithm of Professional Information Retrieval System\",\"Two Experiments Comparing Two Four-Step EPMcreate-Based Creativity Techniques for Requirements Elicitation\",\"A new approach for the computation of halfspace depth in high dimensions\",\"Title An Interactive Data Language software package to calculateionospheric conductivity by using numerical models\",\"A Counselors-Based Intrusion Detection Architecture\",\"A Practical and Extensible Framework for Garbage Collection Tracing\",\"Research on Automation Testing Technology Based on Image Recognition\",\"3 Access Control in OpenStack Cloud IaaS\",\"Research on Traditional Structure Optimization in Cloud Computing Environment\",\"A blockchain-based adaptive middleware for large scale internet of things data storage selection\",\"A nonlinear particle packing model for multi-sized granular soils\",\"Optimizing the Performance of Timed-Constrained Business Processes in Cloud-Fog Environment\",\"Ontology-based conditional random fields for object recognition\",\"A Privacy-Aware V-Model for Software Development\",\"Mining Software Repositories for Software Metrics ( MSR-SM ) : Conceptual Framework\",\"The evolving digital factory \\u2013 new chances for a consistent information flow\",\"A Density-based Clustering Algorithm Using Adaptive Parameter K-Reverse Nearest Neighbor\",\"Scalable Service Placement in the Fog Computing Environment for the IoT-Based Smart City\",\"Multi-branch fusion network for hyperspectral image classification\",\"Efficient Feature Matching via Nonnegative Orthogonal Relaxation\",\"Fast Distributed Top-q and Top-k Query Processing\",\"Video Abnormal Event Detection Based on ELM\",\"Distributed Neuro-Dynamic Optimization for Multi-Objective Power Management Problem in Micro-Grid\",\"Collaborative representation-based discriminant neighborhood projections for face recognition\",\"Prognostic Views on Software Defined Networks Based Security for Internet of Things\",\"An Automated Testing Methodology For Digital TV Middleware Implementations\",\"CNN-based health model using knowledge mining of influencing factors\",\"TEKNIK PENYEMBUNYIAN PESAN TEKS TERENKRIPSI ALGORITMA MERKLE-HELLMAN KNAPSACK MENGGUNAKAN METODE PIXEL VALUE DIFFERENCING KE DALAM CITRA DIGITAL\",\"Traffic flow prediction using LSTM with feature enhancement\",\"A Versatile 3D Face Reconstruction from Multiple Images for Face Shape Classification\",\"Research on error model between position of measurement point and measurement accuracy in multilateral coordinate measuring system\",\"Large Q factor with very small Whispering Gallery Modes resonators\",\"Quality of Service-Based Cloud Models in Manufacturing Process Automation\",\"Combining Domain Knowledge & Machine Learning: Making Predictions using Boosting Techniques\",\"pointerchain: Tracing pointers to their roots - A case study in molecular dynamics simulations\",\"Graphical Lasso and Thresholding: Equivalence and Closed-form Solutions\",\"Quantized Kalman Filter-Based Pattern Matching for Detection and Tracking of Moving Objects\",\"Software Design of Automatic Parking Robot Based on Flat Stereo Garage\",\"Optical Diagnosis of Colorectal Polyps: Recent Developments\",\"Faster multi-defect detection system in shield tunnel using combination of FCN and faster RCNN\",\"Compact instrumentation and (analytical) performance evaluation for laser-induced breakdown spectroscopy\",\"Proposed Modifications in the Excitation Codebook Structure of ITU-T CS-ACELP Speech Codec and Its Overall Comparative Performance Analysis with CELP-Based AMR-NB Speech Codec\",\"TZVis: visual analysis of bicycle data for traffic zone division\",\"Image Fusion Algorithm Based on Multi-Focus Image Fusion Using a Guided-Filter-Based Images\",\"Navigation Flow Modeling as a Basis for the Automatic Generation of Android APPs\",\"Clustering for the automatic annotation of customer service chat messages\",\"Bridging the Gap between High-Performance, Cloud and Service-Oriented Computing\",\"Internet of things in the assessment, diagnostics and treatment of Parkinson\\u2019s disease\",\"QTest 2.1: Quantitative testing of theories of binary choice using Bayesian inference\",\"The Mobile Application Development Based on Online Music Library for Socializing in the World of Bard Songs and Scouts\\u2019 Bonfires\",\"Blowhole Detection Based on Bidirectional Enhancement and Omnidirectional Analysis for X-Ray Inspection of Castings\",\"uXOM: Efficient eXecute-Only Memory on ARM Cortex-M\",\"Pattern recognition of SEMG based on wavelet packet transform and improved SVM\",\"Land Cover Classification Using Extremely Randomized Trees: A Kernel Perspective\",\"Dynamic clustering method for imbalanced learning based on AdaBoost\",\"Based Multi-Objective Algorithms Applied to the Variability Testing of Software Product Lines\",\"Joint Video Caching and User Association With Mobile Edge Computing\",\"Schema Extraction for Deep Web Query Interfaces Using Heuristics Rules\",\"Application of Gait Recognition Technology in Badminton Action Analysis\",\"Rectangular Pulse Generation From a Mode Locked Raman Fiber Laser\",\"Cooperation in the spatial public goods game with the second-order reputation evaluation\",\"L1 And L2 Norm Depth-Regularized Estimation Of The Acoustic Attenuation And Backscatter Coefficients Using Dynamic Programming\",\"Flower snark and related graph\\u2019s reverse super edge \\u2013 Magic labelings\",\"Design and Implementation of Color Detection Technique using Fuzzy Logic\",\"Modeling R-dependence of near-threshold fatigue crack growth by combining crack closure and exponential mean stress model\",\"Multi-model and multi-level aluminum electrolytic fault diagnosis method\",\"iRobot-Factory: An intelligent robot factory based on cognitive manufacturing and edge computing\",\"Attribute-Sentiment Pair Correlation Model Based on Online User Reviews\",\"One-class Field-aware Factorization Machines for Recommender Systems with Implicit Feedbacks\",\"An End-User Pipeline for Scraping and Visualizing Semi-Structured Data over the Web\",\"Triple attention network for sentimental visual question answering\",\"Concurrent Algorithms and Data Structures for Model Checking (Invited Talk)\",\"Towards efficient and scalable implementation for coding-based on-demand data broadcast\",\"Object-Based Rate Adjustment for HEVC Transrating\",\"Assessment on various Approaches for Content Based Image Retrieval\",\"Optimistic Fair Exchange in Cloud-Assisted Cyber-Physical Systems\",\"Synthesis of Ni-Ta on Ti-6Al-4V Alloy Using Spark Plasma Sintering\",\"Modelling and Simulation of Fog and Edge Computing Environments using iFogSim Toolkit\",\"How do we talk about doctors and drugs? Sentiment analysis in forums expressing opinions for medical domain\",\"Automatic segmentation algorithm of femur and tibia based on Vnet-C network\",\"EEG Signal Processing Based on Genetic Algorithm for Extracting Mixed Features\"],\"index\":[0,1,2,3,4,5,6,7,8,9,10,11,12,13,14,15,16,17,18,19,20,21,22,23,24,25,26,27,28,29,30,31,32,33,34,35,36,37,38,39,40,41,42,43,44,45,46,47,48,49,50,51,52,53,54,55,56,57,58,59,60,61,62,63,64,65,66,67,68,69,70,71,72,73,74,75,76,77,78,79,80,81,82,83,84,85,86,87,88,89,90,91,92,93,94,95,96,97,98,99,100,101,102,103,104,105,106,107,108,109,110,111,112,113,114,115,116,117,118,119,120,121,122,123,124,125,126,127,128,129,130,131,132,133,134,135,136,137,138,139,140,141,142,143,144,145,146,147,148,149,150,151,152,153,154,155,156,157,158,159,160,161,162,163,164,165,166,167,168,169,170,171,172,173,174,175,176,177,178,179,180,181,182,183,184,185,186,187,188,189,190,191,192,193,194,195,196,197,198,199],\"x\":{\"__ndarray__\":\"zabyQMQ7JEEKJSFBjLMhQb6R6UAMyilBgicIQRllFEH9uMpAyiQJQRnOC0G2jgJBm10NQTnHDkFNA/hAkWMAQYl8JEGuIK9AXi3yQKAA70BG/QlBO20rQd6J10CiyQ9BcOr7QFXwy0AFCRZBus3gQJLNG0FS1OlAfLn/QPqRJ0F1sRpBV4vgQIHEEEEmKBBB0yjlQEt9+kBeC/lAF4LoQIs60EBgtR5ByJsUQSBqvUD/3gZBy30AQTCVt0B1l/9AjhgeQfkMBEElUA5BqpXRQHAxGEFiuwZBMEQWQfs/IEGIcPtApkwTQYaRvkD5N75APUwrQYzYyUD40PhAMDoTQasEuEAu9btAQ8PdQMNoz0Cl+M1A1TzbQAJZAEFR8cpAo+saQafOzEA0VRZBIy8OQWD730AcnMFA2ybCQHhR4kD+TcZAAfwFQQpLFkHLPAhB73rKQF8MGkEzgPJAiI7LQB3axUC9Cu5ATw7zQHlX9UCsdtBAqT0QQT8FH0HV2+xAKlT1QK5+AUEfDQhBTdEJQbinDUHbSbNAeem5QP5L0EDIJwxBZYgXQeIK5EBCbwRBzNG0QGFVGEHgsANBK4YUQVL2KEE/5rVAgnbSQCd92EBCf8hAh4n9QL7bFkHvmgVBefcMQeMHukBBLdFAL8YPQQrSAEG6IQdBkMEHQRxzCUGjLwZBthnPQI8e8EBtCSdBEisNQa/jy0CWE9hAs5YfQcxo50BbHQ9BkFMrQeMOK0HaUhRBosr2QFoDKUEkOQVBmRr6QEMFEUHP5chAOPcaQW15H0GdjwZBpG3BQIt9AEF4zSFBex7vQBJuLkFCvBdBp/r/QKgR2kC98ANBp6vEQIiBu0CmydRAPT0SQdlN40DKZ95Agj/bQCvn3kBeksFA4lLZQOi1AkFdR/BAALADQeW/30AbkRlBuyjuQMW880C5aCFB2vDlQNjxzUCpkc9AE6a/QKQ0s0DlowVBlZrNQO+8B0EAvgFBvCIdQU9jIEFB4t1A9LYiQXAuykDN1vZA2LMWQaoMKUH9DAhBlhreQGOs90Dy9RtBtTEFQf0hCUE=\",\"dtype\":\"float32\",\"order\":\"little\",\"shape\":[200]},\"y\":{\"__ndarray__\":\"NQWNP8dSBb/6McE/iwPPP8pJxz+CC5O+SgouPvOyS7918J++eZFvP+eCWr/Tuss+CMHNP2R7Uz9tMcQ+iSQEwPbxwL6Um8m/1TASwBd3AT5w/Oe//0KfPrBojb8rOwBA9YxPv65ntD81CY8/Pf+HPwHjGr9y5QXA9mQkwO0kKr8VA84+Eim9PxCpFT/hcws/KVZtv8kBRb/TeDk/WTOtvpEKar+TUfE+lCmnvs2AmL/xGl6+ULcvvpVHub+q/f4/jXWDPZOZAUBwBD2/CzcCwM/Bzz+S+Ka+vt2cvyU9MT8+PAS/bYbxP/s2CMCuGrC+QO0cPyHwAz+30Lq/bBe8vwAz5r+qut6/n1W0P+zBJr/FBv6/5MnEP3TcJL84YWi/4PSIv9yRp79nuLu/5jr/PQjfDj9UPks+wvDTv5odg74l0HW+gTa8PxI0lz+kFru/y9bGvy0n1z/azyHAY4Kgv6VzeL9hWi+/QR+aPsi6Bz9zUMQ/scqKvhMBqD+VS0S+zVUcwP5aYz9ABCG/5hz9P7yt6D/E1zy/gFcHwPX2E8DvH6E/9OMiv0GYgr9bIh3AbJ9Mv1hgBb0gbPG/QWubv94Z7T6kJWS/fNCxvi6mpb8gq+A+XwkGwBNgDz5B54Q+rsmqvz5XkL9Oe+I8z1G7v/Qj5L8Vluo+oloRwBatDb+0tP+/Rl/ePksj67+fIyu/C8rKvwLQ0b8ifN6/zHBZPyOj5b8Sk3k/kKiJvj22zL1r/DM/gAKqPkjUSb6EhRHAhH+av92efL8bWsC/4AXrPnLw0D8UHPI+5ApkP1Bvmr8qBlO/0ocWwIs8v752+uY/7VRsPw1UGr/iDGc/xFicPZtcOr+qz7++DWW3Pwrvur+lD+W/bRIHwP/Iw78WuwbAVO7Uv/a50D9IOSrAQ2ukP9mrhL6JfbQ+X+uHv30J+L+BLAu/6Uqtvi97vj8x3J2/NCmqv/hm2b9+z58/Ao6TPktwMT9wJB8/sUBbvjlZhr9YYfm/TK6Kvtn7+r+X7QfAXztlP2hwGj8J0QPA+SlDP/Wb/b+t8Ta/kP2ZP2AgrT8=\",\"dtype\":\"float32\",\"order\":\"little\",\"shape\":[200]}},\"selected\":{\"id\":\"1044\"},\"selection_policy\":{\"id\":\"1045\"}},\"id\":\"1002\",\"type\":\"ColumnDataSource\"},{\"attributes\":{},\"id\":\"1010\",\"type\":\"LinearScale\"},{\"attributes\":{},\"id\":\"1041\",\"type\":\"AllLabels\"},{\"attributes\":{\"axis\":{\"id\":\"1014\"},\"ticker\":null},\"id\":\"1017\",\"type\":\"Grid\"},{\"attributes\":{},\"id\":\"1023\",\"type\":\"WheelZoomTool\"},{\"attributes\":{\"source\":{\"id\":\"1002\"}},\"id\":\"1036\",\"type\":\"CDSView\"},{\"attributes\":{},\"id\":\"1038\",\"type\":\"AllLabels\"},{\"attributes\":{},\"id\":\"1022\",\"type\":\"PanTool\"},{\"attributes\":{\"data_source\":{\"id\":\"1002\"},\"glyph\":{\"id\":\"1033\"},\"hover_glyph\":null,\"muted_glyph\":null,\"nonselection_glyph\":{\"id\":\"1034\"},\"view\":{\"id\":\"1036\"}},\"id\":\"1035\",\"type\":\"GlyphRenderer\"},{\"attributes\":{\"axis\":{\"id\":\"1018\"},\"dimension\":1,\"ticker\":null},\"id\":\"1021\",\"type\":\"Grid\"},{\"attributes\":{},\"id\":\"1015\",\"type\":\"BasicTicker\"},{\"attributes\":{\"formatter\":{\"id\":\"1043\"},\"major_label_policy\":{\"id\":\"1041\"},\"ticker\":{\"id\":\"1019\"}},\"id\":\"1018\",\"type\":\"LinearAxis\"},{\"attributes\":{},\"id\":\"1043\",\"type\":\"BasicTickFormatter\"},{\"attributes\":{},\"id\":\"1024\",\"type\":\"ResetTool\"},{\"attributes\":{},\"id\":\"1006\",\"type\":\"DataRange1d\"},{\"attributes\":{\"active_multi\":null,\"tools\":[{\"id\":\"1022\"},{\"id\":\"1023\"},{\"id\":\"1024\"},{\"id\":\"1029\"}]},\"id\":\"1025\",\"type\":\"Toolbar\"},{\"attributes\":{\"fill_alpha\":{\"value\":0.1},\"fill_color\":{\"field\":\"digit\",\"transform\":{\"id\":\"1031\"}},\"line_alpha\":{\"value\":0.1},\"line_color\":{\"field\":\"digit\",\"transform\":{\"id\":\"1031\"}},\"size\":{\"value\":7},\"x\":{\"field\":\"x\"},\"y\":{\"field\":\"y\"}},\"id\":\"1034\",\"type\":\"Circle\"},{\"attributes\":{},\"id\":\"1044\",\"type\":\"Selection\"}],\"root_ids\":[\"1003\"]},\"title\":\"Bokeh Application\",\"version\":\"2.3.3\"}};\n",
              "  var render_items = [{\"docid\":\"98324283-b36a-497e-b996-a0289cb58a41\",\"root_ids\":[\"1003\"],\"roots\":{\"1003\":\"dba6670d-6cdc-40f6-9ef5-33af88c36cb1\"}}];\n",
              "  root.Bokeh.embed.embed_items_notebook(docs_json, render_items);\n",
              "\n",
              "  }\n",
              "  if (root.Bokeh !== undefined) {\n",
              "    embed_document(root);\n",
              "  } else {\n",
              "    var attempts = 0;\n",
              "    var timer = setInterval(function(root) {\n",
              "      if (root.Bokeh !== undefined) {\n",
              "        clearInterval(timer);\n",
              "        embed_document(root);\n",
              "      } else {\n",
              "        attempts++;\n",
              "        if (attempts > 100) {\n",
              "          clearInterval(timer);\n",
              "          console.log(\"Bokeh: ERROR: Unable to run BokehJS code because BokehJS library is missing\");\n",
              "        }\n",
              "      }\n",
              "    }, 10, root)\n",
              "  }\n",
              "})(window);"
            ],
            "application/vnd.bokehjs_exec.v0+json": ""
          },
          "metadata": {
            "application/vnd.bokehjs_exec.v0+json": {
              "id": "1003"
            }
          }
        }
      ]
    },
    {
      "cell_type": "markdown",
      "source": [
        "There do seem to be a few interesing patterns when analyizng with U-Map. However, I believe more sophisticated methods could definitely improve the clustering of groups. Let's examine another chunk"
      ],
      "metadata": {
        "id": "mBRV4RyLhR53"
      }
    },
    {
      "cell_type": "code",
      "source": [
        "embed_list2, title_list2 = make_the_embeds(401, 201)\n",
        "red2 = reducer.fit_transform(embed_list.detach().numpy())\n",
        "print(len(title_list2))\n",
        "make_plot(red2, title_list2, number=198)"
      ],
      "metadata": {
        "colab": {
          "resources": {
            "http://localhost:8080/???": {
              "data": "CjwhRE9DVFlQRSBodG1sPgo8aHRtbCBsYW5nPWVuPgogIDxtZXRhIGNoYXJzZXQ9dXRmLTg+CiAgPG1ldGEgbmFtZT12aWV3cG9ydCBjb250ZW50PSJpbml0aWFsLXNjYWxlPTEsIG1pbmltdW0tc2NhbGU9MSwgd2lkdGg9ZGV2aWNlLXdpZHRoIj4KICA8dGl0bGU+RXJyb3IgNDA0IChOb3QgRm91bmQpISExPC90aXRsZT4KICA8c3R5bGU+CiAgICAqe21hcmdpbjowO3BhZGRpbmc6MH1odG1sLGNvZGV7Zm9udDoxNXB4LzIycHggYXJpYWwsc2Fucy1zZXJpZn1odG1se2JhY2tncm91bmQ6I2ZmZjtjb2xvcjojMjIyO3BhZGRpbmc6MTVweH1ib2R5e21hcmdpbjo3JSBhdXRvIDA7bWF4LXdpZHRoOjM5MHB4O21pbi1oZWlnaHQ6MTgwcHg7cGFkZGluZzozMHB4IDAgMTVweH0qID4gYm9keXtiYWNrZ3JvdW5kOnVybCgvL3d3dy5nb29nbGUuY29tL2ltYWdlcy9lcnJvcnMvcm9ib3QucG5nKSAxMDAlIDVweCBuby1yZXBlYXQ7cGFkZGluZy1yaWdodDoyMDVweH1we21hcmdpbjoxMXB4IDAgMjJweDtvdmVyZmxvdzpoaWRkZW59aW5ze2NvbG9yOiM3Nzc7dGV4dC1kZWNvcmF0aW9uOm5vbmV9YSBpbWd7Ym9yZGVyOjB9QG1lZGlhIHNjcmVlbiBhbmQgKG1heC13aWR0aDo3NzJweCl7Ym9keXtiYWNrZ3JvdW5kOm5vbmU7bWFyZ2luLXRvcDowO21heC13aWR0aDpub25lO3BhZGRpbmctcmlnaHQ6MH19I2xvZ297YmFja2dyb3VuZDp1cmwoLy93d3cuZ29vZ2xlLmNvbS9pbWFnZXMvbG9nb3MvZXJyb3JwYWdlL2Vycm9yX2xvZ28tMTUweDU0LnBuZykgbm8tcmVwZWF0O21hcmdpbi1sZWZ0Oi01cHh9QG1lZGlhIG9ubHkgc2NyZWVuIGFuZCAobWluLXJlc29sdXRpb246MTkyZHBpKXsjbG9nb3tiYWNrZ3JvdW5kOnVybCgvL3d3dy5nb29nbGUuY29tL2ltYWdlcy9sb2dvcy9lcnJvcnBhZ2UvZXJyb3JfbG9nby0xNTB4NTQtMngucG5nKSBuby1yZXBlYXQgMCUgMCUvMTAwJSAxMDAlOy1tb3otYm9yZGVyLWltYWdlOnVybCgvL3d3dy5nb29nbGUuY29tL2ltYWdlcy9sb2dvcy9lcnJvcnBhZ2UvZXJyb3JfbG9nby0xNTB4NTQtMngucG5nKSAwfX1AbWVkaWEgb25seSBzY3JlZW4gYW5kICgtd2Via2l0LW1pbi1kZXZpY2UtcGl4ZWwtcmF0aW86Mil7I2xvZ297YmFja2dyb3VuZDp1cmwoLy93d3cuZ29vZ2xlLmNvbS9pbWFnZXMvbG9nb3MvZXJyb3JwYWdlL2Vycm9yX2xvZ28tMTUweDU0LTJ4LnBuZykgbm8tcmVwZWF0Oy13ZWJraXQtYmFja2dyb3VuZC1zaXplOjEwMCUgMTAwJX19I2xvZ297ZGlzcGxheTppbmxpbmUtYmxvY2s7aGVpZ2h0OjU0cHg7d2lkdGg6MTUwcHh9CiAgPC9zdHlsZT4KICA8YSBocmVmPS8vd3d3Lmdvb2dsZS5jb20vPjxzcGFuIGlkPWxvZ28gYXJpYS1sYWJlbD1Hb29nbGU+PC9zcGFuPjwvYT4KICA8cD48Yj40MDQuPC9iPiA8aW5zPlRoYXTigJlzIGFuIGVycm9yLjwvaW5zPgogIDxwPiAgPGlucz5UaGF04oCZcyBhbGwgd2Uga25vdy48L2lucz4K",
              "ok": false,
              "headers": [
                [
                  "content-length",
                  "1449"
                ],
                [
                  "content-type",
                  "text/html; charset=utf-8"
                ]
              ],
              "status": 404,
              "status_text": ""
            }
          },
          "base_uri": "https://localhost:8080/",
          "height": 776
        },
        "id": "JipQ6pWLeKfr",
        "outputId": "85cb2ef8-929e-4b49-a182-718e5479876a"
      },
      "execution_count": 11,
      "outputs": [
        {
          "output_type": "stream",
          "name": "stdout",
          "text": [
            "200\n"
          ]
        },
        {
          "output_type": "stream",
          "name": "stderr",
          "text": [
            "/usr/local/lib/python3.7/dist-packages/bokeh/models/plots.py:766: UserWarning: \n",
            "You are attempting to set `plot.legend.location` on a plot that has zero legends added, this will have no effect.\n",
            "\n",
            "Before legend properties can be set, you must add a Legend explicitly, or call a glyph method with a legend parameter set.\n",
            "\n",
            "  warnings.warn(_LEGEND_EMPTY_WARNING % attr)\n"
          ]
        },
        {
          "output_type": "display_data",
          "data": {
            "application/javascript": [
              "\n",
              "(function(root) {\n",
              "  function now() {\n",
              "    return new Date();\n",
              "  }\n",
              "\n",
              "  var force = true;\n",
              "\n",
              "  if (typeof root._bokeh_onload_callbacks === \"undefined\" || force === true) {\n",
              "    root._bokeh_onload_callbacks = [];\n",
              "    root._bokeh_is_loading = undefined;\n",
              "  }\n",
              "\n",
              "  var JS_MIME_TYPE = 'application/javascript';\n",
              "  var HTML_MIME_TYPE = 'text/html';\n",
              "  var EXEC_MIME_TYPE = 'application/vnd.bokehjs_exec.v0+json';\n",
              "  var CLASS_NAME = 'output_bokeh rendered_html';\n",
              "\n",
              "  /**\n",
              "   * Render data to the DOM node\n",
              "   */\n",
              "  function render(props, node) {\n",
              "    var script = document.createElement(\"script\");\n",
              "    node.appendChild(script);\n",
              "  }\n",
              "\n",
              "  /**\n",
              "   * Handle when an output is cleared or removed\n",
              "   */\n",
              "  function handleClearOutput(event, handle) {\n",
              "    var cell = handle.cell;\n",
              "\n",
              "    var id = cell.output_area._bokeh_element_id;\n",
              "    var server_id = cell.output_area._bokeh_server_id;\n",
              "    // Clean up Bokeh references\n",
              "    if (id != null && id in Bokeh.index) {\n",
              "      Bokeh.index[id].model.document.clear();\n",
              "      delete Bokeh.index[id];\n",
              "    }\n",
              "\n",
              "    if (server_id !== undefined) {\n",
              "      // Clean up Bokeh references\n",
              "      var cmd = \"from bokeh.io.state import curstate; print(curstate().uuid_to_server['\" + server_id + \"'].get_sessions()[0].document.roots[0]._id)\";\n",
              "      cell.notebook.kernel.execute(cmd, {\n",
              "        iopub: {\n",
              "          output: function(msg) {\n",
              "            var id = msg.content.text.trim();\n",
              "            if (id in Bokeh.index) {\n",
              "              Bokeh.index[id].model.document.clear();\n",
              "              delete Bokeh.index[id];\n",
              "            }\n",
              "          }\n",
              "        }\n",
              "      });\n",
              "      // Destroy server and session\n",
              "      var cmd = \"import bokeh.io.notebook as ion; ion.destroy_server('\" + server_id + \"')\";\n",
              "      cell.notebook.kernel.execute(cmd);\n",
              "    }\n",
              "  }\n",
              "\n",
              "  /**\n",
              "   * Handle when a new output is added\n",
              "   */\n",
              "  function handleAddOutput(event, handle) {\n",
              "    var output_area = handle.output_area;\n",
              "    var output = handle.output;\n",
              "\n",
              "    // limit handleAddOutput to display_data with EXEC_MIME_TYPE content only\n",
              "    if ((output.output_type != \"display_data\") || (!Object.prototype.hasOwnProperty.call(output.data, EXEC_MIME_TYPE))) {\n",
              "      return\n",
              "    }\n",
              "\n",
              "    var toinsert = output_area.element.find(\".\" + CLASS_NAME.split(' ')[0]);\n",
              "\n",
              "    if (output.metadata[EXEC_MIME_TYPE][\"id\"] !== undefined) {\n",
              "      toinsert[toinsert.length - 1].firstChild.textContent = output.data[JS_MIME_TYPE];\n",
              "      // store reference to embed id on output_area\n",
              "      output_area._bokeh_element_id = output.metadata[EXEC_MIME_TYPE][\"id\"];\n",
              "    }\n",
              "    if (output.metadata[EXEC_MIME_TYPE][\"server_id\"] !== undefined) {\n",
              "      var bk_div = document.createElement(\"div\");\n",
              "      bk_div.innerHTML = output.data[HTML_MIME_TYPE];\n",
              "      var script_attrs = bk_div.children[0].attributes;\n",
              "      for (var i = 0; i < script_attrs.length; i++) {\n",
              "        toinsert[toinsert.length - 1].firstChild.setAttribute(script_attrs[i].name, script_attrs[i].value);\n",
              "        toinsert[toinsert.length - 1].firstChild.textContent = bk_div.children[0].textContent\n",
              "      }\n",
              "      // store reference to server id on output_area\n",
              "      output_area._bokeh_server_id = output.metadata[EXEC_MIME_TYPE][\"server_id\"];\n",
              "    }\n",
              "  }\n",
              "\n",
              "  function register_renderer(events, OutputArea) {\n",
              "\n",
              "    function append_mime(data, metadata, element) {\n",
              "      // create a DOM node to render to\n",
              "      var toinsert = this.create_output_subarea(\n",
              "        metadata,\n",
              "        CLASS_NAME,\n",
              "        EXEC_MIME_TYPE\n",
              "      );\n",
              "      this.keyboard_manager.register_events(toinsert);\n",
              "      // Render to node\n",
              "      var props = {data: data, metadata: metadata[EXEC_MIME_TYPE]};\n",
              "      render(props, toinsert[toinsert.length - 1]);\n",
              "      element.append(toinsert);\n",
              "      return toinsert\n",
              "    }\n",
              "\n",
              "    /* Handle when an output is cleared or removed */\n",
              "    events.on('clear_output.CodeCell', handleClearOutput);\n",
              "    events.on('delete.Cell', handleClearOutput);\n",
              "\n",
              "    /* Handle when a new output is added */\n",
              "    events.on('output_added.OutputArea', handleAddOutput);\n",
              "\n",
              "    /**\n",
              "     * Register the mime type and append_mime function with output_area\n",
              "     */\n",
              "    OutputArea.prototype.register_mime_type(EXEC_MIME_TYPE, append_mime, {\n",
              "      /* Is output safe? */\n",
              "      safe: true,\n",
              "      /* Index of renderer in `output_area.display_order` */\n",
              "      index: 0\n",
              "    });\n",
              "  }\n",
              "\n",
              "  // register the mime type if in Jupyter Notebook environment and previously unregistered\n",
              "  if (root.Jupyter !== undefined) {\n",
              "    var events = require('base/js/events');\n",
              "    var OutputArea = require('notebook/js/outputarea').OutputArea;\n",
              "\n",
              "    if (OutputArea.prototype.mime_types().indexOf(EXEC_MIME_TYPE) == -1) {\n",
              "      register_renderer(events, OutputArea);\n",
              "    }\n",
              "  }\n",
              "\n",
              "  \n",
              "  if (typeof (root._bokeh_timeout) === \"undefined\" || force === true) {\n",
              "    root._bokeh_timeout = Date.now() + 5000;\n",
              "    root._bokeh_failed_load = false;\n",
              "  }\n",
              "\n",
              "  var NB_LOAD_WARNING = {'data': {'text/html':\n",
              "     \"<div style='background-color: #fdd'>\\n\"+\n",
              "     \"<p>\\n\"+\n",
              "     \"BokehJS does not appear to have successfully loaded. If loading BokehJS from CDN, this \\n\"+\n",
              "     \"may be due to a slow or bad network connection. Possible fixes:\\n\"+\n",
              "     \"</p>\\n\"+\n",
              "     \"<ul>\\n\"+\n",
              "     \"<li>re-rerun `output_notebook()` to attempt to load from CDN again, or</li>\\n\"+\n",
              "     \"<li>use INLINE resources instead, as so:</li>\\n\"+\n",
              "     \"</ul>\\n\"+\n",
              "     \"<code>\\n\"+\n",
              "     \"from bokeh.resources import INLINE\\n\"+\n",
              "     \"output_notebook(resources=INLINE)\\n\"+\n",
              "     \"</code>\\n\"+\n",
              "     \"</div>\"}};\n",
              "\n",
              "  function display_loaded() {\n",
              "    var el = document.getElementById(null);\n",
              "    if (el != null) {\n",
              "      el.textContent = \"BokehJS is loading...\";\n",
              "    }\n",
              "    if (root.Bokeh !== undefined) {\n",
              "      if (el != null) {\n",
              "        el.textContent = \"BokehJS \" + root.Bokeh.version + \" successfully loaded.\";\n",
              "      }\n",
              "    } else if (Date.now() < root._bokeh_timeout) {\n",
              "      setTimeout(display_loaded, 100)\n",
              "    }\n",
              "  }\n",
              "\n",
              "\n",
              "  function run_callbacks() {\n",
              "    try {\n",
              "      root._bokeh_onload_callbacks.forEach(function(callback) {\n",
              "        if (callback != null)\n",
              "          callback();\n",
              "      });\n",
              "    } finally {\n",
              "      delete root._bokeh_onload_callbacks\n",
              "    }\n",
              "    console.debug(\"Bokeh: all callbacks have finished\");\n",
              "  }\n",
              "\n",
              "  function load_libs(css_urls, js_urls, callback) {\n",
              "    if (css_urls == null) css_urls = [];\n",
              "    if (js_urls == null) js_urls = [];\n",
              "\n",
              "    root._bokeh_onload_callbacks.push(callback);\n",
              "    if (root._bokeh_is_loading > 0) {\n",
              "      console.debug(\"Bokeh: BokehJS is being loaded, scheduling callback at\", now());\n",
              "      return null;\n",
              "    }\n",
              "    if (js_urls == null || js_urls.length === 0) {\n",
              "      run_callbacks();\n",
              "      return null;\n",
              "    }\n",
              "    console.debug(\"Bokeh: BokehJS not loaded, scheduling load and callback at\", now());\n",
              "    root._bokeh_is_loading = css_urls.length + js_urls.length;\n",
              "\n",
              "    function on_load() {\n",
              "      root._bokeh_is_loading--;\n",
              "      if (root._bokeh_is_loading === 0) {\n",
              "        console.debug(\"Bokeh: all BokehJS libraries/stylesheets loaded\");\n",
              "        run_callbacks()\n",
              "      }\n",
              "    }\n",
              "\n",
              "    function on_error(url) {\n",
              "      console.error(\"failed to load \" + url);\n",
              "    }\n",
              "\n",
              "    for (let i = 0; i < css_urls.length; i++) {\n",
              "      const url = css_urls[i];\n",
              "      const element = document.createElement(\"link\");\n",
              "      element.onload = on_load;\n",
              "      element.onerror = on_error.bind(null, url);\n",
              "      element.rel = \"stylesheet\";\n",
              "      element.type = \"text/css\";\n",
              "      element.href = url;\n",
              "      console.debug(\"Bokeh: injecting link tag for BokehJS stylesheet: \", url);\n",
              "      document.body.appendChild(element);\n",
              "    }\n",
              "\n",
              "    const hashes = {\"https://cdn.bokeh.org/bokeh/release/bokeh-2.3.3.min.js\": \"dM3QQsP+wXdHg42wTqW85BjZQdLNNIXqlPw/BgKoExPmTG7ZLML4EGqLMfqHT6ON\", \"https://cdn.bokeh.org/bokeh/release/bokeh-tables-2.3.3.min.js\": \"8x57I4YuIfu8XyZfFo0XVr2WAT8EK4rh/uDe3wF7YuW2FNUSNEpJbsPaB1nJ2fz2\", \"https://cdn.bokeh.org/bokeh/release/bokeh-widgets-2.3.3.min.js\": \"3QTqdz9LyAm2i0sG5XTePsHec3UHWwVsrOL68SYRoAXsafvfAyqtQ+h440+qIBhS\"};\n",
              "\n",
              "    for (let i = 0; i < js_urls.length; i++) {\n",
              "      const url = js_urls[i];\n",
              "      const element = document.createElement('script');\n",
              "      element.onload = on_load;\n",
              "      element.onerror = on_error.bind(null, url);\n",
              "      element.async = false;\n",
              "      element.src = url;\n",
              "      if (url in hashes) {\n",
              "        element.crossOrigin = \"anonymous\";\n",
              "        element.integrity = \"sha384-\" + hashes[url];\n",
              "      }\n",
              "      console.debug(\"Bokeh: injecting script tag for BokehJS library: \", url);\n",
              "      document.head.appendChild(element);\n",
              "    }\n",
              "  };\n",
              "\n",
              "  function inject_raw_css(css) {\n",
              "    const element = document.createElement(\"style\");\n",
              "    element.appendChild(document.createTextNode(css));\n",
              "    document.body.appendChild(element);\n",
              "  }\n",
              "\n",
              "  \n",
              "  var js_urls = [\"https://cdn.bokeh.org/bokeh/release/bokeh-2.3.3.min.js\", \"https://cdn.bokeh.org/bokeh/release/bokeh-widgets-2.3.3.min.js\", \"https://cdn.bokeh.org/bokeh/release/bokeh-tables-2.3.3.min.js\"];\n",
              "  var css_urls = [];\n",
              "  \n",
              "\n",
              "  var inline_js = [\n",
              "    function(Bokeh) {\n",
              "      Bokeh.set_log_level(\"info\");\n",
              "    },\n",
              "    function(Bokeh) {\n",
              "    \n",
              "    \n",
              "    }\n",
              "  ];\n",
              "\n",
              "  function run_inline_js() {\n",
              "    \n",
              "    if (root.Bokeh !== undefined || force === true) {\n",
              "      \n",
              "    for (var i = 0; i < inline_js.length; i++) {\n",
              "      inline_js[i].call(root, root.Bokeh);\n",
              "    }\n",
              "    } else if (Date.now() < root._bokeh_timeout) {\n",
              "      setTimeout(run_inline_js, 100);\n",
              "    } else if (!root._bokeh_failed_load) {\n",
              "      console.log(\"Bokeh: BokehJS failed to load within specified timeout.\");\n",
              "      root._bokeh_failed_load = true;\n",
              "    } else if (force !== true) {\n",
              "      var cell = $(document.getElementById(null)).parents('.cell').data().cell;\n",
              "      cell.output_area.append_execute_result(NB_LOAD_WARNING)\n",
              "    }\n",
              "\n",
              "  }\n",
              "\n",
              "  if (root._bokeh_is_loading === 0) {\n",
              "    console.debug(\"Bokeh: BokehJS loaded, going straight to plotting\");\n",
              "    run_inline_js();\n",
              "  } else {\n",
              "    load_libs(css_urls, js_urls, function() {\n",
              "      console.debug(\"Bokeh: BokehJS plotting callback run at\", now());\n",
              "      run_inline_js();\n",
              "    });\n",
              "  }\n",
              "}(window));"
            ],
            "application/vnd.bokehjs_load.v0+json": "\n(function(root) {\n  function now() {\n    return new Date();\n  }\n\n  var force = true;\n\n  if (typeof root._bokeh_onload_callbacks === \"undefined\" || force === true) {\n    root._bokeh_onload_callbacks = [];\n    root._bokeh_is_loading = undefined;\n  }\n\n  \n\n  \n  if (typeof (root._bokeh_timeout) === \"undefined\" || force === true) {\n    root._bokeh_timeout = Date.now() + 5000;\n    root._bokeh_failed_load = false;\n  }\n\n  var NB_LOAD_WARNING = {'data': {'text/html':\n     \"<div style='background-color: #fdd'>\\n\"+\n     \"<p>\\n\"+\n     \"BokehJS does not appear to have successfully loaded. If loading BokehJS from CDN, this \\n\"+\n     \"may be due to a slow or bad network connection. Possible fixes:\\n\"+\n     \"</p>\\n\"+\n     \"<ul>\\n\"+\n     \"<li>re-rerun `output_notebook()` to attempt to load from CDN again, or</li>\\n\"+\n     \"<li>use INLINE resources instead, as so:</li>\\n\"+\n     \"</ul>\\n\"+\n     \"<code>\\n\"+\n     \"from bokeh.resources import INLINE\\n\"+\n     \"output_notebook(resources=INLINE)\\n\"+\n     \"</code>\\n\"+\n     \"</div>\"}};\n\n  function display_loaded() {\n    var el = document.getElementById(null);\n    if (el != null) {\n      el.textContent = \"BokehJS is loading...\";\n    }\n    if (root.Bokeh !== undefined) {\n      if (el != null) {\n        el.textContent = \"BokehJS \" + root.Bokeh.version + \" successfully loaded.\";\n      }\n    } else if (Date.now() < root._bokeh_timeout) {\n      setTimeout(display_loaded, 100)\n    }\n  }\n\n\n  function run_callbacks() {\n    try {\n      root._bokeh_onload_callbacks.forEach(function(callback) {\n        if (callback != null)\n          callback();\n      });\n    } finally {\n      delete root._bokeh_onload_callbacks\n    }\n    console.debug(\"Bokeh: all callbacks have finished\");\n  }\n\n  function load_libs(css_urls, js_urls, callback) {\n    if (css_urls == null) css_urls = [];\n    if (js_urls == null) js_urls = [];\n\n    root._bokeh_onload_callbacks.push(callback);\n    if (root._bokeh_is_loading > 0) {\n      console.debug(\"Bokeh: BokehJS is being loaded, scheduling callback at\", now());\n      return null;\n    }\n    if (js_urls == null || js_urls.length === 0) {\n      run_callbacks();\n      return null;\n    }\n    console.debug(\"Bokeh: BokehJS not loaded, scheduling load and callback at\", now());\n    root._bokeh_is_loading = css_urls.length + js_urls.length;\n\n    function on_load() {\n      root._bokeh_is_loading--;\n      if (root._bokeh_is_loading === 0) {\n        console.debug(\"Bokeh: all BokehJS libraries/stylesheets loaded\");\n        run_callbacks()\n      }\n    }\n\n    function on_error(url) {\n      console.error(\"failed to load \" + url);\n    }\n\n    for (let i = 0; i < css_urls.length; i++) {\n      const url = css_urls[i];\n      const element = document.createElement(\"link\");\n      element.onload = on_load;\n      element.onerror = on_error.bind(null, url);\n      element.rel = \"stylesheet\";\n      element.type = \"text/css\";\n      element.href = url;\n      console.debug(\"Bokeh: injecting link tag for BokehJS stylesheet: \", url);\n      document.body.appendChild(element);\n    }\n\n    const hashes = {\"https://cdn.bokeh.org/bokeh/release/bokeh-2.3.3.min.js\": \"dM3QQsP+wXdHg42wTqW85BjZQdLNNIXqlPw/BgKoExPmTG7ZLML4EGqLMfqHT6ON\", \"https://cdn.bokeh.org/bokeh/release/bokeh-tables-2.3.3.min.js\": \"8x57I4YuIfu8XyZfFo0XVr2WAT8EK4rh/uDe3wF7YuW2FNUSNEpJbsPaB1nJ2fz2\", \"https://cdn.bokeh.org/bokeh/release/bokeh-widgets-2.3.3.min.js\": \"3QTqdz9LyAm2i0sG5XTePsHec3UHWwVsrOL68SYRoAXsafvfAyqtQ+h440+qIBhS\"};\n\n    for (let i = 0; i < js_urls.length; i++) {\n      const url = js_urls[i];\n      const element = document.createElement('script');\n      element.onload = on_load;\n      element.onerror = on_error.bind(null, url);\n      element.async = false;\n      element.src = url;\n      if (url in hashes) {\n        element.crossOrigin = \"anonymous\";\n        element.integrity = \"sha384-\" + hashes[url];\n      }\n      console.debug(\"Bokeh: injecting script tag for BokehJS library: \", url);\n      document.head.appendChild(element);\n    }\n  };\n\n  function inject_raw_css(css) {\n    const element = document.createElement(\"style\");\n    element.appendChild(document.createTextNode(css));\n    document.body.appendChild(element);\n  }\n\n  \n  var js_urls = [\"https://cdn.bokeh.org/bokeh/release/bokeh-2.3.3.min.js\", \"https://cdn.bokeh.org/bokeh/release/bokeh-widgets-2.3.3.min.js\", \"https://cdn.bokeh.org/bokeh/release/bokeh-tables-2.3.3.min.js\"];\n  var css_urls = [];\n  \n\n  var inline_js = [\n    function(Bokeh) {\n      Bokeh.set_log_level(\"info\");\n    },\n    function(Bokeh) {\n    \n    \n    }\n  ];\n\n  function run_inline_js() {\n    \n    if (root.Bokeh !== undefined || force === true) {\n      \n    for (var i = 0; i < inline_js.length; i++) {\n      inline_js[i].call(root, root.Bokeh);\n    }\n    } else if (Date.now() < root._bokeh_timeout) {\n      setTimeout(run_inline_js, 100);\n    } else if (!root._bokeh_failed_load) {\n      console.log(\"Bokeh: BokehJS failed to load within specified timeout.\");\n      root._bokeh_failed_load = true;\n    } else if (force !== true) {\n      var cell = $(document.getElementById(null)).parents('.cell').data().cell;\n      cell.output_area.append_execute_result(NB_LOAD_WARNING)\n    }\n\n  }\n\n  if (root._bokeh_is_loading === 0) {\n    console.debug(\"Bokeh: BokehJS loaded, going straight to plotting\");\n    run_inline_js();\n  } else {\n    load_libs(css_urls, js_urls, function() {\n      console.debug(\"Bokeh: BokehJS plotting callback run at\", now());\n      run_inline_js();\n    });\n  }\n}(window));"
          },
          "metadata": {}
        },
        {
          "output_type": "stream",
          "name": "stderr",
          "text": [
            "WARNING:bokeh.core.validation.check:W-1008 (PALETTE_LENGTH_FACTORS_MISMATCH): Palette length does not match number of factors: ['KGDDS: A System for Drug-Drug Similarity Measure in Therapeutic Substitution based on Knowledge Graph Curation', 'Retinal vessel segmentation approach based on corrected morphological transformation and fractal dimension'] will be assigned to `nan_color` gray\n"
          ]
        },
        {
          "output_type": "display_data",
          "data": {
            "text/html": [
              "\n",
              "\n",
              "\n",
              "\n",
              "\n",
              "\n",
              "  <div class=\"bk-root\" id=\"0551f284-f75c-4877-971a-74542b64ee7f\" data-root-id=\"1092\"></div>\n"
            ]
          },
          "metadata": {}
        },
        {
          "output_type": "display_data",
          "data": {
            "application/javascript": [
              "(function(root) {\n",
              "  function embed_document(root) {\n",
              "    \n",
              "  var docs_json = {\"69cc138c-1e09-4d0d-9386-45050aaee5d3\":{\"defs\":[],\"roots\":{\"references\":[{\"attributes\":{\"background_fill_color\":\"white\",\"below\":[{\"id\":\"1103\"}],\"center\":[{\"id\":\"1106\"},{\"id\":\"1110\"}],\"left\":[{\"id\":\"1107\"}],\"renderers\":[{\"id\":\"1124\"}],\"title\":{\"id\":\"1093\"},\"toolbar\":{\"id\":\"1114\"},\"width\":890,\"x_range\":{\"id\":\"1095\"},\"x_scale\":{\"id\":\"1099\"},\"y_range\":{\"id\":\"1097\"},\"y_scale\":{\"id\":\"1101\"}},\"id\":\"1092\",\"subtype\":\"Figure\",\"type\":\"Plot\"},{\"attributes\":{\"callback\":null,\"tooltips\":\"\\n    <div>\\n    <div>\\n        <img src='@image' style='float: left; margin: 5px 5px 5px 5px'/>\\n    </div>\\n    <div>\\n        <span style='font-size: 10px; color: #224499'></span>\\n        <span style='font-size: 10px'>@digit</span>\\n    </div>\\n    </div>\\n    \"},\"id\":\"1118\",\"type\":\"HoverTool\"},{\"attributes\":{},\"id\":\"1136\",\"type\":\"AllLabels\"},{\"attributes\":{},\"id\":\"1139\",\"type\":\"AllLabels\"},{\"attributes\":{},\"id\":\"1104\",\"type\":\"BasicTicker\"},{\"attributes\":{\"fill_alpha\":{\"value\":0.1},\"fill_color\":{\"field\":\"digit\",\"transform\":{\"id\":\"1120\"}},\"line_alpha\":{\"value\":0.1},\"line_color\":{\"field\":\"digit\",\"transform\":{\"id\":\"1120\"}},\"size\":{\"value\":7},\"x\":{\"field\":\"x\"},\"y\":{\"field\":\"y\"}},\"id\":\"1123\",\"type\":\"Circle\"},{\"attributes\":{\"factors\":[\"Detection of Heart Murmurs for Imbalanced Dataset Using Adaptive Synthetic Sampling Approach\",\"Image enhancement method for laser infrared thermography defect detection in aviation composites\",\"Multi-Imbalance: An open-source software for multi-class imbalance learning\",\"Kernel Possibilistic Fuzzy c-Means Clustering with Local Information for Image Segmentation\",\"Evolving Optimized Neutrosophic C means clustering using Behavioral Inspiration of Artificial Bacterial Foraging (ONCMC-ABF) in the Prediction of Dyslexia\",\"Tensor Completion via Global Low-Tubal-Rankness and Nonlocal Self-Similarity\",\"Privacy Preserving Ranked Multi And Fuzzy Keyword Searching On Cloud\",\"An Analytical-based Hybrid Algorithm for FPGA Placement\",\"RSCM: A Reliability-Aware Service Chain Mapping\",\"Iteratively-Reweighted Beamforming For High-Resolution Ultrasound Imaging\",\"Global Optimization Design of a Linear Oscillating Motor Based on Kriging Surrogate Model\",\"Probability \\u03ba-means Clustering for Neural Network Architecture\",\"An Efficient Query Scheme for Privacy-Preserving Lightweight Bitcoin Client with Intel SGX\",\"Object detection in aerial images\",\"Identifying Temporal Trends Based on Perplexity and Clustering: Are We Looking at Language Change?\",\"Fast and Robust Watermarking Method using Walsh Matrix Partition\",\"A novel search engine for Internet of Everything based on dynamic prediction\",\"Secure data transmission framework for confidentiality in IoTs\",\"eSLAM: An Energy-Efficient Accelerator for Real-Time ORB-SLAM on FPGA Platform*\",\"Energy-efficient computation offloading and resource allocation for delay-sensitive mobile edge computing\",\"FPGA-accelerated textured surface defect segmentation based on complete period Fourier reconstruction\",\"3D reconstruction of complex spatial weld seam for autonomous welding by laser structured light scanning\",\"Security Benchmarks for Wearable Medical Things: Stakeholders-Centric Approach\",\"Pilot Allocation Game: A Monte Carlo Tree Based Method\",\"OTT_A_229231 10427..10439\",\"Home Range of Yellow-spotted Amazon River Turtles (Podocnemis unifilis) (testudines: Podocnemididae) in the Trombetas River Biological Reserve, Par\\u00e1, Brazil\",\"GlSch: Observation Scheduler for the GLORIA Telescope Network\",\"Research on a TCM-based Transmission Approach for EM-MWD by Combining Phase Modulation and Convolutional Coding\",\"Computer Simulation as a Method of Learning Research in Computational Mathematics\",\"Deep Convolutional Center-Based Clustering\",\"Intrusion Detection at the Network Edge: Solutions, Limitations, and Future Directions\",\"Characterization of a two-dimensional static wind field using Radial Basis Functions\",\"\\u201cSituation polygon\\u201d as an intelligent environment for strategic decision-making support in development of Russian energy sector\",\"Co-synthesis of contention-free energy-efficient NOC-based real time embedded systems\",\"Optimal Sparse Decision Trees\",\"Bionic vision improves the performances of super resolution imaging\",\"Multi-Dimension Projection for Non-Linear Data Via Spearman Correlation Analysis (MD-SCA)\",\"A Comparison Study of VAE and GAN for Software Fault Prediction\",\"Interview : \\u201c Mouth cancer is a growing problem\",\"Size of data in implicit function problems and singular perturbations for nonlinear Schr\\\\\\\"odinger systems\",\"Digital time-resolved spot diagnostic\",\"Construction of 8PSK MSS-OFDM Set Based on Orthogonal Complementary Sequences\",\"Biometric, Psychometric, and Sociometric Profiling\",\"Research and development of an optical gyrocompass using a three-axis FOG\",\"Irradiance modelling for bi-facial PV modules using the ray tracing technique\",\"Emerging Research Trends and Development of Alcoholic Liver Disease Based on Bibliometrics and Visualizaed Analysis\",\"Image datasets of cocoa beans for taxonomy nuances evaluation\",\"Rate-Aware Instantly Decodable Network Codes for Heterogeneous Cellular Networks\",\"acados: a modular open-source framework for fast embedded optimal control\",\"Energy Consumption Metrics for Mobile Device Dynamic Malware Detection\",\"A Time Sequence Data Processing Method Based on Random Matrix of Smart Electric Meter\",\"Shannon-Inspired Statistical Computing for the Nanoscale Era\",\"Data-Oriented Transmission in Future Wireless Systems: Toward Trustworthy Support of Advanced Internet of Things\",\"Human action recognition using dimensionality reduction and support vector machine\",\"A Linear Regression Application of Comprehensive Knowledge with Attitudes Towards HIV / AIDS Sufferers in Indonesia Based on 2018 Riskesdas Data\",\"Application of Weighted Fuzzy Exponential J-Divergence Measure in Engiography\",\"Counting immutable beans: reference counting optimized for purely functional programming\",\"CP-ABE Scheme Supporting Fine-grained Attribute Direct Revocation\",\"PERBANDINGAN KECEPATAN KOMPUTASI SUDUT FOUR BAR LINKAGE ANTARA CPU DAN GPU\",\"Active contour model based on local bias field estimation for image segmentation\",\"BlockSim: Blockchain Simulator\",\"Advances on TCAD numerical modelling of radiation damage effects in silicon detectors for HL-LHC operations\",\"Software Requirements Prioritization with the Goal-Oriented Requirement Language\",\"Counting Attention Based on Classification Confidence for Visual Question Answering\",\"Influence of Enthusiastic Language on the Credibility of Health Information and the Trustworthiness of Science Communicators: Insights From a Between-Subject Web-Based Experiment\",\"SIEVE: Helping developers sift wheat from chaff via cross-platform analysis\",\"A Survey of Symbolic Execution Tools\",\"An Effective RF-based Intrusion Detection Algorithm with Feature Reduction and Transformation\",\"A multi-class classifier based on support vector hyper-spheres for steel plate surface defects\",\"Data locality optimization based on data migration and hotspots prediction in geo-distributed cloud environment\",\"The Use of Data Mining Techniques in Predicting the Noise Emitted By the Trailing Edge of Aerodynamic Objects\",\"Fusing pattern discovery and visual analytics approaches in tweet propagation\",\"An Attack-Resistant Trust Inference Model for Securing Routing in Vehicular Ad Hoc Networks\",\"RGB wavelength demultiplexer based on PCF/POF structure\",\"Effects of spinning process and core yarn contents on yarn shape retention\",\"Evaluation of Conventional methods for the Detection of Lesions in Diabetic Retinopathy Images : A Research\",\"Decision Making Based on IoT Data Collection for Precision Agriculture\",\"Modeling Univariate and Multivariate Stochastic Volatility in R with stochvol and factorstochvol\",\"An Efficient Resource Scheduling Framework for Infrastructure Performance Enhancement in Cloud Environment\",\"Code Generation from Formal Models for Automatic RTOS Portability\",\"Where Programming Skills Meet the Social Needs\",\"Structural-based point cloud segmentation of highly ornate building fa\\u00e7ades for computational modelling\",\"Automatic grayscale image segmentation based on Affinity Propagation clustering\",\"Conversion of STOPP/START version 2 into coded algorithms for software implementation: A multidisciplinary consensus procedure\",\"Determination of sign during phase correction of sign-variable modulation spectra of intersubband light absorption in GaAs/AlGaAs quantum wells\",\"Graphless: Toward Serverless Graph Processing\",\"Penerapan Algoritma Genetika pada Support Vector Machine Sebagai Pengoptimasi Parameter untuk Memprediksi Kesuburan\",\"ITISS: an efficient framework for querying big temporal data\",\"Progress in context-aware recommender systems - An overview\",\"Color Image Encryption Technique Based on Chaos\",\"On detecting business event from the headlines and leads of massive online news articles\",\"Aerodynamic Optimization of Car Shapes Using the Continuous Adjoint Method and an RBF Morpher\",\"Study of Powder Particle Size Effect on Microstructural and Geometrical Features of Laser Claddings Using Response Surface Methodology RSM\",\"Scanning Near-Field Optical Nanospectrophotometry: a New Method for Nanoscale Measurements of the Absorption Spectra of Single Nanoobjects\",\"A novel fuzzy rule extraction approach using Gaussian kernel-based granular computing\",\"Interpolation methods for tracking spacecraft in ultratight formation\",\"Modelling of Attack Trees for Security Assement of Hardening Mechanisms\",\"Ant Colony Optimization Based Dynamic Scheduling Routing Algorithm in Internet of Vehicles\",\"A green Y2O3:Eu3+ phosphor influenced by laser irradiation, incendiary agents, and annealing temperatures\",\"Fuzzy classifier based on clustering with pairs of \\u03b5-hyperballs and its application to support fetal state assessment\",\"Credibility Assessment of Simulation Models Using Hesitant Cloud Linguistic Term Sets\",\"Development of Facial Expression Classifier using Neural Networks\",\"Adaptive Memory and Storage Fusion on Non-Volatile One-Memory System\",\"TensorNetwork on TensorFlow: Entanglement Renormalization for quantum critical lattice models\",\"Laser line generation for optimized interaction with hidden defects in active thermography\",\"An Intrusion Detection System Using Optimized Svm For Detecting Ddos In Cloud\",\"An Improved Prediction Model for the Network Security Situation\",\"A Cyber-Physical System for Semi-Autonomous Oil&Gas Drilling Operations\",\"Geometry-Assisted Multi Surface-Gateways Placement Topologies for Underwater Sensor Networks\",\"Parameter optimization framework on wave gradients of Wave\\u2010CAIPI imaging\",\"Porting CUDA-Based Molecular Dynamics Algorithms to AMD ROCm Platform Using HIP Framework: Performance Analysis\",\"JPBA of ARN for target tracking in clutter\",\"Text to Code: Pseudo Code Generation\",\"Avoiding strange attractors in efficient parametric families of iterative methods for solving nonlinear problems\",\"Formal Interoperability Models of Sensor Networks Based on Logical Workflow Nets\",\"Partial Discharge Source Localization in GIS Based on Image Edge Detection and Support Vector Machine\",\"Detection of damaged wheat kernels using an impact acoustic signal processing technique based on Gaussian modelling and an improved extreme learning machine algorithm\",\"Corporate Foresight and Roadmapping for Innovation in Russia: A Joint University Corporate Experience\",\"An efficient Minkowski distance-based matching with Merkle hash tree authentication for biometric recognition in cloud computing\",\"A Dynamic Local-Global Trust-aware Recommendation approach\",\"Collision free 4D path planning for multiple UAVs based on spatial refined voting mechanism and PSO approach\",\"Combining user preferences and expert opinions: a criteria synergy-based model for decision making on the Web\",\"Security Approaches and Crypto Algorithms in Mobile Cloud Storage Environment to Ensure Data Security\",\"Multi-UAV Delay Optimization in Edge Caching Networks: A Mean Field Game Approach\",\"Coverage Evaluation and Analysis of Post-Silicon Tests with Virtual Prototypes\",\"Augmenting App Reviews with App Changelogs: An Approach for App Reviews Classification\",\"Refractive index sensor based on a combination of optical frequency comb with intracavity multi-mode interference fiber sensor\",\"APPLICATION OF KNN ALGORITHM FOR CRICKET TEAM PLAYER\\u2019S SUBSTITUTE\",\"Critical states in Political Trends. How much reliable is a poll on Twitter?: The Potts model and the inverse problem in Social Science\",\"Development of information security quest based on use of information and communication technologies\",\"Lazy Learning Associative Classification in MapReduce Framework\",\"News Readers' Sentiment Analysis Based on Fused-KNN Algorithm\",\"Resource Allocation of Multibeam Communication Satellite Systems in Sparse Networks\",\"Emotion recognition using facial feature extraction\",\"RAMP Shapes: Declarative RDF $\\\\leftrightarrow $ ADT Mapping\",\"Difficulties and Improvements to Graph-Based Lexical Sentiment Analysis Using LISA\",\"Development of cloud-based power system operational data management system\",\"Solving linear programs on factorized databases\",\"An Effective Solution for Application Orchestration\",\"ArchiMate based Security Risk Assessment as a service: preventing and responding to the cloud of things' risks\",\"A Novel Intuitionistic Fuzzy Clustering Algorithm Based on Feature Selection for Multiple Object Tracking\",\"Translating CUDA to OpenCL for Hardware Generation using Neural Machine Translation\",\"Some Serious Deliberations and Reflections on the Significance of Non-Functional Requirements for Improving the Quality of Software\",\"Online Signature-Based Biometric Recognition\",\"The Design, Productization, and Evaluation of a Serverless Workflow-Management System\",\"Live tasking / command and control (C2) of ISR unmanned underwater gliders from remote operational sites\",\"Analysis of Deep Learning Architectures for Human Action Recognition\",\"An Approach for Secured and Fast transfer data Minimization Approach of Big Data using Secure Encoding: An Overview\",\"dOCAL: high-level distributed programming with OpenCL and CUDA\",\"Detecting Forged E-Mail using Data Mining Techniques\",\"Online optimization with gradual look-ahead\",\"In vivo skin surface study by scattered ellipsometry method\",\"Detection with Graph Convolutional Networks\",\"A New Method for Estimation of Baseline Incline Angle for Double-side Looking Interferometric Imaging Radar Altimeter\",\"Adaptive particle swarm optimization with population diversity control and its application in tandem blade optimization\",\"Interface model of the influence of particle size on the plastic deformation resistance of particle-reinforced metal-matrix composites\",\"An Efficient and Fast Quantum State Estimator With Sparse Disturbance\",\"The Influence of Group Investigation Learning Implementation Judging From Learning Motivation Against Students' Mathematical Problem Solving Ability\",\"Deadlock detection-oriented unfolding of unbounded Petri nets\",\"On the Mahalanobis Distance Classification Criterion for a Ventricular Septal Defect Diagnosis System\",\"Recognition of printed Urdu ligatures using convolutional neural networks\",\"Agile-scrum Software Development Monitoring System\",\"Multi-Modal Non-Line-of-Sight Passive Imaging\",\"PurgeMEM: Towards Building A Memory Safe Cloud\",\"External transactions Internal transactions Source code Operation code Code features Account features Classifier Disassemble Other contracts Ponzi schme contracts Application Label Bytecode Collecting ground truth Extracting features Model & Application FIGURE 2 : The Framework of Smart Ponzi Scheme\",\"Unsupervised weld defect classification in radiographic images using multivariate generalized Gaussian mixture model with exact computation of mean and shape parameters\",\"SERVING RECURRENT NEURAL NETWORKS EFFICIENTLY WITH A SPATIAL ARCHITECTURE\",\"Multi-task ADAS system on FPGA\",\"Conflicts women with breast cancer face with: A qualitative study\",\"Software Bugs\",\"A likelihood-based hyperparameter-free algorithm for robust block-sparse recovery\",\"Data-driven crowd evacuation: A reinforcement learning method\",\"ArASL: Arabic Alphabets Sign Language Dataset\",\"Exploration of Techniques to Assess Soft Errors in Multicore Architectures\",\"Continuous Tamil Speech Recognition technique under non stationary noisy environments\",\"Transfer Learning Source Network ? ? ? ? ? ? Target Network Class 1 Class 2 Labeled Unlabeled Attributes\",\"Design of a Multiword Expressions Database\",\"Impact of pharyngeal endoscopic tip placement and water flushing interval on upper respiratory tract disorders in horses undergoing overground endoscopy\",\"Data Subsetting: A Data-Centric Approach to Approximate Computing\",\"QUALITY OF SERVICE-BASED RESOURCE ALLOCATION FOR WEB CONTENT DELIVERY ON CLOUD COMPUTING INFRASTRUCTURE\",\"Characterization of Diseases Based on Phenotypic Information Through Knowledge Extraction using Public Sources\",\"On Detection, Data Association and Segmentation for Multi-Target Tracking\",\"A new design of evolutionary hybrid optimization of SVR model in predicting the blast-induced ground vibration\",\"Bitcoin Mining with Transaction Fees: A Game on the Block Size\",\"Poster: Deployment-quality and Accessible Solutions for Cryptography Code Development\",\"Spectator Excitement Detection in Small-scale Sports Events\",\"IoT Fog Cloud Model for Digital Reach in Rural India\",\"FRFP: A Friend Recommendation Method Based on Fine-Grained Preference\",\"Intelligent classification technique for breast cancer classification using digital image processing approach\",\"Alexion Joins Eurordis, NORD and Patient Organizations Worldwide in Celebrating Rare Disease Day 2013\",\"Smart Mobile LoRa Agriculture System based on Internet of Things\",\"Online Event Processing: Achieving Consistency Where Distributed Transactions Have Failed\",\"Smart mobile application to recognize tomato leaf diseases using Convolutional Neural Networks\",\"Couple-based particle swarm optimization for short-term hydrothermal scheduling\",\"Evaluation of fan-out wafer level package strength\",\"Evaluating a Test Automation Decision Support Tool\",\"Stock Price Prediction Using Machine Learning Techniques\",\"PRIMAL: Pathfinding via Reinforcement and Imitation Multi-Agent Learning\",\"KGDDS: A System for Drug-Drug Similarity Measure in Therapeutic Substitution based on Knowledge Graph Curation\",\"Retinal vessel segmentation approach based on corrected morphological transformation and fractal dimension\"],\"palette\":[\"#000003\",\"#000004\",\"#000006\",\"#010007\",\"#01010B\",\"#02020D\",\"#02020F\",\"#040313\",\"#040415\",\"#050417\",\"#060519\",\"#08061D\",\"#09071F\",\"#0A0722\",\"#0C0926\",\"#0D0A28\",\"#0E0A2A\",\"#100C2F\",\"#110C31\",\"#120D33\",\"#140D35\",\"#160E3A\",\"#170F3C\",\"#180F3F\",\"#1B1044\",\"#1C1046\",\"#1E1049\",\"#1F114B\",\"#221150\",\"#231152\",\"#251155\",\"#281159\",\"#2A115C\",\"#2B115E\",\"#2F1062\",\"#301065\",\"#321067\",\"#341068\",\"#370F6C\",\"#390F6E\",\"#3B0F6F\",\"#3E0F72\",\"#400F73\",\"#420F74\",\"#430F75\",\"#470F77\",\"#481078\",\"#4A1079\",\"#4D117A\",\"#4F117B\",\"#50127B\",\"#53137C\",\"#55137D\",\"#57147D\",\"#58157E\",\"#5B167E\",\"#5D177E\",\"#5E177F\",\"#61187F\",\"#63197F\",\"#651A80\",\"#661A80\",\"#691C80\",\"#6B1C80\",\"#6C1D80\",\"#6F1E81\",\"#711F81\",\"#731F81\",\"#762181\",\"#772181\",\"#792281\",\"#7A2281\",\"#7E2481\",\"#7F2481\",\"#812581\",\"#842681\",\"#852681\",\"#872781\",\"#892881\",\"#8C2980\",\"#8D2980\",\"#8F2A80\",\"#922B80\",\"#942B80\",\"#952C80\",\"#992D7F\",\"#9A2D7F\",\"#9C2E7F\",\"#9E2E7E\",\"#A12F7E\",\"#A3307E\",\"#A4307D\",\"#A7317D\",\"#A9327C\",\"#AB337C\",\"#AC337B\",\"#B0347B\",\"#B1357A\",\"#B3357A\",\"#B63679\",\"#B83778\",\"#B93778\",\"#BD3977\",\"#BE3976\",\"#C03A75\",\"#C23A75\",\"#C53C74\",\"#C63C73\",\"#C83D72\",\"#CB3E71\",\"#CD3F70\",\"#CE4070\",\"#D0416F\",\"#D3426D\",\"#D4436D\",\"#D6446C\",\"#D9466A\",\"#DA4769\",\"#DC4869\",\"#DE4A67\",\"#E04B66\",\"#E14C66\",\"#E24D65\",\"#E55063\",\"#E65162\",\"#E75262\",\"#EA5560\",\"#EB5660\",\"#EC585F\",\"#ED595F\",\"#EE5D5D\",\"#EF5E5D\",\"#F0605D\",\"#F2635C\",\"#F3655C\",\"#F3675B\",\"#F56A5B\",\"#F56C5B\",\"#F66E5B\",\"#F6705B\",\"#F7735C\",\"#F8755C\",\"#F8775C\",\"#F97B5D\",\"#F97D5D\",\"#FA7F5E\",\"#FA805E\",\"#FB8460\",\"#FB8660\",\"#FB8861\",\"#FC8C63\",\"#FC8E63\",\"#FC9064\",\"#FC9366\",\"#FD9567\",\"#FD9768\",\"#FD9969\",\"#FD9D6B\",\"#FD9F6C\",\"#FDA16E\",\"#FDA470\",\"#FEA671\",\"#FEA873\",\"#FEAA74\",\"#FEAE76\",\"#FEAF78\",\"#FEB179\",\"#FEB57C\",\"#FEB77D\",\"#FEB97F\",\"#FEBC82\",\"#FEBE83\",\"#FEC085\",\"#FEC286\",\"#FEC689\",\"#FEC78B\",\"#FEC98D\",\"#FDCD90\",\"#FDCF92\",\"#FDD193\",\"#FDD295\",\"#FDD698\",\"#FDD89A\",\"#FDDA9C\",\"#FDDD9F\",\"#FDDFA1\",\"#FDE1A3\",\"#FCE5A6\",\"#FCE6A8\",\"#FCE8AA\",\"#FCEAAC\",\"#FCEEB0\",\"#FCF0B1\",\"#FCF1B3\",\"#FCF5B7\",\"#FBF7B9\",\"#FBF9BB\",\"#FBFCBF\"]},\"id\":\"1120\",\"type\":\"CategoricalColorMapper\"},{\"attributes\":{\"axis\":{\"id\":\"1107\"},\"dimension\":1,\"ticker\":null},\"id\":\"1110\",\"type\":\"Grid\"},{\"attributes\":{},\"id\":\"1099\",\"type\":\"LinearScale\"},{\"attributes\":{},\"id\":\"1095\",\"type\":\"DataRange1d\"},{\"attributes\":{},\"id\":\"1101\",\"type\":\"LinearScale\"},{\"attributes\":{},\"id\":\"1138\",\"type\":\"BasicTickFormatter\"},{\"attributes\":{\"data\":{\"digit\":[\"Detection of Heart Murmurs for Imbalanced Dataset Using Adaptive Synthetic Sampling Approach\",\"Image enhancement method for laser infrared thermography defect detection in aviation composites\",\"Multi-Imbalance: An open-source software for multi-class imbalance learning\",\"Kernel Possibilistic Fuzzy c-Means Clustering with Local Information for Image Segmentation\",\"Evolving Optimized Neutrosophic C means clustering using Behavioral Inspiration of Artificial Bacterial Foraging (ONCMC-ABF) in the Prediction of Dyslexia\",\"Tensor Completion via Global Low-Tubal-Rankness and Nonlocal Self-Similarity\",\"Privacy Preserving Ranked Multi And Fuzzy Keyword Searching On Cloud\",\"An Analytical-based Hybrid Algorithm for FPGA Placement\",\"RSCM: A Reliability-Aware Service Chain Mapping\",\"Iteratively-Reweighted Beamforming For High-Resolution Ultrasound Imaging\",\"Global Optimization Design of a Linear Oscillating Motor Based on Kriging Surrogate Model\",\"Probability \\u03ba-means Clustering for Neural Network Architecture\",\"An Efficient Query Scheme for Privacy-Preserving Lightweight Bitcoin Client with Intel SGX\",\"Object detection in aerial images\",\"Identifying Temporal Trends Based on Perplexity and Clustering: Are We Looking at Language Change?\",\"Fast and Robust Watermarking Method using Walsh Matrix Partition\",\"A novel search engine for Internet of Everything based on dynamic prediction\",\"Secure data transmission framework for confidentiality in IoTs\",\"eSLAM: An Energy-Efficient Accelerator for Real-Time ORB-SLAM on FPGA Platform*\",\"Energy-efficient computation offloading and resource allocation for delay-sensitive mobile edge computing\",\"FPGA-accelerated textured surface defect segmentation based on complete period Fourier reconstruction\",\"3D reconstruction of complex spatial weld seam for autonomous welding by laser structured light scanning\",\"Security Benchmarks for Wearable Medical Things: Stakeholders-Centric Approach\",\"Pilot Allocation Game: A Monte Carlo Tree Based Method\",\"OTT_A_229231 10427..10439\",\"Home Range of Yellow-spotted Amazon River Turtles (Podocnemis unifilis) (testudines: Podocnemididae) in the Trombetas River Biological Reserve, Par\\u00e1, Brazil\",\"GlSch: Observation Scheduler for the GLORIA Telescope Network\",\"Research on a TCM-based Transmission Approach for EM-MWD by Combining Phase Modulation and Convolutional Coding\",\"Computer Simulation as a Method of Learning Research in Computational Mathematics\",\"Deep Convolutional Center-Based Clustering\",\"Intrusion Detection at the Network Edge: Solutions, Limitations, and Future Directions\",\"Characterization of a two-dimensional static wind field using Radial Basis Functions\",\"\\u201cSituation polygon\\u201d as an intelligent environment for strategic decision-making support in development of Russian energy sector\",\"Co-synthesis of contention-free energy-efficient NOC-based real time embedded systems\",\"Optimal Sparse Decision Trees\",\"Bionic vision improves the performances of super resolution imaging\",\"Multi-Dimension Projection for Non-Linear Data Via Spearman Correlation Analysis (MD-SCA)\",\"A Comparison Study of VAE and GAN for Software Fault Prediction\",\"Interview : \\u201c Mouth cancer is a growing problem\",\"Size of data in implicit function problems and singular perturbations for nonlinear Schr\\\\\\\"odinger systems\",\"Digital time-resolved spot diagnostic\",\"Construction of 8PSK MSS-OFDM Set Based on Orthogonal Complementary Sequences\",\"Biometric, Psychometric, and Sociometric Profiling\",\"Research and development of an optical gyrocompass using a three-axis FOG\",\"Irradiance modelling for bi-facial PV modules using the ray tracing technique\",\"Emerging Research Trends and Development of Alcoholic Liver Disease Based on Bibliometrics and Visualizaed Analysis\",\"Image datasets of cocoa beans for taxonomy nuances evaluation\",\"Rate-Aware Instantly Decodable Network Codes for Heterogeneous Cellular Networks\",\"acados: a modular open-source framework for fast embedded optimal control\",\"Energy Consumption Metrics for Mobile Device Dynamic Malware Detection\",\"A Time Sequence Data Processing Method Based on Random Matrix of Smart Electric Meter\",\"Shannon-Inspired Statistical Computing for the Nanoscale Era\",\"Data-Oriented Transmission in Future Wireless Systems: Toward Trustworthy Support of Advanced Internet of Things\",\"Human action recognition using dimensionality reduction and support vector machine\",\"A Linear Regression Application of Comprehensive Knowledge with Attitudes Towards HIV / AIDS Sufferers in Indonesia Based on 2018 Riskesdas Data\",\"Application of Weighted Fuzzy Exponential J-Divergence Measure in Engiography\",\"Counting immutable beans: reference counting optimized for purely functional programming\",\"CP-ABE Scheme Supporting Fine-grained Attribute Direct Revocation\",\"PERBANDINGAN KECEPATAN KOMPUTASI SUDUT FOUR BAR LINKAGE ANTARA CPU DAN GPU\",\"Active contour model based on local bias field estimation for image segmentation\",\"BlockSim: Blockchain Simulator\",\"Advances on TCAD numerical modelling of radiation damage effects in silicon detectors for HL-LHC operations\",\"Software Requirements Prioritization with the Goal-Oriented Requirement Language\",\"Counting Attention Based on Classification Confidence for Visual Question Answering\",\"Influence of Enthusiastic Language on the Credibility of Health Information and the Trustworthiness of Science Communicators: Insights From a Between-Subject Web-Based Experiment\",\"SIEVE: Helping developers sift wheat from chaff via cross-platform analysis\",\"A Survey of Symbolic Execution Tools\",\"An Effective RF-based Intrusion Detection Algorithm with Feature Reduction and Transformation\",\"A multi-class classifier based on support vector hyper-spheres for steel plate surface defects\",\"Data locality optimization based on data migration and hotspots prediction in geo-distributed cloud environment\",\"The Use of Data Mining Techniques in Predicting the Noise Emitted By the Trailing Edge of Aerodynamic Objects\",\"Fusing pattern discovery and visual analytics approaches in tweet propagation\",\"An Attack-Resistant Trust Inference Model for Securing Routing in Vehicular Ad Hoc Networks\",\"RGB wavelength demultiplexer based on PCF/POF structure\",\"Effects of spinning process and core yarn contents on yarn shape retention\",\"Evaluation of Conventional methods for the Detection of Lesions in Diabetic Retinopathy Images : A Research\",\"Decision Making Based on IoT Data Collection for Precision Agriculture\",\"Modeling Univariate and Multivariate Stochastic Volatility in R with stochvol and factorstochvol\",\"An Efficient Resource Scheduling Framework for Infrastructure Performance Enhancement in Cloud Environment\",\"Code Generation from Formal Models for Automatic RTOS Portability\",\"Where Programming Skills Meet the Social Needs\",\"Structural-based point cloud segmentation of highly ornate building fa\\u00e7ades for computational modelling\",\"Automatic grayscale image segmentation based on Affinity Propagation clustering\",\"Conversion of STOPP/START version 2 into coded algorithms for software implementation: A multidisciplinary consensus procedure\",\"Determination of sign during phase correction of sign-variable modulation spectra of intersubband light absorption in GaAs/AlGaAs quantum wells\",\"Graphless: Toward Serverless Graph Processing\",\"Penerapan Algoritma Genetika pada Support Vector Machine Sebagai Pengoptimasi Parameter untuk Memprediksi Kesuburan\",\"ITISS: an efficient framework for querying big temporal data\",\"Progress in context-aware recommender systems - An overview\",\"Color Image Encryption Technique Based on Chaos\",\"On detecting business event from the headlines and leads of massive online news articles\",\"Aerodynamic Optimization of Car Shapes Using the Continuous Adjoint Method and an RBF Morpher\",\"Study of Powder Particle Size Effect on Microstructural and Geometrical Features of Laser Claddings Using Response Surface Methodology RSM\",\"Scanning Near-Field Optical Nanospectrophotometry: a New Method for Nanoscale Measurements of the Absorption Spectra of Single Nanoobjects\",\"A novel fuzzy rule extraction approach using Gaussian kernel-based granular computing\",\"Interpolation methods for tracking spacecraft in ultratight formation\",\"Modelling of Attack Trees for Security Assement of Hardening Mechanisms\",\"Ant Colony Optimization Based Dynamic Scheduling Routing Algorithm in Internet of Vehicles\",\"A green Y2O3:Eu3+ phosphor influenced by laser irradiation, incendiary agents, and annealing temperatures\",\"Fuzzy classifier based on clustering with pairs of \\u03b5-hyperballs and its application to support fetal state assessment\",\"Credibility Assessment of Simulation Models Using Hesitant Cloud Linguistic Term Sets\",\"Development of Facial Expression Classifier using Neural Networks\",\"Adaptive Memory and Storage Fusion on Non-Volatile One-Memory System\",\"TensorNetwork on TensorFlow: Entanglement Renormalization for quantum critical lattice models\",\"Laser line generation for optimized interaction with hidden defects in active thermography\",\"An Intrusion Detection System Using Optimized Svm For Detecting Ddos In Cloud\",\"An Improved Prediction Model for the Network Security Situation\",\"A Cyber-Physical System for Semi-Autonomous Oil&Gas Drilling Operations\",\"Geometry-Assisted Multi Surface-Gateways Placement Topologies for Underwater Sensor Networks\",\"Parameter optimization framework on wave gradients of Wave\\u2010CAIPI imaging\",\"Porting CUDA-Based Molecular Dynamics Algorithms to AMD ROCm Platform Using HIP Framework: Performance Analysis\",\"JPBA of ARN for target tracking in clutter\",\"Text to Code: Pseudo Code Generation\",\"Avoiding strange attractors in efficient parametric families of iterative methods for solving nonlinear problems\",\"Formal Interoperability Models of Sensor Networks Based on Logical Workflow Nets\",\"Partial Discharge Source Localization in GIS Based on Image Edge Detection and Support Vector Machine\",\"Detection of damaged wheat kernels using an impact acoustic signal processing technique based on Gaussian modelling and an improved extreme learning machine algorithm\",\"Corporate Foresight and Roadmapping for Innovation in Russia: A Joint University Corporate Experience\",\"An efficient Minkowski distance-based matching with Merkle hash tree authentication for biometric recognition in cloud computing\",\"A Dynamic Local-Global Trust-aware Recommendation approach\",\"Collision free 4D path planning for multiple UAVs based on spatial refined voting mechanism and PSO approach\",\"Combining user preferences and expert opinions: a criteria synergy-based model for decision making on the Web\",\"Security Approaches and Crypto Algorithms in Mobile Cloud Storage Environment to Ensure Data Security\",\"Multi-UAV Delay Optimization in Edge Caching Networks: A Mean Field Game Approach\",\"Coverage Evaluation and Analysis of Post-Silicon Tests with Virtual Prototypes\",\"Augmenting App Reviews with App Changelogs: An Approach for App Reviews Classification\",\"Refractive index sensor based on a combination of optical frequency comb with intracavity multi-mode interference fiber sensor\",\"APPLICATION OF KNN ALGORITHM FOR CRICKET TEAM PLAYER\\u2019S SUBSTITUTE\",\"Critical states in Political Trends. How much reliable is a poll on Twitter?: The Potts model and the inverse problem in Social Science\",\"Development of information security quest based on use of information and communication technologies\",\"Lazy Learning Associative Classification in MapReduce Framework\",\"News Readers' Sentiment Analysis Based on Fused-KNN Algorithm\",\"Resource Allocation of Multibeam Communication Satellite Systems in Sparse Networks\",\"Emotion recognition using facial feature extraction\",\"RAMP Shapes: Declarative RDF $\\\\leftrightarrow $ ADT Mapping\",\"Difficulties and Improvements to Graph-Based Lexical Sentiment Analysis Using LISA\",\"Development of cloud-based power system operational data management system\",\"Solving linear programs on factorized databases\",\"An Effective Solution for Application Orchestration\",\"ArchiMate based Security Risk Assessment as a service: preventing and responding to the cloud of things' risks\",\"A Novel Intuitionistic Fuzzy Clustering Algorithm Based on Feature Selection for Multiple Object Tracking\",\"Translating CUDA to OpenCL for Hardware Generation using Neural Machine Translation\",\"Some Serious Deliberations and Reflections on the Significance of Non-Functional Requirements for Improving the Quality of Software\",\"Online Signature-Based Biometric Recognition\",\"The Design, Productization, and Evaluation of a Serverless Workflow-Management System\",\"Live tasking / command and control (C2) of ISR unmanned underwater gliders from remote operational sites\",\"Analysis of Deep Learning Architectures for Human Action Recognition\",\"An Approach for Secured and Fast transfer data Minimization Approach of Big Data using Secure Encoding: An Overview\",\"dOCAL: high-level distributed programming with OpenCL and CUDA\",\"Detecting Forged E-Mail using Data Mining Techniques\",\"Online optimization with gradual look-ahead\",\"In vivo skin surface study by scattered ellipsometry method\",\"Detection with Graph Convolutional Networks\",\"A New Method for Estimation of Baseline Incline Angle for Double-side Looking Interferometric Imaging Radar Altimeter\",\"Adaptive particle swarm optimization with population diversity control and its application in tandem blade optimization\",\"Interface model of the influence of particle size on the plastic deformation resistance of particle-reinforced metal-matrix composites\",\"An Efficient and Fast Quantum State Estimator With Sparse Disturbance\",\"The Influence of Group Investigation Learning Implementation Judging From Learning Motivation Against Students' Mathematical Problem Solving Ability\",\"Deadlock detection-oriented unfolding of unbounded Petri nets\",\"On the Mahalanobis Distance Classification Criterion for a Ventricular Septal Defect Diagnosis System\",\"Recognition of printed Urdu ligatures using convolutional neural networks\",\"Agile-scrum Software Development Monitoring System\",\"Multi-Modal Non-Line-of-Sight Passive Imaging\",\"PurgeMEM: Towards Building A Memory Safe Cloud\",\"External transactions Internal transactions Source code Operation code Code features Account features Classifier Disassemble Other contracts Ponzi schme contracts Application Label Bytecode Collecting ground truth Extracting features Model & Application FIGURE 2 : The Framework of Smart Ponzi Scheme\",\"Unsupervised weld defect classification in radiographic images using multivariate generalized Gaussian mixture model with exact computation of mean and shape parameters\",\"SERVING RECURRENT NEURAL NETWORKS EFFICIENTLY WITH A SPATIAL ARCHITECTURE\",\"Multi-task ADAS system on FPGA\",\"Conflicts women with breast cancer face with: A qualitative study\",\"Software Bugs\",\"A likelihood-based hyperparameter-free algorithm for robust block-sparse recovery\",\"Data-driven crowd evacuation: A reinforcement learning method\",\"ArASL: Arabic Alphabets Sign Language Dataset\",\"Exploration of Techniques to Assess Soft Errors in Multicore Architectures\",\"Continuous Tamil Speech Recognition technique under non stationary noisy environments\",\"Transfer Learning Source Network ? ? ? ? ? ? Target Network Class 1 Class 2 Labeled Unlabeled Attributes\",\"Design of a Multiword Expressions Database\",\"Impact of pharyngeal endoscopic tip placement and water flushing interval on upper respiratory tract disorders in horses undergoing overground endoscopy\",\"Data Subsetting: A Data-Centric Approach to Approximate Computing\",\"QUALITY OF SERVICE-BASED RESOURCE ALLOCATION FOR WEB CONTENT DELIVERY ON CLOUD COMPUTING INFRASTRUCTURE\",\"Characterization of Diseases Based on Phenotypic Information Through Knowledge Extraction using Public Sources\",\"On Detection, Data Association and Segmentation for Multi-Target Tracking\",\"A new design of evolutionary hybrid optimization of SVR model in predicting the blast-induced ground vibration\",\"Bitcoin Mining with Transaction Fees: A Game on the Block Size\",\"Poster: Deployment-quality and Accessible Solutions for Cryptography Code Development\",\"Spectator Excitement Detection in Small-scale Sports Events\",\"IoT Fog Cloud Model for Digital Reach in Rural India\",\"FRFP: A Friend Recommendation Method Based on Fine-Grained Preference\",\"Intelligent classification technique for breast cancer classification using digital image processing approach\",\"Alexion Joins Eurordis, NORD and Patient Organizations Worldwide in Celebrating Rare Disease Day 2013\",\"Smart Mobile LoRa Agriculture System based on Internet of Things\",\"Online Event Processing: Achieving Consistency Where Distributed Transactions Have Failed\",\"Smart mobile application to recognize tomato leaf diseases using Convolutional Neural Networks\",\"Couple-based particle swarm optimization for short-term hydrothermal scheduling\",\"Evaluation of fan-out wafer level package strength\",\"Evaluating a Test Automation Decision Support Tool\",\"Stock Price Prediction Using Machine Learning Techniques\",\"PRIMAL: Pathfinding via Reinforcement and Imitation Multi-Agent Learning\",\"KGDDS: A System for Drug-Drug Similarity Measure in Therapeutic Substitution based on Knowledge Graph Curation\",\"Retinal vessel segmentation approach based on corrected morphological transformation and fractal dimension\"],\"index\":[0,1,2,3,4,5,6,7,8,9,10,11,12,13,14,15,16,17,18,19,20,21,22,23,24,25,26,27,28,29,30,31,32,33,34,35,36,37,38,39,40,41,42,43,44,45,46,47,48,49,50,51,52,53,54,55,56,57,58,59,60,61,62,63,64,65,66,67,68,69,70,71,72,73,74,75,76,77,78,79,80,81,82,83,84,85,86,87,88,89,90,91,92,93,94,95,96,97,98,99,100,101,102,103,104,105,106,107,108,109,110,111,112,113,114,115,116,117,118,119,120,121,122,123,124,125,126,127,128,129,130,131,132,133,134,135,136,137,138,139,140,141,142,143,144,145,146,147,148,149,150,151,152,153,154,155,156,157,158,159,160,161,162,163,164,165,166,167,168,169,170,171,172,173,174,175,176,177,178,179,180,181,182,183,184,185,186,187,188,189,190,191,192,193,194,195,196,197,198,199],\"x\":{\"__ndarray__\":\"ZeEUQYtZREF3Ax5BLT8aQUppCEH0d0JBEVEnQboaP0FmUhlBa0ojQbUlOEFyjiNBY14aQf4XI0FT/wpBVJA+QaXMQUEqrBJB20k9QQ0WGkE4tUBB9Wk8QeWuKkHqHxRBzkswQX8yBUG3jyNBIsUNQatGR0EWOzhB9ANGQaMuRUGi/jJBsiYHQfGMKUGS+SlBZYIlQWklKkGebwxBsuMcQR0gIUHYNC1BDT83QXoVGEFpbixBXQIRQYAJGUGIpw1B1Xk1QRomD0EzqzFB8uYtQQidIkF27i5B72FGQVdpMUEoFitB5qUWQQ3mHUE7chJBPuI5QU34DEE9OTRBMbRAQVbEI0FJhCZBfHUHQUGHI0GmoidB/8cEQf19LUHnpSJBf+8+QaeLI0HlokVBVborQWC4EkGbyg1BzXsjQS8TIUGzlhJBpm0cQdjwJEEOGjxBVvokQc5QG0FXfz9ByWEgQYolF0Hp8CdBDu0PQRzRDEFbgQRBmc8yQVkPGUH/cSVB7Hw+QbvwHEEYPDBBXAAUQe6IF0GWRRhBvGglQadhMEG0ch1Bx2g8QeUvJ0HpZ0VBdBQaQUe+MkH24ztBc3xIQYFgOkG9MR1Bb5gVQbjyIEEl0RBBV+A9QfKRL0Fr4ydBys87Qft/FUFyBxVB/bZBQYolP0FSdSdBsv1FQRKLM0HWq0BB6nMRQZtFOEHTXERByj9AQUQdKEGIOitBSN4oQdt1M0EMPCRBYso+QTWWQUGuAy1Bc/gLQRiWP0HcIUNBKpcwQSsxPEEGzCZBXJs0QbsPGUG/YSRBFfUHQaNhNkF2SUlBmlZAQfCzEUGP6RtBoysbQbjQF0HcdiBBwBIQQbViHEFGYB1BQ8EaQT/CK0FKxS9BjggzQY6HLEE2NiJBA+4tQZrFEkHExj1B5OgcQZJkG0EHaStBe78rQddvOkFMgERB6AohQTyUBUFE3idBF14XQb+NGUH/8hpBgMAQQfIsIkHuhCJBvHQ4Qdz6P0GUxzBBf6Q7QSh9K0Gl7z1BFisoQSl1OkHNEEFBkSYQQTVKJEGgWkVB1mYYQSdyG0E=\",\"dtype\":\"float32\",\"order\":\"little\",\"shape\":[200]},\"y\":{\"__ndarray__\":\"IrCQPwgYEkAvC1RAMFlPQPHFfT+WpRxAacTVPz0osj+giAu/kOjoP3juUD8Ic3s/iRf4P5vKDUB41dw/EO8Sv2mBK0Dpwu2/WdWOvzWbTT+QGrw+Xu0bQI8FXr8n5S1A/XmRPiHN0j383SdA+2csP/EHAUB+KF6/XIEXv0SDFkCZhS9AaslPP7CsBkD/IQZAIaXWvnkASL2/XMM/226pPkgwhr873j9ARiS6P361xr8YJn4/f/HiPwje8b8ySxFAgNowQMbqFUC54wBABZjRvzRIPECssXI/GgiyP9TRKEA6Og8/cvkyQD85CcDei42/F0UOQDzsJL7lO4O+zVNwP5bXBMD0bQTA/aU4P13KWb/YWd2/OOoVP6JnAz/YKIe/JsnCP+IRIr+MmoI/J9rNP31j8T5jSwq/d3vgv2OhKT0Qq0e/Jz3CP0TTKUD00ag+2JvAv4qmO0B0W5q/MeKRv2EGhL9WyoE9nZbSP0GgxD/0XYs+yrOiP3WlPEBxNoU9XG2Dv836pj+KWqo/nf0dQK+2HUAKlLK/920IwHcm5r9TpQNAhaGwP3XC+r60JqC+TSOdv5RVFEAK8dq9tJSvP7JK8D9GD6i/W17vvZdMG79Uo8K+hkE7v7oMEkCzaZE/QNoWP+pVqL/58AK/fmo9P6mEO7/97Zs/MRUxvkIrXj/kaUW+AWctPcuXHL86JiBAiy0wPxbXwb8YNJ2/qKU6QDcuQL831gVAdFE7QNZZ/T9ACRJAAMbaPyclMUAcxAS+FbH7vXLrkD/HaMG/xkoyQErTUkDZU58/bBvUvt9ZGT5Cmuo/WLOGv8kB1L8bajxAy9amP7h/Ir8zDsw/j+Uhv4C4or+oZ7q+rbYmQOlvOr+gdmW/Z52ovxgoSr/i3/y/YYCevxbGAkAqxqK/iym+PyDdPb/IvzFAam2ovlkYzb7AEfc/xh+wvSsArz0wfU6/zUPNv8maAcDQhtQ/mV1nvvk52D8AkJE/8uQJQHlA8T84mI2/edcpQMdr3L8QViu/4tQbQDY0+T8ZO+A8SjvVPgwOAD9kSNc/90DiP0zW/z8=\",\"dtype\":\"float32\",\"order\":\"little\",\"shape\":[200]}},\"selected\":{\"id\":\"1142\"},\"selection_policy\":{\"id\":\"1143\"}},\"id\":\"1091\",\"type\":\"ColumnDataSource\"},{\"attributes\":{},\"id\":\"1142\",\"type\":\"Selection\"},{\"attributes\":{},\"id\":\"1097\",\"type\":\"DataRange1d\"},{\"attributes\":{\"source\":{\"id\":\"1091\"}},\"id\":\"1125\",\"type\":\"CDSView\"},{\"attributes\":{},\"id\":\"1113\",\"type\":\"ResetTool\"},{\"attributes\":{\"text\":\"UMAP projection of the article title embeddings\"},\"id\":\"1093\",\"type\":\"Title\"},{\"attributes\":{},\"id\":\"1111\",\"type\":\"PanTool\"},{\"attributes\":{\"formatter\":{\"id\":\"1141\"},\"major_label_policy\":{\"id\":\"1139\"},\"ticker\":{\"id\":\"1108\"}},\"id\":\"1107\",\"type\":\"LinearAxis\"},{\"attributes\":{},\"id\":\"1143\",\"type\":\"UnionRenderers\"},{\"attributes\":{\"data_source\":{\"id\":\"1091\"},\"glyph\":{\"id\":\"1122\"},\"hover_glyph\":null,\"muted_glyph\":null,\"nonselection_glyph\":{\"id\":\"1123\"},\"view\":{\"id\":\"1125\"}},\"id\":\"1124\",\"type\":\"GlyphRenderer\"},{\"attributes\":{\"formatter\":{\"id\":\"1138\"},\"major_label_policy\":{\"id\":\"1136\"},\"ticker\":{\"id\":\"1104\"}},\"id\":\"1103\",\"type\":\"LinearAxis\"},{\"attributes\":{},\"id\":\"1108\",\"type\":\"BasicTicker\"},{\"attributes\":{},\"id\":\"1112\",\"type\":\"WheelZoomTool\"},{\"attributes\":{\"axis\":{\"id\":\"1103\"},\"ticker\":null},\"id\":\"1106\",\"type\":\"Grid\"},{\"attributes\":{},\"id\":\"1141\",\"type\":\"BasicTickFormatter\"},{\"attributes\":{\"active_multi\":null,\"tools\":[{\"id\":\"1111\"},{\"id\":\"1112\"},{\"id\":\"1113\"},{\"id\":\"1118\"}]},\"id\":\"1114\",\"type\":\"Toolbar\"},{\"attributes\":{\"fill_alpha\":{\"value\":0.6},\"fill_color\":{\"field\":\"digit\",\"transform\":{\"id\":\"1120\"}},\"line_alpha\":{\"value\":0.6},\"line_color\":{\"field\":\"digit\",\"transform\":{\"id\":\"1120\"}},\"size\":{\"value\":7},\"x\":{\"field\":\"x\"},\"y\":{\"field\":\"y\"}},\"id\":\"1122\",\"type\":\"Circle\"}],\"root_ids\":[\"1092\"]},\"title\":\"Bokeh Application\",\"version\":\"2.3.3\"}};\n",
              "  var render_items = [{\"docid\":\"69cc138c-1e09-4d0d-9386-45050aaee5d3\",\"root_ids\":[\"1092\"],\"roots\":{\"1092\":\"0551f284-f75c-4877-971a-74542b64ee7f\"}}];\n",
              "  root.Bokeh.embed.embed_items_notebook(docs_json, render_items);\n",
              "\n",
              "  }\n",
              "  if (root.Bokeh !== undefined) {\n",
              "    embed_document(root);\n",
              "  } else {\n",
              "    var attempts = 0;\n",
              "    var timer = setInterval(function(root) {\n",
              "      if (root.Bokeh !== undefined) {\n",
              "        clearInterval(timer);\n",
              "        embed_document(root);\n",
              "      } else {\n",
              "        attempts++;\n",
              "        if (attempts > 100) {\n",
              "          clearInterval(timer);\n",
              "          console.log(\"Bokeh: ERROR: Unable to run BokehJS code because BokehJS library is missing\");\n",
              "        }\n",
              "      }\n",
              "    }, 10, root)\n",
              "  }\n",
              "})(window);"
            ],
            "application/vnd.bokehjs_exec.v0+json": ""
          },
          "metadata": {
            "application/vnd.bokehjs_exec.v0+json": {
              "id": "1092"
            }
          }
        }
      ]
    },
    {
      "cell_type": "markdown",
      "source": [
        "**Search Attempts on Titles**"
      ],
      "metadata": {
        "id": "L8NfZj21hbrQ"
      }
    },
    {
      "cell_type": "markdown",
      "source": [
        "We are now going to build a very simple semantic search engine on the titles of the articles. This should in theory return the most similar articles for a given query. However, due to memory constraints I'm only going to run it on 200 titles instead of the whole corpus."
      ],
      "metadata": {
        "id": "eWsJQcvfhi0v"
      }
    },
    {
      "cell_type": "code",
      "source": [
        "import collections\n",
        "q1 = \"Research on NOFRF Entropy-Based Detection Method for Early Damage of Pillar Porcelain Insulator\"\n",
        "search_terms = embed_text(q1, model).mean(1)"
      ],
      "metadata": {
        "id": "t4mYatPPe43A"
      },
      "execution_count": 13,
      "outputs": []
    },
    {
      "cell_type": "code",
      "source": [
        "search_terms.shape"
      ],
      "metadata": {
        "colab": {
          "base_uri": "https://localhost:8080/"
        },
        "id": "zb9Bx_2xgGTx",
        "outputId": "adabd6e5-4b00-4d29-c4c7-c93bff2510ad"
      },
      "execution_count": 22,
      "outputs": [
        {
          "output_type": "execute_result",
          "data": {
            "text/plain": [
              "torch.Size([1, 768])"
            ]
          },
          "metadata": {},
          "execution_count": 22
        }
      ]
    },
    {
      "cell_type": "code",
      "source": [
        "def top_n_closest(search_term_embedding, title_embeddings, original_titles, n=10):\n",
        "    proximity_dict = {}\n",
        "    i = 0 \n",
        "    for title_embedding in title_embeddings:\n",
        "        proximity_dict[original_titles[i]] = {\"score\": get_similarity(title_embedding.unsqueeze(0),search_term_embedding), \n",
        "                                              \"title_embedding\":title_embedding.unsqueeze(0)}\n",
        "        i+=1\n",
        "    order_dict = collections.OrderedDict({k: v for k, v in sorted(proximity_dict.items(), key=lambda item: item[1][\"score\"])})\n",
        "    proper_list = list(order_dict.keys())[-n:]\n",
        "    return proper_list, order_dict"
      ],
      "metadata": {
        "id": "9q3hO-PBfHIm"
      },
      "execution_count": 14,
      "outputs": []
    },
    {
      "cell_type": "code",
      "source": [
        "top_titles, order_dict = top_n_closest(search_terms, embed_list2, title_list+title_list2)"
      ],
      "metadata": {
        "id": "jJPoDA3gfJs_"
      },
      "execution_count": 15,
      "outputs": []
    },
    {
      "cell_type": "code",
      "source": [
        "top_titles"
      ],
      "metadata": {
        "colab": {
          "base_uri": "https://localhost:8080/"
        },
        "id": "blQPAl8_fLme",
        "outputId": "d78d1250-109f-40eb-93c4-0ae8d70849ac"
      },
      "execution_count": 16,
      "outputs": [
        {
          "output_type": "execute_result",
          "data": {
            "text/plain": [
              "['Quantized Kalman Filter-Based Pattern Matching for Detection and Tracking of Moving Objects',\n",
              " 'Amniotic Fluid Segmentation by Pixel Classification in B-Mode Ultrasound Image for Computer Assisted Diagnosis',\n",
              " 'A Novel Algorithm for Automatic Text Summarization System Using Lexical Chain',\n",
              " 'Research on Traditional Structure Optimization in Cloud Computing Environment',\n",
              " 'An End-User Pipeline for Scraping and Visualizing Semi-Structured Data over the Web',\n",
              " 'Optical Diagnosis of Colorectal Polyps: Recent Developments',\n",
              " 'Visual SLAM in Human Populated Environments: Exploring the Trade-off between Accuracy and Speed of YOLO and Mask R-CNN',\n",
              " 'Design and Implementation of Color Detection Technique using Fuzzy Logic',\n",
              " 'Adaptable mobile cloud computing environment with code transfer based on machine learning',\n",
              " 'Retweet Prediction Using Context-Aware Coupled Matrix-Tensor Factorization']"
            ]
          },
          "metadata": {},
          "execution_count": 16
        }
      ]
    },
    {
      "cell_type": "code",
      "source": [
        "q2 = \"Quantized Kalman Filter-Based Pattern Matching for Detection and Tracking of Moving Objects\""
      ],
      "metadata": {
        "id": "mx9mCZDRfZlz"
      },
      "execution_count": 18,
      "outputs": []
    },
    {
      "cell_type": "code",
      "source": [
        "search_terms2 = embed_text(q2, model).mean(1)\n",
        "top_titles2, order_dict1 = top_n_closest(search_terms2, embed_list2, title_list + title_list2)\n",
        "top_titles2"
      ],
      "metadata": {
        "colab": {
          "base_uri": "https://localhost:8080/"
        },
        "id": "zSkUqUuIfdm-",
        "outputId": "52a36d5b-c1ca-4a80-cc16-7fa5d6d1d318"
      },
      "execution_count": 19,
      "outputs": [
        {
          "output_type": "execute_result",
          "data": {
            "text/plain": [
              "[\"A Dynamic Microtask Approach to Collecting and Organizing Citizens' Opinions\",\n",
              " 'Bridging the Gap between High-Performance, Cloud and Service-Oriented Computing',\n",
              " 'A Novel fuzzy frame selection based watermarking scheme for MPEG-4 videos using Bi-directional extreme learning machine',\n",
              " 'Visual SLAM in Human Populated Environments: Exploring the Trade-off between Accuracy and Speed of YOLO and Mask R-CNN',\n",
              " 'A new metaheuristic optimization method: the algorithm of the innovative gunner (AIG)',\n",
              " 'Flower snark and related graph’s reverse super edge – Magic labelings',\n",
              " 'Convolutional Neural Network for Satellite Image Classification',\n",
              " 'Two Experiments Comparing Two Four-Step EPMcreate-Based Creativity Techniques for Requirements Elicitation',\n",
              " 'Correlation effects and configuration of a one-dimensional bipolaron',\n",
              " 'Video Abnormal Event Detection Based on ELM']"
            ]
          },
          "metadata": {},
          "execution_count": 19
        }
      ]
    }
  ]
}